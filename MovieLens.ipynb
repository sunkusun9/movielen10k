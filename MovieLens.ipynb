{
  "nbformat": 4,
  "nbformat_minor": 0,
  "metadata": {
    "colab": {
      "name": "MovieLens.ipynb",
      "provenance": [],
      "collapsed_sections": [],
      "toc_visible": true,
      "include_colab_link": true
    },
    "kernelspec": {
      "name": "python3",
      "display_name": "Python 3"
    },
    "accelerator": "GPU"
  },
  "cells": [
    {
      "cell_type": "markdown",
      "metadata": {
        "id": "view-in-github",
        "colab_type": "text"
      },
      "source": [
        "<a href=\"https://colab.research.google.com/github/sunkusun9/movielens10k/blob/main/MovieLens.ipynb\" target=\"_parent\"><img src=\"https://colab.research.google.com/assets/colab-badge.svg\" alt=\"Open In Colab\"/></a>"
      ]
    },
    {
      "cell_type": "markdown",
      "metadata": {
        "id": "aDZkVxojO02l"
      },
      "source": [
        "Movie Lens 100K을 통하여,\n",
        "\n",
        "여러 가지 추천 모델을 적용해보고 성능을 비교해 본다.\n"
      ]
    },
    {
      "cell_type": "markdown",
      "metadata": {
        "id": "JDRUZaI-bRJz"
      },
      "source": [
        "#0.Import"
      ]
    },
    {
      "cell_type": "code",
      "metadata": {
        "id": "Z-K_s51ZNESc"
      },
      "source": [
        "import os, itertools, json\n",
        "import pandas as pd\n",
        "import numpy as np\n",
        "from datetime import datetime\n",
        "import numpy as np\n",
        "import seaborn as sns\n",
        "import matplotlib as mpl\n",
        "import matplotlib.pyplot as plt\n",
        "\n",
        "import tensorflow as tf\n",
        "import lightgbm as lgb"
      ],
      "execution_count": 2,
      "outputs": []
    },
    {
      "cell_type": "markdown",
      "metadata": {
        "id": "eO4PP1xsO_t6"
      },
      "source": [
        "\n",
        "1.   Kaggle에서 MovieLens Dataset을 가져온다.\n",
        "2.   그 다음 압축을 풀고 삭제한다.\n",
        "\n",
        "\n"
      ]
    },
    {
      "cell_type": "markdown",
      "metadata": {
        "id": "pyGkrVahPXXr"
      },
      "source": [
        "# 1.데이터 다운로드 및 확인"
      ]
    },
    {
      "cell_type": "code",
      "metadata": {
        "id": "o_44h0lrN6AE",
        "colab": {
          "base_uri": "https://localhost:8080/"
        },
        "outputId": "f5dddd32-dfe9-4053-9ff0-af8bbc5d08fc"
      },
      "source": [
        "if not os.path.isdir('ml-100k'):\n",
        "  !wget http://files.grouplens.org/datasets/movielens/ml-100k.zip\n",
        "  !unzip ml-100k.zip\n",
        "  !rm ml-100k.zip"
      ],
      "execution_count": 3,
      "outputs": [
        {
          "output_type": "stream",
          "name": "stdout",
          "text": [
            "--2022-01-11 07:50:18--  http://files.grouplens.org/datasets/movielens/ml-100k.zip\n",
            "Resolving files.grouplens.org (files.grouplens.org)... 128.101.65.152\n",
            "Connecting to files.grouplens.org (files.grouplens.org)|128.101.65.152|:80... connected.\n",
            "HTTP request sent, awaiting response... 200 OK\n",
            "Length: 4924029 (4.7M) [application/zip]\n",
            "Saving to: ‘ml-100k.zip’\n",
            "\n",
            "ml-100k.zip         100%[===================>]   4.70M  15.4MB/s    in 0.3s    \n",
            "\n",
            "2022-01-11 07:50:19 (15.4 MB/s) - ‘ml-100k.zip’ saved [4924029/4924029]\n",
            "\n",
            "Archive:  ml-100k.zip\n",
            "   creating: ml-100k/\n",
            "  inflating: ml-100k/allbut.pl       \n",
            "  inflating: ml-100k/mku.sh          \n",
            "  inflating: ml-100k/README          \n",
            "  inflating: ml-100k/u.data          \n",
            "  inflating: ml-100k/u.genre         \n",
            "  inflating: ml-100k/u.info          \n",
            "  inflating: ml-100k/u.item          \n",
            "  inflating: ml-100k/u.occupation    \n",
            "  inflating: ml-100k/u.user          \n",
            "  inflating: ml-100k/u1.base         \n",
            "  inflating: ml-100k/u1.test         \n",
            "  inflating: ml-100k/u2.base         \n",
            "  inflating: ml-100k/u2.test         \n",
            "  inflating: ml-100k/u3.base         \n",
            "  inflating: ml-100k/u3.test         \n",
            "  inflating: ml-100k/u4.base         \n",
            "  inflating: ml-100k/u4.test         \n",
            "  inflating: ml-100k/u5.base         \n",
            "  inflating: ml-100k/u5.test         \n",
            "  inflating: ml-100k/ua.base         \n",
            "  inflating: ml-100k/ua.test         \n",
            "  inflating: ml-100k/ub.base         \n",
            "  inflating: ml-100k/ub.test         \n"
          ]
        }
      ]
    },
    {
      "cell_type": "code",
      "metadata": {
        "id": "hlZg5jVLO1Ms",
        "colab": {
          "base_uri": "https://localhost:8080/"
        },
        "outputId": "e448e7a9-3d37-401d-9f2f-d9202067775a"
      },
      "source": [
        "os.listdir()"
      ],
      "execution_count": 4,
      "outputs": [
        {
          "output_type": "execute_result",
          "data": {
            "text/plain": [
              "['.config', 'ml-100k', 'sample_data']"
            ]
          },
          "metadata": {},
          "execution_count": 4
        }
      ]
    },
    {
      "cell_type": "markdown",
      "metadata": {
        "id": "6tlxzw8LQOdZ"
      },
      "source": [
        "데이터에 기술된 README 파일을 들여다 본다"
      ]
    },
    {
      "cell_type": "code",
      "metadata": {
        "id": "bAMcTawZO5PT",
        "colab": {
          "base_uri": "https://localhost:8080/"
        },
        "outputId": "299a0fe7-ef3f-49b5-8a98-2b8631f52dd6"
      },
      "source": [
        "!cat ml-100k/README"
      ],
      "execution_count": 5,
      "outputs": [
        {
          "output_type": "stream",
          "name": "stdout",
          "text": [
            "SUMMARY & USAGE LICENSE\n",
            "=============================================\n",
            "\n",
            "MovieLens data sets were collected by the GroupLens Research Project\n",
            "at the University of Minnesota.\n",
            " \n",
            "This data set consists of:\n",
            "\t* 100,000 ratings (1-5) from 943 users on 1682 movies. \n",
            "\t* Each user has rated at least 20 movies. \n",
            "        * Simple demographic info for the users (age, gender, occupation, zip)\n",
            "\n",
            "The data was collected through the MovieLens web site\n",
            "(movielens.umn.edu) during the seven-month period from September 19th, \n",
            "1997 through April 22nd, 1998. This data has been cleaned up - users\n",
            "who had less than 20 ratings or did not have complete demographic\n",
            "information were removed from this data set. Detailed descriptions of\n",
            "the data file can be found at the end of this file.\n",
            "\n",
            "Neither the University of Minnesota nor any of the researchers\n",
            "involved can guarantee the correctness of the data, its suitability\n",
            "for any particular purpose, or the validity of results based on the\n",
            "use of the data set.  The data set may be used for any research\n",
            "purposes under the following conditions:\n",
            "\n",
            "     * The user may not state or imply any endorsement from the\n",
            "       University of Minnesota or the GroupLens Research Group.\n",
            "\n",
            "     * The user must acknowledge the use of the data set in\n",
            "       publications resulting from the use of the data set\n",
            "       (see below for citation information).\n",
            "\n",
            "     * The user may not redistribute the data without separate\n",
            "       permission.\n",
            "\n",
            "     * The user may not use this information for any commercial or\n",
            "       revenue-bearing purposes without first obtaining permission\n",
            "       from a faculty member of the GroupLens Research Project at the\n",
            "       University of Minnesota.\n",
            "\n",
            "If you have any further questions or comments, please contact GroupLens\n",
            "<grouplens-info@cs.umn.edu>. \n",
            "\n",
            "CITATION\n",
            "==============================================\n",
            "\n",
            "To acknowledge use of the dataset in publications, please cite the \n",
            "following paper:\n",
            "\n",
            "F. Maxwell Harper and Joseph A. Konstan. 2015. The MovieLens Datasets:\n",
            "History and Context. ACM Transactions on Interactive Intelligent\n",
            "Systems (TiiS) 5, 4, Article 19 (December 2015), 19 pages.\n",
            "DOI=http://dx.doi.org/10.1145/2827872\n",
            "\n",
            "\n",
            "ACKNOWLEDGEMENTS\n",
            "==============================================\n",
            "\n",
            "Thanks to Al Borchers for cleaning up this data and writing the\n",
            "accompanying scripts.\n",
            "\n",
            "PUBLISHED WORK THAT HAS USED THIS DATASET\n",
            "==============================================\n",
            "\n",
            "Herlocker, J., Konstan, J., Borchers, A., Riedl, J.. An Algorithmic\n",
            "Framework for Performing Collaborative Filtering. Proceedings of the\n",
            "1999 Conference on Research and Development in Information\n",
            "Retrieval. Aug. 1999.\n",
            "\n",
            "FURTHER INFORMATION ABOUT THE GROUPLENS RESEARCH PROJECT\n",
            "==============================================\n",
            "\n",
            "The GroupLens Research Project is a research group in the Department\n",
            "of Computer Science and Engineering at the University of Minnesota.\n",
            "Members of the GroupLens Research Project are involved in many\n",
            "research projects related to the fields of information filtering,\n",
            "collaborative filtering, and recommender systems. The project is lead\n",
            "by professors John Riedl and Joseph Konstan. The project began to\n",
            "explore automated collaborative filtering in 1992, but is most well\n",
            "known for its world wide trial of an automated collaborative filtering\n",
            "system for Usenet news in 1996.  The technology developed in the\n",
            "Usenet trial formed the base for the formation of Net Perceptions,\n",
            "Inc., which was founded by members of GroupLens Research. Since then\n",
            "the project has expanded its scope to research overall information\n",
            "filtering solutions, integrating in content-based methods as well as\n",
            "improving current collaborative filtering technology.\n",
            "\n",
            "Further information on the GroupLens Research project, including\n",
            "research publications, can be found at the following web site:\n",
            "        \n",
            "        http://www.grouplens.org/\n",
            "\n",
            "GroupLens Research currently operates a movie recommender based on\n",
            "collaborative filtering:\n",
            "\n",
            "        http://www.movielens.org/\n",
            "\n",
            "DETAILED DESCRIPTIONS OF DATA FILES\n",
            "==============================================\n",
            "\n",
            "Here are brief descriptions of the data.\n",
            "\n",
            "ml-data.tar.gz   -- Compressed tar file.  To rebuild the u data files do this:\n",
            "                gunzip ml-data.tar.gz\n",
            "                tar xvf ml-data.tar\n",
            "                mku.sh\n",
            "\n",
            "u.data     -- The full u data set, 100000 ratings by 943 users on 1682 items.\n",
            "              Each user has rated at least 20 movies.  Users and items are\n",
            "              numbered consecutively from 1.  The data is randomly\n",
            "              ordered. This is a tab separated list of \n",
            "\t         user id | item id | rating | timestamp. \n",
            "              The time stamps are unix seconds since 1/1/1970 UTC   \n",
            "\n",
            "u.info     -- The number of users, items, and ratings in the u data set.\n",
            "\n",
            "u.item     -- Information about the items (movies); this is a tab separated\n",
            "              list of\n",
            "              movie id | movie title | release date | video release date |\n",
            "              IMDb URL | unknown | Action | Adventure | Animation |\n",
            "              Children's | Comedy | Crime | Documentary | Drama | Fantasy |\n",
            "              Film-Noir | Horror | Musical | Mystery | Romance | Sci-Fi |\n",
            "              Thriller | War | Western |\n",
            "              The last 19 fields are the genres, a 1 indicates the movie\n",
            "              is of that genre, a 0 indicates it is not; movies can be in\n",
            "              several genres at once.\n",
            "              The movie ids are the ones used in the u.data data set.\n",
            "\n",
            "u.genre    -- A list of the genres.\n",
            "\n",
            "u.user     -- Demographic information about the users; this is a tab\n",
            "              separated list of\n",
            "              user id | age | gender | occupation | zip code\n",
            "              The user ids are the ones used in the u.data data set.\n",
            "\n",
            "u.occupation -- A list of the occupations.\n",
            "\n",
            "u1.base    -- The data sets u1.base and u1.test through u5.base and u5.test\n",
            "u1.test       are 80%/20% splits of the u data into training and test data.\n",
            "u2.base       Each of u1, ..., u5 have disjoint test sets; this if for\n",
            "u2.test       5 fold cross validation (where you repeat your experiment\n",
            "u3.base       with each training and test set and average the results).\n",
            "u3.test       These data sets can be generated from u.data by mku.sh.\n",
            "u4.base\n",
            "u4.test\n",
            "u5.base\n",
            "u5.test\n",
            "\n",
            "ua.base    -- The data sets ua.base, ua.test, ub.base, and ub.test\n",
            "ua.test       split the u data into a training set and a test set with\n",
            "ub.base       exactly 10 ratings per user in the test set.  The sets\n",
            "ub.test       ua.test and ub.test are disjoint.  These data sets can\n",
            "              be generated from u.data by mku.sh.\n",
            "\n",
            "allbut.pl  -- The script that generates training and test sets where\n",
            "              all but n of a users ratings are in the training data.\n",
            "\n",
            "mku.sh     -- A shell script to generate all the u data sets from u.data.\n"
          ]
        }
      ]
    },
    {
      "cell_type": "markdown",
      "metadata": {
        "id": "bDobGWVmQUbu"
      },
      "source": [
        "요약: \n",
        "* u.data: full dataset(943 users,  1682 items, 각각의 유저는 적어도 20번 이상 평가)\n",
        "* u.info: 데이터수\n",
        "* u.item: item에 대한 정보(item id, 타이틀, 출시일, 비디오 출시일\\, IMdb URL| 장르...)\n",
        "* u.genre: 장르 리스트 \n",
        "* u.user: 사용자 정보(user id, 나이, 성별, 직업, 우편번호)\n",
        "* u.occupation\n",
        "* u(1~5).base test: 5-Fold Cross-validation 데이터셋"
      ]
    },
    {
      "cell_type": "code",
      "metadata": {
        "id": "gk57WBDkqbrp",
        "colab": {
          "base_uri": "https://localhost:8080/"
        },
        "outputId": "6b66f85c-eaf4-4d24-8620-5387df51e81c"
      },
      "source": [
        "!ls -l ml-100k"
      ],
      "execution_count": 6,
      "outputs": [
        {
          "output_type": "stream",
          "name": "stdout",
          "text": [
            "total 15776\n",
            "-rwxr-x--- 1 root root     716 Jul 19  2000 allbut.pl\n",
            "-rwxr-x--- 1 root root     643 Jul 19  2000 mku.sh\n",
            "-rw-r----- 1 root root    6750 Jan 29  2016 README\n",
            "-rw-r----- 1 root root 1586544 Mar  8  2001 u1.base\n",
            "-rw-r----- 1 root root  392629 Mar  8  2001 u1.test\n",
            "-rw-r----- 1 root root 1583948 Mar  8  2001 u2.base\n",
            "-rw-r----- 1 root root  395225 Mar  8  2001 u2.test\n",
            "-rw-r----- 1 root root 1582546 Mar  8  2001 u3.base\n",
            "-rw-r----- 1 root root  396627 Mar  8  2001 u3.test\n",
            "-rw-r----- 1 root root 1581878 Mar  8  2001 u4.base\n",
            "-rw-r----- 1 root root  397295 Mar  8  2001 u4.test\n",
            "-rw-r----- 1 root root 1581776 Mar  8  2001 u5.base\n",
            "-rw-r----- 1 root root  397397 Mar  8  2001 u5.test\n",
            "-rw-r----- 1 root root 1792501 Mar  8  2001 ua.base\n",
            "-rw-r----- 1 root root  186672 Mar  8  2001 ua.test\n",
            "-rw-r----- 1 root root 1792476 Mar  8  2001 ub.base\n",
            "-rw-r----- 1 root root  186697 Mar  8  2001 ub.test\n",
            "-rw-r----- 1 root root 1979173 Jul 19  2000 u.data\n",
            "-rw-r----- 1 root root     202 Jul 19  2000 u.genre\n",
            "-rw-r----- 1 root root      36 Jul 19  2000 u.info\n",
            "-rw-r----- 1 root root  236344 Jul 19  2000 u.item\n",
            "-rw-r----- 1 root root     193 Jul 19  2000 u.occupation\n",
            "-rw-r----- 1 root root   22628 Jul 19  2000 u.user\n"
          ]
        }
      ]
    },
    {
      "cell_type": "code",
      "metadata": {
        "id": "MD1PoodhodYI",
        "colab": {
          "base_uri": "https://localhost:8080/"
        },
        "outputId": "a4e14b4f-381e-461b-92b1-3e4e321e667f"
      },
      "source": [
        "!cat ml-100k/mku.sh"
      ],
      "execution_count": 7,
      "outputs": [
        {
          "output_type": "stream",
          "name": "stdout",
          "text": [
            "#!/bin/sh\n",
            "\n",
            "trap `rm -f tmp.$$; exit 1` 1 2 15\n",
            "\n",
            "for i in 1 2 3 4 5\n",
            "do\n",
            "\thead -`expr $i \\* 20000` u.data | tail -20000 > tmp.$$\n",
            "\tsort -t\"\t\" -k 1,1n -k 2,2n tmp.$$ > u$i.test\n",
            "\thead -`expr \\( $i - 1 \\) \\* 20000` u.data > tmp.$$\n",
            "\ttail -`expr \\( 5 - $i \\) \\* 20000` u.data >> tmp.$$\n",
            "\tsort -t\"\t\" -k 1,1n -k 2,2n tmp.$$ > u$i.base\n",
            "done\n",
            "\n",
            "allbut.pl ua 1 10 100000 u.data\n",
            "sort -t\"\t\" -k 1,1n -k 2,2n ua.base > tmp.$$\n",
            "mv tmp.$$ ua.base\n",
            "sort -t\"\t\" -k 1,1n -k 2,2n ua.test > tmp.$$\n",
            "mv tmp.$$ ua.test\n",
            "\n",
            "allbut.pl ub 11 20 100000 u.data\n",
            "sort -t\"\t\" -k 1,1n -k 2,2n ub.base > tmp.$$\n",
            "mv tmp.$$ ub.base\n",
            "sort -t\"\t\" -k 1,1n -k 2,2n ub.test > tmp.$$\n",
            "mv tmp.$$ ub.test\n",
            "\n"
          ]
        }
      ]
    },
    {
      "cell_type": "code",
      "metadata": {
        "id": "eyVnkyAsoxxV",
        "colab": {
          "base_uri": "https://localhost:8080/"
        },
        "outputId": "c80dafa6-139e-4c01-99e3-0d1ed45d4372"
      },
      "source": [
        "!cat ml-100k/allbut.pl"
      ],
      "execution_count": 8,
      "outputs": [
        {
          "output_type": "stream",
          "name": "stdout",
          "text": [
            "#!/usr/local/bin/perl\n",
            "\n",
            "# get args\n",
            "if (@ARGV < 3) {\n",
            "\tprint STDERR \"Usage: $0 base_name start stop max_test [ratings ...]\\n\";\n",
            "\texit 1;\n",
            "}\n",
            "$basename = shift;\n",
            "$start = shift;\n",
            "$stop = shift;\n",
            "$maxtest = shift;\n",
            "\n",
            "# open files\n",
            "open( TESTFILE, \">$basename.test\" ) or die \"Cannot open $basename.test for writing\\n\";\n",
            "open( BASEFILE, \">$basename.base\" ) or die \"Cannot open $basename.base for writing\\n\";\n",
            "\n",
            "# init variables\n",
            "$testcnt = 0;\n",
            "\n",
            "while (<>) {\n",
            "\t($user) = split;\n",
            "\tif (! defined $ratingcnt{$user}) {\n",
            "\t\t$ratingcnt{$user} = 0;\n",
            "\t}\n",
            "\t++$ratingcnt{$user};\n",
            "\tif (($testcnt < $maxtest || $maxtest <= 0)\n",
            "\t&& $ratingcnt{$user} >= $start && $ratingcnt{$user} <= $stop) {\n",
            "\t\t++$testcnt;\n",
            "\t\tprint TESTFILE;\n",
            "\t}\n",
            "\telse {\n",
            "\t\tprint BASEFILE;\n",
            "\t}\n",
            "}\n"
          ]
        }
      ]
    },
    {
      "cell_type": "code",
      "metadata": {
        "id": "OU2TCbHePo-q",
        "colab": {
          "base_uri": "https://localhost:8080/"
        },
        "outputId": "e912b057-44e5-4524-b164-2d1ec88a6ab2"
      },
      "source": [
        "!cat ml-100k/u.info"
      ],
      "execution_count": 9,
      "outputs": [
        {
          "output_type": "stream",
          "name": "stdout",
          "text": [
            "943 users\n",
            "1682 items\n",
            "100000 ratings\n"
          ]
        }
      ]
    },
    {
      "cell_type": "code",
      "metadata": {
        "id": "XS2aovr0P8BQ"
      },
      "source": [
        "#!cat ml-100k/u.item"
      ],
      "execution_count": 10,
      "outputs": []
    },
    {
      "cell_type": "markdown",
      "metadata": {
        "id": "y4cwhI_KSWOD"
      },
      "source": [
        "|로 구분된 파일\n",
        "디코딩에러가 나는 걸로 보아, 텍스트 형식이 utf-8이 아닌 것으로 보인다.\n",
        "DataFrame으로 읽어 보자."
      ]
    },
    {
      "cell_type": "code",
      "metadata": {
        "id": "C41eqBMhWD74",
        "colab": {
          "base_uri": "https://localhost:8080/"
        },
        "outputId": "6dc36e11-46f1-45d9-ef71-df01a8eb659f"
      },
      "source": [
        "!cat ml-100k/u.genre"
      ],
      "execution_count": 11,
      "outputs": [
        {
          "output_type": "stream",
          "name": "stdout",
          "text": [
            "unknown|0\n",
            "Action|1\n",
            "Adventure|2\n",
            "Animation|3\n",
            "Children's|4\n",
            "Comedy|5\n",
            "Crime|6\n",
            "Documentary|7\n",
            "Drama|8\n",
            "Fantasy|9\n",
            "Film-Noir|10\n",
            "Horror|11\n",
            "Musical|12\n",
            "Mystery|13\n",
            "Romance|14\n",
            "Sci-Fi|15\n",
            "Thriller|16\n",
            "War|17\n",
            "Western|18\n",
            "\n"
          ]
        }
      ]
    },
    {
      "cell_type": "code",
      "metadata": {
        "id": "wryR1OwUX1mm",
        "colab": {
          "base_uri": "https://localhost:8080/"
        },
        "outputId": "0f06fe0e-2bc7-4f3f-bd30-9bb2df2e7b43"
      },
      "source": [
        "!head ml-100k/u.user"
      ],
      "execution_count": 12,
      "outputs": [
        {
          "output_type": "stream",
          "name": "stdout",
          "text": [
            "1|24|M|technician|85711\n",
            "2|53|F|other|94043\n",
            "3|23|M|writer|32067\n",
            "4|24|M|technician|43537\n",
            "5|33|F|other|15213\n",
            "6|42|M|executive|98101\n",
            "7|57|M|administrator|91344\n",
            "8|36|M|administrator|05201\n",
            "9|29|M|student|01002\n",
            "10|53|M|lawyer|90703\n"
          ]
        }
      ]
    },
    {
      "cell_type": "code",
      "metadata": {
        "id": "4sMSEbliCjID",
        "colab": {
          "base_uri": "https://localhost:8080/"
        },
        "outputId": "cb966b12-0021-462f-9832-751b0f712959"
      },
      "source": [
        "!head ml-100k/u.data"
      ],
      "execution_count": 13,
      "outputs": [
        {
          "output_type": "stream",
          "name": "stdout",
          "text": [
            "196\t242\t3\t881250949\n",
            "186\t302\t3\t891717742\n",
            "22\t377\t1\t878887116\n",
            "244\t51\t2\t880606923\n",
            "166\t346\t1\t886397596\n",
            "298\t474\t4\t884182806\n",
            "115\t265\t2\t881171488\n",
            "253\t465\t5\t891628467\n",
            "305\t451\t3\t886324817\n",
            "6\t86\t3\t883603013\n"
          ]
        }
      ]
    },
    {
      "cell_type": "markdown",
      "metadata": {
        "id": "HUW_UqU9QAaG"
      },
      "source": [
        "# 2.데이터 로드 및 전처리"
      ]
    },
    {
      "cell_type": "code",
      "metadata": {
        "id": "RsE6soBqAqcJ"
      },
      "source": [
        "# 장르 리스트 로드\n",
        "df_genre = pd.read_csv('ml-100k/u.genre', delimiter='|', encoding='latin-1', names=['genre', 'no'])\n",
        "genre = list(df_genre['genre'])\n",
        "# 직업 리스트 로드\n",
        "df_occ = pd.read_csv('ml-100k/u.occupation', delimiter='|', encoding='latin-1', names=['occupation'])\n",
        "occupation = list(df_occ['occupation'])"
      ],
      "execution_count": 14,
      "outputs": []
    },
    {
      "cell_type": "code",
      "metadata": {
        "id": "NI7cwm28SJCB"
      },
      "source": [
        "# 컬럼명, 'IMDb URL' 이후의 컬럼은 장르를 나타낸다\n",
        "i_cols = ['item id', 'title' ,'release date','video release date', 'IMDb URL'] + genre\n",
        "# 장르는 0 또는 1 이므로 타입은 int8로 하여 용량을 줄인다.\n",
        "dtype = {i : np.int8 for i in genre}\n",
        "# delimiter를 |fh encoding을 latin-1로 한다.\n",
        "df_item = pd.read_csv('ml-100k/u.item', delimiter='|', encoding='latin-1', names=i_cols, index_col='item id', dtype=dtype)"
      ],
      "execution_count": 15,
      "outputs": []
    },
    {
      "cell_type": "code",
      "metadata": {
        "id": "uX-KU7GxS5oD",
        "colab": {
          "base_uri": "https://localhost:8080/",
          "height": 475
        },
        "outputId": "77856f7c-89eb-4d7f-c75c-90fe8c7c685e"
      },
      "source": [
        "# 처음 5개만 보자\n",
        "df_item.head(5)"
      ],
      "execution_count": 16,
      "outputs": [
        {
          "output_type": "execute_result",
          "data": {
            "text/html": [
              "\n",
              "  <div id=\"df-c00a0b91-5170-4f5f-b53b-bdecd20ff208\">\n",
              "    <div class=\"colab-df-container\">\n",
              "      <div>\n",
              "<style scoped>\n",
              "    .dataframe tbody tr th:only-of-type {\n",
              "        vertical-align: middle;\n",
              "    }\n",
              "\n",
              "    .dataframe tbody tr th {\n",
              "        vertical-align: top;\n",
              "    }\n",
              "\n",
              "    .dataframe thead th {\n",
              "        text-align: right;\n",
              "    }\n",
              "</style>\n",
              "<table border=\"1\" class=\"dataframe\">\n",
              "  <thead>\n",
              "    <tr style=\"text-align: right;\">\n",
              "      <th></th>\n",
              "      <th>title</th>\n",
              "      <th>release date</th>\n",
              "      <th>video release date</th>\n",
              "      <th>IMDb URL</th>\n",
              "      <th>unknown</th>\n",
              "      <th>Action</th>\n",
              "      <th>Adventure</th>\n",
              "      <th>Animation</th>\n",
              "      <th>Children's</th>\n",
              "      <th>Comedy</th>\n",
              "      <th>Crime</th>\n",
              "      <th>Documentary</th>\n",
              "      <th>Drama</th>\n",
              "      <th>Fantasy</th>\n",
              "      <th>Film-Noir</th>\n",
              "      <th>Horror</th>\n",
              "      <th>Musical</th>\n",
              "      <th>Mystery</th>\n",
              "      <th>Romance</th>\n",
              "      <th>Sci-Fi</th>\n",
              "      <th>Thriller</th>\n",
              "      <th>War</th>\n",
              "      <th>Western</th>\n",
              "    </tr>\n",
              "    <tr>\n",
              "      <th>item id</th>\n",
              "      <th></th>\n",
              "      <th></th>\n",
              "      <th></th>\n",
              "      <th></th>\n",
              "      <th></th>\n",
              "      <th></th>\n",
              "      <th></th>\n",
              "      <th></th>\n",
              "      <th></th>\n",
              "      <th></th>\n",
              "      <th></th>\n",
              "      <th></th>\n",
              "      <th></th>\n",
              "      <th></th>\n",
              "      <th></th>\n",
              "      <th></th>\n",
              "      <th></th>\n",
              "      <th></th>\n",
              "      <th></th>\n",
              "      <th></th>\n",
              "      <th></th>\n",
              "      <th></th>\n",
              "      <th></th>\n",
              "    </tr>\n",
              "  </thead>\n",
              "  <tbody>\n",
              "    <tr>\n",
              "      <th>1</th>\n",
              "      <td>Toy Story (1995)</td>\n",
              "      <td>01-Jan-1995</td>\n",
              "      <td>NaN</td>\n",
              "      <td>http://us.imdb.com/M/title-exact?Toy%20Story%2...</td>\n",
              "      <td>0</td>\n",
              "      <td>0</td>\n",
              "      <td>0</td>\n",
              "      <td>1</td>\n",
              "      <td>1</td>\n",
              "      <td>1</td>\n",
              "      <td>0</td>\n",
              "      <td>0</td>\n",
              "      <td>0</td>\n",
              "      <td>0</td>\n",
              "      <td>0</td>\n",
              "      <td>0</td>\n",
              "      <td>0</td>\n",
              "      <td>0</td>\n",
              "      <td>0</td>\n",
              "      <td>0</td>\n",
              "      <td>0</td>\n",
              "      <td>0</td>\n",
              "      <td>0</td>\n",
              "    </tr>\n",
              "    <tr>\n",
              "      <th>2</th>\n",
              "      <td>GoldenEye (1995)</td>\n",
              "      <td>01-Jan-1995</td>\n",
              "      <td>NaN</td>\n",
              "      <td>http://us.imdb.com/M/title-exact?GoldenEye%20(...</td>\n",
              "      <td>0</td>\n",
              "      <td>1</td>\n",
              "      <td>1</td>\n",
              "      <td>0</td>\n",
              "      <td>0</td>\n",
              "      <td>0</td>\n",
              "      <td>0</td>\n",
              "      <td>0</td>\n",
              "      <td>0</td>\n",
              "      <td>0</td>\n",
              "      <td>0</td>\n",
              "      <td>0</td>\n",
              "      <td>0</td>\n",
              "      <td>0</td>\n",
              "      <td>0</td>\n",
              "      <td>0</td>\n",
              "      <td>1</td>\n",
              "      <td>0</td>\n",
              "      <td>0</td>\n",
              "    </tr>\n",
              "    <tr>\n",
              "      <th>3</th>\n",
              "      <td>Four Rooms (1995)</td>\n",
              "      <td>01-Jan-1995</td>\n",
              "      <td>NaN</td>\n",
              "      <td>http://us.imdb.com/M/title-exact?Four%20Rooms%...</td>\n",
              "      <td>0</td>\n",
              "      <td>0</td>\n",
              "      <td>0</td>\n",
              "      <td>0</td>\n",
              "      <td>0</td>\n",
              "      <td>0</td>\n",
              "      <td>0</td>\n",
              "      <td>0</td>\n",
              "      <td>0</td>\n",
              "      <td>0</td>\n",
              "      <td>0</td>\n",
              "      <td>0</td>\n",
              "      <td>0</td>\n",
              "      <td>0</td>\n",
              "      <td>0</td>\n",
              "      <td>0</td>\n",
              "      <td>1</td>\n",
              "      <td>0</td>\n",
              "      <td>0</td>\n",
              "    </tr>\n",
              "    <tr>\n",
              "      <th>4</th>\n",
              "      <td>Get Shorty (1995)</td>\n",
              "      <td>01-Jan-1995</td>\n",
              "      <td>NaN</td>\n",
              "      <td>http://us.imdb.com/M/title-exact?Get%20Shorty%...</td>\n",
              "      <td>0</td>\n",
              "      <td>1</td>\n",
              "      <td>0</td>\n",
              "      <td>0</td>\n",
              "      <td>0</td>\n",
              "      <td>1</td>\n",
              "      <td>0</td>\n",
              "      <td>0</td>\n",
              "      <td>1</td>\n",
              "      <td>0</td>\n",
              "      <td>0</td>\n",
              "      <td>0</td>\n",
              "      <td>0</td>\n",
              "      <td>0</td>\n",
              "      <td>0</td>\n",
              "      <td>0</td>\n",
              "      <td>0</td>\n",
              "      <td>0</td>\n",
              "      <td>0</td>\n",
              "    </tr>\n",
              "    <tr>\n",
              "      <th>5</th>\n",
              "      <td>Copycat (1995)</td>\n",
              "      <td>01-Jan-1995</td>\n",
              "      <td>NaN</td>\n",
              "      <td>http://us.imdb.com/M/title-exact?Copycat%20(1995)</td>\n",
              "      <td>0</td>\n",
              "      <td>0</td>\n",
              "      <td>0</td>\n",
              "      <td>0</td>\n",
              "      <td>0</td>\n",
              "      <td>0</td>\n",
              "      <td>1</td>\n",
              "      <td>0</td>\n",
              "      <td>1</td>\n",
              "      <td>0</td>\n",
              "      <td>0</td>\n",
              "      <td>0</td>\n",
              "      <td>0</td>\n",
              "      <td>0</td>\n",
              "      <td>0</td>\n",
              "      <td>0</td>\n",
              "      <td>1</td>\n",
              "      <td>0</td>\n",
              "      <td>0</td>\n",
              "    </tr>\n",
              "  </tbody>\n",
              "</table>\n",
              "</div>\n",
              "      <button class=\"colab-df-convert\" onclick=\"convertToInteractive('df-c00a0b91-5170-4f5f-b53b-bdecd20ff208')\"\n",
              "              title=\"Convert this dataframe to an interactive table.\"\n",
              "              style=\"display:none;\">\n",
              "        \n",
              "  <svg xmlns=\"http://www.w3.org/2000/svg\" height=\"24px\"viewBox=\"0 0 24 24\"\n",
              "       width=\"24px\">\n",
              "    <path d=\"M0 0h24v24H0V0z\" fill=\"none\"/>\n",
              "    <path d=\"M18.56 5.44l.94 2.06.94-2.06 2.06-.94-2.06-.94-.94-2.06-.94 2.06-2.06.94zm-11 1L8.5 8.5l.94-2.06 2.06-.94-2.06-.94L8.5 2.5l-.94 2.06-2.06.94zm10 10l.94 2.06.94-2.06 2.06-.94-2.06-.94-.94-2.06-.94 2.06-2.06.94z\"/><path d=\"M17.41 7.96l-1.37-1.37c-.4-.4-.92-.59-1.43-.59-.52 0-1.04.2-1.43.59L10.3 9.45l-7.72 7.72c-.78.78-.78 2.05 0 2.83L4 21.41c.39.39.9.59 1.41.59.51 0 1.02-.2 1.41-.59l7.78-7.78 2.81-2.81c.8-.78.8-2.07 0-2.86zM5.41 20L4 18.59l7.72-7.72 1.47 1.35L5.41 20z\"/>\n",
              "  </svg>\n",
              "      </button>\n",
              "      \n",
              "  <style>\n",
              "    .colab-df-container {\n",
              "      display:flex;\n",
              "      flex-wrap:wrap;\n",
              "      gap: 12px;\n",
              "    }\n",
              "\n",
              "    .colab-df-convert {\n",
              "      background-color: #E8F0FE;\n",
              "      border: none;\n",
              "      border-radius: 50%;\n",
              "      cursor: pointer;\n",
              "      display: none;\n",
              "      fill: #1967D2;\n",
              "      height: 32px;\n",
              "      padding: 0 0 0 0;\n",
              "      width: 32px;\n",
              "    }\n",
              "\n",
              "    .colab-df-convert:hover {\n",
              "      background-color: #E2EBFA;\n",
              "      box-shadow: 0px 1px 2px rgba(60, 64, 67, 0.3), 0px 1px 3px 1px rgba(60, 64, 67, 0.15);\n",
              "      fill: #174EA6;\n",
              "    }\n",
              "\n",
              "    [theme=dark] .colab-df-convert {\n",
              "      background-color: #3B4455;\n",
              "      fill: #D2E3FC;\n",
              "    }\n",
              "\n",
              "    [theme=dark] .colab-df-convert:hover {\n",
              "      background-color: #434B5C;\n",
              "      box-shadow: 0px 1px 3px 1px rgba(0, 0, 0, 0.15);\n",
              "      filter: drop-shadow(0px 1px 2px rgba(0, 0, 0, 0.3));\n",
              "      fill: #FFFFFF;\n",
              "    }\n",
              "  </style>\n",
              "\n",
              "      <script>\n",
              "        const buttonEl =\n",
              "          document.querySelector('#df-c00a0b91-5170-4f5f-b53b-bdecd20ff208 button.colab-df-convert');\n",
              "        buttonEl.style.display =\n",
              "          google.colab.kernel.accessAllowed ? 'block' : 'none';\n",
              "\n",
              "        async function convertToInteractive(key) {\n",
              "          const element = document.querySelector('#df-c00a0b91-5170-4f5f-b53b-bdecd20ff208');\n",
              "          const dataTable =\n",
              "            await google.colab.kernel.invokeFunction('convertToInteractive',\n",
              "                                                     [key], {});\n",
              "          if (!dataTable) return;\n",
              "\n",
              "          const docLinkHtml = 'Like what you see? Visit the ' +\n",
              "            '<a target=\"_blank\" href=https://colab.research.google.com/notebooks/data_table.ipynb>data table notebook</a>'\n",
              "            + ' to learn more about interactive tables.';\n",
              "          element.innerHTML = '';\n",
              "          dataTable['output_type'] = 'display_data';\n",
              "          await google.colab.output.renderOutput(dataTable, element);\n",
              "          const docLink = document.createElement('div');\n",
              "          docLink.innerHTML = docLinkHtml;\n",
              "          element.appendChild(docLink);\n",
              "        }\n",
              "      </script>\n",
              "    </div>\n",
              "  </div>\n",
              "  "
            ],
            "text/plain": [
              "                     title release date  ...  War Western\n",
              "item id                                  ...             \n",
              "1         Toy Story (1995)  01-Jan-1995  ...    0       0\n",
              "2         GoldenEye (1995)  01-Jan-1995  ...    0       0\n",
              "3        Four Rooms (1995)  01-Jan-1995  ...    0       0\n",
              "4        Get Shorty (1995)  01-Jan-1995  ...    0       0\n",
              "5           Copycat (1995)  01-Jan-1995  ...    0       0\n",
              "\n",
              "[5 rows x 23 columns]"
            ]
          },
          "metadata": {},
          "execution_count": 16
        }
      ]
    },
    {
      "cell_type": "markdown",
      "metadata": {
        "id": "J6IX9ROpZ7Mm"
      },
      "source": [
        "장르를 복수로 지정로 지정이 돼있다."
      ]
    },
    {
      "cell_type": "code",
      "metadata": {
        "id": "uQP0S-Abaco0",
        "colab": {
          "base_uri": "https://localhost:8080/",
          "height": 197
        },
        "outputId": "75e9b304-5990-4446-a077-5d8986874f3c"
      },
      "source": [
        "df_item[~np.isnan(df_item['video release date'])]"
      ],
      "execution_count": 17,
      "outputs": [
        {
          "output_type": "execute_result",
          "data": {
            "text/html": [
              "\n",
              "  <div id=\"df-de3807b7-ceae-454d-9efe-983d112bdcd2\">\n",
              "    <div class=\"colab-df-container\">\n",
              "      <div>\n",
              "<style scoped>\n",
              "    .dataframe tbody tr th:only-of-type {\n",
              "        vertical-align: middle;\n",
              "    }\n",
              "\n",
              "    .dataframe tbody tr th {\n",
              "        vertical-align: top;\n",
              "    }\n",
              "\n",
              "    .dataframe thead th {\n",
              "        text-align: right;\n",
              "    }\n",
              "</style>\n",
              "<table border=\"1\" class=\"dataframe\">\n",
              "  <thead>\n",
              "    <tr style=\"text-align: right;\">\n",
              "      <th></th>\n",
              "      <th>title</th>\n",
              "      <th>release date</th>\n",
              "      <th>video release date</th>\n",
              "      <th>IMDb URL</th>\n",
              "      <th>unknown</th>\n",
              "      <th>Action</th>\n",
              "      <th>Adventure</th>\n",
              "      <th>Animation</th>\n",
              "      <th>Children's</th>\n",
              "      <th>Comedy</th>\n",
              "      <th>Crime</th>\n",
              "      <th>Documentary</th>\n",
              "      <th>Drama</th>\n",
              "      <th>Fantasy</th>\n",
              "      <th>Film-Noir</th>\n",
              "      <th>Horror</th>\n",
              "      <th>Musical</th>\n",
              "      <th>Mystery</th>\n",
              "      <th>Romance</th>\n",
              "      <th>Sci-Fi</th>\n",
              "      <th>Thriller</th>\n",
              "      <th>War</th>\n",
              "      <th>Western</th>\n",
              "    </tr>\n",
              "    <tr>\n",
              "      <th>item id</th>\n",
              "      <th></th>\n",
              "      <th></th>\n",
              "      <th></th>\n",
              "      <th></th>\n",
              "      <th></th>\n",
              "      <th></th>\n",
              "      <th></th>\n",
              "      <th></th>\n",
              "      <th></th>\n",
              "      <th></th>\n",
              "      <th></th>\n",
              "      <th></th>\n",
              "      <th></th>\n",
              "      <th></th>\n",
              "      <th></th>\n",
              "      <th></th>\n",
              "      <th></th>\n",
              "      <th></th>\n",
              "      <th></th>\n",
              "      <th></th>\n",
              "      <th></th>\n",
              "      <th></th>\n",
              "      <th></th>\n",
              "    </tr>\n",
              "  </thead>\n",
              "  <tbody>\n",
              "  </tbody>\n",
              "</table>\n",
              "</div>\n",
              "      <button class=\"colab-df-convert\" onclick=\"convertToInteractive('df-de3807b7-ceae-454d-9efe-983d112bdcd2')\"\n",
              "              title=\"Convert this dataframe to an interactive table.\"\n",
              "              style=\"display:none;\">\n",
              "        \n",
              "  <svg xmlns=\"http://www.w3.org/2000/svg\" height=\"24px\"viewBox=\"0 0 24 24\"\n",
              "       width=\"24px\">\n",
              "    <path d=\"M0 0h24v24H0V0z\" fill=\"none\"/>\n",
              "    <path d=\"M18.56 5.44l.94 2.06.94-2.06 2.06-.94-2.06-.94-.94-2.06-.94 2.06-2.06.94zm-11 1L8.5 8.5l.94-2.06 2.06-.94-2.06-.94L8.5 2.5l-.94 2.06-2.06.94zm10 10l.94 2.06.94-2.06 2.06-.94-2.06-.94-.94-2.06-.94 2.06-2.06.94z\"/><path d=\"M17.41 7.96l-1.37-1.37c-.4-.4-.92-.59-1.43-.59-.52 0-1.04.2-1.43.59L10.3 9.45l-7.72 7.72c-.78.78-.78 2.05 0 2.83L4 21.41c.39.39.9.59 1.41.59.51 0 1.02-.2 1.41-.59l7.78-7.78 2.81-2.81c.8-.78.8-2.07 0-2.86zM5.41 20L4 18.59l7.72-7.72 1.47 1.35L5.41 20z\"/>\n",
              "  </svg>\n",
              "      </button>\n",
              "      \n",
              "  <style>\n",
              "    .colab-df-container {\n",
              "      display:flex;\n",
              "      flex-wrap:wrap;\n",
              "      gap: 12px;\n",
              "    }\n",
              "\n",
              "    .colab-df-convert {\n",
              "      background-color: #E8F0FE;\n",
              "      border: none;\n",
              "      border-radius: 50%;\n",
              "      cursor: pointer;\n",
              "      display: none;\n",
              "      fill: #1967D2;\n",
              "      height: 32px;\n",
              "      padding: 0 0 0 0;\n",
              "      width: 32px;\n",
              "    }\n",
              "\n",
              "    .colab-df-convert:hover {\n",
              "      background-color: #E2EBFA;\n",
              "      box-shadow: 0px 1px 2px rgba(60, 64, 67, 0.3), 0px 1px 3px 1px rgba(60, 64, 67, 0.15);\n",
              "      fill: #174EA6;\n",
              "    }\n",
              "\n",
              "    [theme=dark] .colab-df-convert {\n",
              "      background-color: #3B4455;\n",
              "      fill: #D2E3FC;\n",
              "    }\n",
              "\n",
              "    [theme=dark] .colab-df-convert:hover {\n",
              "      background-color: #434B5C;\n",
              "      box-shadow: 0px 1px 3px 1px rgba(0, 0, 0, 0.15);\n",
              "      filter: drop-shadow(0px 1px 2px rgba(0, 0, 0, 0.3));\n",
              "      fill: #FFFFFF;\n",
              "    }\n",
              "  </style>\n",
              "\n",
              "      <script>\n",
              "        const buttonEl =\n",
              "          document.querySelector('#df-de3807b7-ceae-454d-9efe-983d112bdcd2 button.colab-df-convert');\n",
              "        buttonEl.style.display =\n",
              "          google.colab.kernel.accessAllowed ? 'block' : 'none';\n",
              "\n",
              "        async function convertToInteractive(key) {\n",
              "          const element = document.querySelector('#df-de3807b7-ceae-454d-9efe-983d112bdcd2');\n",
              "          const dataTable =\n",
              "            await google.colab.kernel.invokeFunction('convertToInteractive',\n",
              "                                                     [key], {});\n",
              "          if (!dataTable) return;\n",
              "\n",
              "          const docLinkHtml = 'Like what you see? Visit the ' +\n",
              "            '<a target=\"_blank\" href=https://colab.research.google.com/notebooks/data_table.ipynb>data table notebook</a>'\n",
              "            + ' to learn more about interactive tables.';\n",
              "          element.innerHTML = '';\n",
              "          dataTable['output_type'] = 'display_data';\n",
              "          await google.colab.output.renderOutput(dataTable, element);\n",
              "          const docLink = document.createElement('div');\n",
              "          docLink.innerHTML = docLinkHtml;\n",
              "          element.appendChild(docLink);\n",
              "        }\n",
              "      </script>\n",
              "    </div>\n",
              "  </div>\n",
              "  "
            ],
            "text/plain": [
              "Empty DataFrame\n",
              "Columns: [title, release date, video release date, IMDb URL, unknown, Action, Adventure, Animation, Children's, Comedy, Crime, Documentary, Drama, Fantasy, Film-Noir, Horror, Musical, Mystery, Romance, Sci-Fi, Thriller, War, Western]\n",
              "Index: []"
            ]
          },
          "metadata": {},
          "execution_count": 17
        }
      ]
    },
    {
      "cell_type": "code",
      "metadata": {
        "id": "sbLPAeDs3bki",
        "colab": {
          "base_uri": "https://localhost:8080/",
          "height": 228
        },
        "outputId": "464dd7d0-80c6-4571-bc0c-0291a46a8dff"
      },
      "source": [
        "df_item[df_item['release date'].isnull()]"
      ],
      "execution_count": 18,
      "outputs": [
        {
          "output_type": "execute_result",
          "data": {
            "text/html": [
              "\n",
              "  <div id=\"df-ede8fee6-f59a-464f-8a5f-49054e1076ba\">\n",
              "    <div class=\"colab-df-container\">\n",
              "      <div>\n",
              "<style scoped>\n",
              "    .dataframe tbody tr th:only-of-type {\n",
              "        vertical-align: middle;\n",
              "    }\n",
              "\n",
              "    .dataframe tbody tr th {\n",
              "        vertical-align: top;\n",
              "    }\n",
              "\n",
              "    .dataframe thead th {\n",
              "        text-align: right;\n",
              "    }\n",
              "</style>\n",
              "<table border=\"1\" class=\"dataframe\">\n",
              "  <thead>\n",
              "    <tr style=\"text-align: right;\">\n",
              "      <th></th>\n",
              "      <th>title</th>\n",
              "      <th>release date</th>\n",
              "      <th>video release date</th>\n",
              "      <th>IMDb URL</th>\n",
              "      <th>unknown</th>\n",
              "      <th>Action</th>\n",
              "      <th>Adventure</th>\n",
              "      <th>Animation</th>\n",
              "      <th>Children's</th>\n",
              "      <th>Comedy</th>\n",
              "      <th>Crime</th>\n",
              "      <th>Documentary</th>\n",
              "      <th>Drama</th>\n",
              "      <th>Fantasy</th>\n",
              "      <th>Film-Noir</th>\n",
              "      <th>Horror</th>\n",
              "      <th>Musical</th>\n",
              "      <th>Mystery</th>\n",
              "      <th>Romance</th>\n",
              "      <th>Sci-Fi</th>\n",
              "      <th>Thriller</th>\n",
              "      <th>War</th>\n",
              "      <th>Western</th>\n",
              "    </tr>\n",
              "    <tr>\n",
              "      <th>item id</th>\n",
              "      <th></th>\n",
              "      <th></th>\n",
              "      <th></th>\n",
              "      <th></th>\n",
              "      <th></th>\n",
              "      <th></th>\n",
              "      <th></th>\n",
              "      <th></th>\n",
              "      <th></th>\n",
              "      <th></th>\n",
              "      <th></th>\n",
              "      <th></th>\n",
              "      <th></th>\n",
              "      <th></th>\n",
              "      <th></th>\n",
              "      <th></th>\n",
              "      <th></th>\n",
              "      <th></th>\n",
              "      <th></th>\n",
              "      <th></th>\n",
              "      <th></th>\n",
              "      <th></th>\n",
              "      <th></th>\n",
              "    </tr>\n",
              "  </thead>\n",
              "  <tbody>\n",
              "    <tr>\n",
              "      <th>267</th>\n",
              "      <td>unknown</td>\n",
              "      <td>NaN</td>\n",
              "      <td>NaN</td>\n",
              "      <td>NaN</td>\n",
              "      <td>1</td>\n",
              "      <td>0</td>\n",
              "      <td>0</td>\n",
              "      <td>0</td>\n",
              "      <td>0</td>\n",
              "      <td>0</td>\n",
              "      <td>0</td>\n",
              "      <td>0</td>\n",
              "      <td>0</td>\n",
              "      <td>0</td>\n",
              "      <td>0</td>\n",
              "      <td>0</td>\n",
              "      <td>0</td>\n",
              "      <td>0</td>\n",
              "      <td>0</td>\n",
              "      <td>0</td>\n",
              "      <td>0</td>\n",
              "      <td>0</td>\n",
              "      <td>0</td>\n",
              "    </tr>\n",
              "  </tbody>\n",
              "</table>\n",
              "</div>\n",
              "      <button class=\"colab-df-convert\" onclick=\"convertToInteractive('df-ede8fee6-f59a-464f-8a5f-49054e1076ba')\"\n",
              "              title=\"Convert this dataframe to an interactive table.\"\n",
              "              style=\"display:none;\">\n",
              "        \n",
              "  <svg xmlns=\"http://www.w3.org/2000/svg\" height=\"24px\"viewBox=\"0 0 24 24\"\n",
              "       width=\"24px\">\n",
              "    <path d=\"M0 0h24v24H0V0z\" fill=\"none\"/>\n",
              "    <path d=\"M18.56 5.44l.94 2.06.94-2.06 2.06-.94-2.06-.94-.94-2.06-.94 2.06-2.06.94zm-11 1L8.5 8.5l.94-2.06 2.06-.94-2.06-.94L8.5 2.5l-.94 2.06-2.06.94zm10 10l.94 2.06.94-2.06 2.06-.94-2.06-.94-.94-2.06-.94 2.06-2.06.94z\"/><path d=\"M17.41 7.96l-1.37-1.37c-.4-.4-.92-.59-1.43-.59-.52 0-1.04.2-1.43.59L10.3 9.45l-7.72 7.72c-.78.78-.78 2.05 0 2.83L4 21.41c.39.39.9.59 1.41.59.51 0 1.02-.2 1.41-.59l7.78-7.78 2.81-2.81c.8-.78.8-2.07 0-2.86zM5.41 20L4 18.59l7.72-7.72 1.47 1.35L5.41 20z\"/>\n",
              "  </svg>\n",
              "      </button>\n",
              "      \n",
              "  <style>\n",
              "    .colab-df-container {\n",
              "      display:flex;\n",
              "      flex-wrap:wrap;\n",
              "      gap: 12px;\n",
              "    }\n",
              "\n",
              "    .colab-df-convert {\n",
              "      background-color: #E8F0FE;\n",
              "      border: none;\n",
              "      border-radius: 50%;\n",
              "      cursor: pointer;\n",
              "      display: none;\n",
              "      fill: #1967D2;\n",
              "      height: 32px;\n",
              "      padding: 0 0 0 0;\n",
              "      width: 32px;\n",
              "    }\n",
              "\n",
              "    .colab-df-convert:hover {\n",
              "      background-color: #E2EBFA;\n",
              "      box-shadow: 0px 1px 2px rgba(60, 64, 67, 0.3), 0px 1px 3px 1px rgba(60, 64, 67, 0.15);\n",
              "      fill: #174EA6;\n",
              "    }\n",
              "\n",
              "    [theme=dark] .colab-df-convert {\n",
              "      background-color: #3B4455;\n",
              "      fill: #D2E3FC;\n",
              "    }\n",
              "\n",
              "    [theme=dark] .colab-df-convert:hover {\n",
              "      background-color: #434B5C;\n",
              "      box-shadow: 0px 1px 3px 1px rgba(0, 0, 0, 0.15);\n",
              "      filter: drop-shadow(0px 1px 2px rgba(0, 0, 0, 0.3));\n",
              "      fill: #FFFFFF;\n",
              "    }\n",
              "  </style>\n",
              "\n",
              "      <script>\n",
              "        const buttonEl =\n",
              "          document.querySelector('#df-ede8fee6-f59a-464f-8a5f-49054e1076ba button.colab-df-convert');\n",
              "        buttonEl.style.display =\n",
              "          google.colab.kernel.accessAllowed ? 'block' : 'none';\n",
              "\n",
              "        async function convertToInteractive(key) {\n",
              "          const element = document.querySelector('#df-ede8fee6-f59a-464f-8a5f-49054e1076ba');\n",
              "          const dataTable =\n",
              "            await google.colab.kernel.invokeFunction('convertToInteractive',\n",
              "                                                     [key], {});\n",
              "          if (!dataTable) return;\n",
              "\n",
              "          const docLinkHtml = 'Like what you see? Visit the ' +\n",
              "            '<a target=\"_blank\" href=https://colab.research.google.com/notebooks/data_table.ipynb>data table notebook</a>'\n",
              "            + ' to learn more about interactive tables.';\n",
              "          element.innerHTML = '';\n",
              "          dataTable['output_type'] = 'display_data';\n",
              "          await google.colab.output.renderOutput(dataTable, element);\n",
              "          const docLink = document.createElement('div');\n",
              "          docLink.innerHTML = docLinkHtml;\n",
              "          element.appendChild(docLink);\n",
              "        }\n",
              "      </script>\n",
              "    </div>\n",
              "  </div>\n",
              "  "
            ],
            "text/plain": [
              "           title release date  video release date  ... Thriller  War  Western\n",
              "item id                                            ...                       \n",
              "267      unknown          NaN                 NaN  ...        0    0        0\n",
              "\n",
              "[1 rows x 23 columns]"
            ]
          },
          "metadata": {},
          "execution_count": 18
        }
      ]
    },
    {
      "cell_type": "code",
      "metadata": {
        "id": "iZ5llEcJamyd"
      },
      "source": [
        "#video release date이 있는 값은 없어 삭제한다.\n",
        "df_item.drop(['video release date'], axis=1, inplace=True)"
      ],
      "execution_count": 19,
      "outputs": []
    },
    {
      "cell_type": "markdown",
      "metadata": {
        "id": "W0NxZTHo3EsX"
      },
      "source": [
        "item_id가 267은  알 수 없는 item이다."
      ]
    },
    {
      "cell_type": "code",
      "metadata": {
        "id": "vwGuFS8q2YUv"
      },
      "source": [
        "# release date의 타입을 str에서 datetime으로 변경\n",
        "df_item.loc[~df_item['release date'].isnull(), 'release date'] = df_item[~df_item['release date'].isnull()]['release date'].map(lambda x:  datetime.strptime(x, '%d-%b-%Y'))\n",
        "df_item['release date'] = df_item['release date'].astype(np.datetime64)"
      ],
      "execution_count": 20,
      "outputs": []
    },
    {
      "cell_type": "code",
      "metadata": {
        "id": "rS1P4ZjCUSUt",
        "colab": {
          "base_uri": "https://localhost:8080/",
          "height": 458
        },
        "outputId": "675a82f4-11b3-4e42-9983-3d2229776fc1"
      },
      "source": [
        "df_item.head(5)"
      ],
      "execution_count": 21,
      "outputs": [
        {
          "output_type": "execute_result",
          "data": {
            "text/html": [
              "\n",
              "  <div id=\"df-c72e953d-30a4-4962-932d-0c3f9b93a0c6\">\n",
              "    <div class=\"colab-df-container\">\n",
              "      <div>\n",
              "<style scoped>\n",
              "    .dataframe tbody tr th:only-of-type {\n",
              "        vertical-align: middle;\n",
              "    }\n",
              "\n",
              "    .dataframe tbody tr th {\n",
              "        vertical-align: top;\n",
              "    }\n",
              "\n",
              "    .dataframe thead th {\n",
              "        text-align: right;\n",
              "    }\n",
              "</style>\n",
              "<table border=\"1\" class=\"dataframe\">\n",
              "  <thead>\n",
              "    <tr style=\"text-align: right;\">\n",
              "      <th></th>\n",
              "      <th>title</th>\n",
              "      <th>release date</th>\n",
              "      <th>IMDb URL</th>\n",
              "      <th>unknown</th>\n",
              "      <th>Action</th>\n",
              "      <th>Adventure</th>\n",
              "      <th>Animation</th>\n",
              "      <th>Children's</th>\n",
              "      <th>Comedy</th>\n",
              "      <th>Crime</th>\n",
              "      <th>Documentary</th>\n",
              "      <th>Drama</th>\n",
              "      <th>Fantasy</th>\n",
              "      <th>Film-Noir</th>\n",
              "      <th>Horror</th>\n",
              "      <th>Musical</th>\n",
              "      <th>Mystery</th>\n",
              "      <th>Romance</th>\n",
              "      <th>Sci-Fi</th>\n",
              "      <th>Thriller</th>\n",
              "      <th>War</th>\n",
              "      <th>Western</th>\n",
              "    </tr>\n",
              "    <tr>\n",
              "      <th>item id</th>\n",
              "      <th></th>\n",
              "      <th></th>\n",
              "      <th></th>\n",
              "      <th></th>\n",
              "      <th></th>\n",
              "      <th></th>\n",
              "      <th></th>\n",
              "      <th></th>\n",
              "      <th></th>\n",
              "      <th></th>\n",
              "      <th></th>\n",
              "      <th></th>\n",
              "      <th></th>\n",
              "      <th></th>\n",
              "      <th></th>\n",
              "      <th></th>\n",
              "      <th></th>\n",
              "      <th></th>\n",
              "      <th></th>\n",
              "      <th></th>\n",
              "      <th></th>\n",
              "      <th></th>\n",
              "    </tr>\n",
              "  </thead>\n",
              "  <tbody>\n",
              "    <tr>\n",
              "      <th>1</th>\n",
              "      <td>Toy Story (1995)</td>\n",
              "      <td>1995-01-01</td>\n",
              "      <td>http://us.imdb.com/M/title-exact?Toy%20Story%2...</td>\n",
              "      <td>0</td>\n",
              "      <td>0</td>\n",
              "      <td>0</td>\n",
              "      <td>1</td>\n",
              "      <td>1</td>\n",
              "      <td>1</td>\n",
              "      <td>0</td>\n",
              "      <td>0</td>\n",
              "      <td>0</td>\n",
              "      <td>0</td>\n",
              "      <td>0</td>\n",
              "      <td>0</td>\n",
              "      <td>0</td>\n",
              "      <td>0</td>\n",
              "      <td>0</td>\n",
              "      <td>0</td>\n",
              "      <td>0</td>\n",
              "      <td>0</td>\n",
              "      <td>0</td>\n",
              "    </tr>\n",
              "    <tr>\n",
              "      <th>2</th>\n",
              "      <td>GoldenEye (1995)</td>\n",
              "      <td>1995-01-01</td>\n",
              "      <td>http://us.imdb.com/M/title-exact?GoldenEye%20(...</td>\n",
              "      <td>0</td>\n",
              "      <td>1</td>\n",
              "      <td>1</td>\n",
              "      <td>0</td>\n",
              "      <td>0</td>\n",
              "      <td>0</td>\n",
              "      <td>0</td>\n",
              "      <td>0</td>\n",
              "      <td>0</td>\n",
              "      <td>0</td>\n",
              "      <td>0</td>\n",
              "      <td>0</td>\n",
              "      <td>0</td>\n",
              "      <td>0</td>\n",
              "      <td>0</td>\n",
              "      <td>0</td>\n",
              "      <td>1</td>\n",
              "      <td>0</td>\n",
              "      <td>0</td>\n",
              "    </tr>\n",
              "    <tr>\n",
              "      <th>3</th>\n",
              "      <td>Four Rooms (1995)</td>\n",
              "      <td>1995-01-01</td>\n",
              "      <td>http://us.imdb.com/M/title-exact?Four%20Rooms%...</td>\n",
              "      <td>0</td>\n",
              "      <td>0</td>\n",
              "      <td>0</td>\n",
              "      <td>0</td>\n",
              "      <td>0</td>\n",
              "      <td>0</td>\n",
              "      <td>0</td>\n",
              "      <td>0</td>\n",
              "      <td>0</td>\n",
              "      <td>0</td>\n",
              "      <td>0</td>\n",
              "      <td>0</td>\n",
              "      <td>0</td>\n",
              "      <td>0</td>\n",
              "      <td>0</td>\n",
              "      <td>0</td>\n",
              "      <td>1</td>\n",
              "      <td>0</td>\n",
              "      <td>0</td>\n",
              "    </tr>\n",
              "    <tr>\n",
              "      <th>4</th>\n",
              "      <td>Get Shorty (1995)</td>\n",
              "      <td>1995-01-01</td>\n",
              "      <td>http://us.imdb.com/M/title-exact?Get%20Shorty%...</td>\n",
              "      <td>0</td>\n",
              "      <td>1</td>\n",
              "      <td>0</td>\n",
              "      <td>0</td>\n",
              "      <td>0</td>\n",
              "      <td>1</td>\n",
              "      <td>0</td>\n",
              "      <td>0</td>\n",
              "      <td>1</td>\n",
              "      <td>0</td>\n",
              "      <td>0</td>\n",
              "      <td>0</td>\n",
              "      <td>0</td>\n",
              "      <td>0</td>\n",
              "      <td>0</td>\n",
              "      <td>0</td>\n",
              "      <td>0</td>\n",
              "      <td>0</td>\n",
              "      <td>0</td>\n",
              "    </tr>\n",
              "    <tr>\n",
              "      <th>5</th>\n",
              "      <td>Copycat (1995)</td>\n",
              "      <td>1995-01-01</td>\n",
              "      <td>http://us.imdb.com/M/title-exact?Copycat%20(1995)</td>\n",
              "      <td>0</td>\n",
              "      <td>0</td>\n",
              "      <td>0</td>\n",
              "      <td>0</td>\n",
              "      <td>0</td>\n",
              "      <td>0</td>\n",
              "      <td>1</td>\n",
              "      <td>0</td>\n",
              "      <td>1</td>\n",
              "      <td>0</td>\n",
              "      <td>0</td>\n",
              "      <td>0</td>\n",
              "      <td>0</td>\n",
              "      <td>0</td>\n",
              "      <td>0</td>\n",
              "      <td>0</td>\n",
              "      <td>1</td>\n",
              "      <td>0</td>\n",
              "      <td>0</td>\n",
              "    </tr>\n",
              "  </tbody>\n",
              "</table>\n",
              "</div>\n",
              "      <button class=\"colab-df-convert\" onclick=\"convertToInteractive('df-c72e953d-30a4-4962-932d-0c3f9b93a0c6')\"\n",
              "              title=\"Convert this dataframe to an interactive table.\"\n",
              "              style=\"display:none;\">\n",
              "        \n",
              "  <svg xmlns=\"http://www.w3.org/2000/svg\" height=\"24px\"viewBox=\"0 0 24 24\"\n",
              "       width=\"24px\">\n",
              "    <path d=\"M0 0h24v24H0V0z\" fill=\"none\"/>\n",
              "    <path d=\"M18.56 5.44l.94 2.06.94-2.06 2.06-.94-2.06-.94-.94-2.06-.94 2.06-2.06.94zm-11 1L8.5 8.5l.94-2.06 2.06-.94-2.06-.94L8.5 2.5l-.94 2.06-2.06.94zm10 10l.94 2.06.94-2.06 2.06-.94-2.06-.94-.94-2.06-.94 2.06-2.06.94z\"/><path d=\"M17.41 7.96l-1.37-1.37c-.4-.4-.92-.59-1.43-.59-.52 0-1.04.2-1.43.59L10.3 9.45l-7.72 7.72c-.78.78-.78 2.05 0 2.83L4 21.41c.39.39.9.59 1.41.59.51 0 1.02-.2 1.41-.59l7.78-7.78 2.81-2.81c.8-.78.8-2.07 0-2.86zM5.41 20L4 18.59l7.72-7.72 1.47 1.35L5.41 20z\"/>\n",
              "  </svg>\n",
              "      </button>\n",
              "      \n",
              "  <style>\n",
              "    .colab-df-container {\n",
              "      display:flex;\n",
              "      flex-wrap:wrap;\n",
              "      gap: 12px;\n",
              "    }\n",
              "\n",
              "    .colab-df-convert {\n",
              "      background-color: #E8F0FE;\n",
              "      border: none;\n",
              "      border-radius: 50%;\n",
              "      cursor: pointer;\n",
              "      display: none;\n",
              "      fill: #1967D2;\n",
              "      height: 32px;\n",
              "      padding: 0 0 0 0;\n",
              "      width: 32px;\n",
              "    }\n",
              "\n",
              "    .colab-df-convert:hover {\n",
              "      background-color: #E2EBFA;\n",
              "      box-shadow: 0px 1px 2px rgba(60, 64, 67, 0.3), 0px 1px 3px 1px rgba(60, 64, 67, 0.15);\n",
              "      fill: #174EA6;\n",
              "    }\n",
              "\n",
              "    [theme=dark] .colab-df-convert {\n",
              "      background-color: #3B4455;\n",
              "      fill: #D2E3FC;\n",
              "    }\n",
              "\n",
              "    [theme=dark] .colab-df-convert:hover {\n",
              "      background-color: #434B5C;\n",
              "      box-shadow: 0px 1px 3px 1px rgba(0, 0, 0, 0.15);\n",
              "      filter: drop-shadow(0px 1px 2px rgba(0, 0, 0, 0.3));\n",
              "      fill: #FFFFFF;\n",
              "    }\n",
              "  </style>\n",
              "\n",
              "      <script>\n",
              "        const buttonEl =\n",
              "          document.querySelector('#df-c72e953d-30a4-4962-932d-0c3f9b93a0c6 button.colab-df-convert');\n",
              "        buttonEl.style.display =\n",
              "          google.colab.kernel.accessAllowed ? 'block' : 'none';\n",
              "\n",
              "        async function convertToInteractive(key) {\n",
              "          const element = document.querySelector('#df-c72e953d-30a4-4962-932d-0c3f9b93a0c6');\n",
              "          const dataTable =\n",
              "            await google.colab.kernel.invokeFunction('convertToInteractive',\n",
              "                                                     [key], {});\n",
              "          if (!dataTable) return;\n",
              "\n",
              "          const docLinkHtml = 'Like what you see? Visit the ' +\n",
              "            '<a target=\"_blank\" href=https://colab.research.google.com/notebooks/data_table.ipynb>data table notebook</a>'\n",
              "            + ' to learn more about interactive tables.';\n",
              "          element.innerHTML = '';\n",
              "          dataTable['output_type'] = 'display_data';\n",
              "          await google.colab.output.renderOutput(dataTable, element);\n",
              "          const docLink = document.createElement('div');\n",
              "          docLink.innerHTML = docLinkHtml;\n",
              "          element.appendChild(docLink);\n",
              "        }\n",
              "      </script>\n",
              "    </div>\n",
              "  </div>\n",
              "  "
            ],
            "text/plain": [
              "                     title release date  ... War  Western\n",
              "item id                                  ...             \n",
              "1         Toy Story (1995)   1995-01-01  ...   0        0\n",
              "2         GoldenEye (1995)   1995-01-01  ...   0        0\n",
              "3        Four Rooms (1995)   1995-01-01  ...   0        0\n",
              "4        Get Shorty (1995)   1995-01-01  ...   0        0\n",
              "5           Copycat (1995)   1995-01-01  ...   0        0\n",
              "\n",
              "[5 rows x 22 columns]"
            ]
          },
          "metadata": {},
          "execution_count": 21
        }
      ]
    },
    {
      "cell_type": "code",
      "metadata": {
        "id": "dkmzd7rKYTi8"
      },
      "source": [
        "# 컬럼명\n",
        "i_cols = ['user id', 'age' ,'gender','occupation', 'post']\n",
        "# delimiter를 |fh encoding을 latin-1로 한다.\n",
        "df_user = pd.read_csv('ml-100k/u.user', delimiter='|', encoding='latin-1', names=i_cols, index_col='user id')"
      ],
      "execution_count": 22,
      "outputs": []
    },
    {
      "cell_type": "code",
      "metadata": {
        "id": "vvWVNwGpAOZp",
        "colab": {
          "base_uri": "https://localhost:8080/",
          "height": 238
        },
        "outputId": "ad6e1b42-f7e0-4579-85fe-9cf90791dec0"
      },
      "source": [
        "# 처음 5개만 보자\n",
        "df_user.head(5)"
      ],
      "execution_count": 23,
      "outputs": [
        {
          "output_type": "execute_result",
          "data": {
            "text/html": [
              "\n",
              "  <div id=\"df-68ac3463-23f8-4c7c-80d1-2eb8a8e60426\">\n",
              "    <div class=\"colab-df-container\">\n",
              "      <div>\n",
              "<style scoped>\n",
              "    .dataframe tbody tr th:only-of-type {\n",
              "        vertical-align: middle;\n",
              "    }\n",
              "\n",
              "    .dataframe tbody tr th {\n",
              "        vertical-align: top;\n",
              "    }\n",
              "\n",
              "    .dataframe thead th {\n",
              "        text-align: right;\n",
              "    }\n",
              "</style>\n",
              "<table border=\"1\" class=\"dataframe\">\n",
              "  <thead>\n",
              "    <tr style=\"text-align: right;\">\n",
              "      <th></th>\n",
              "      <th>age</th>\n",
              "      <th>gender</th>\n",
              "      <th>occupation</th>\n",
              "      <th>post</th>\n",
              "    </tr>\n",
              "    <tr>\n",
              "      <th>user id</th>\n",
              "      <th></th>\n",
              "      <th></th>\n",
              "      <th></th>\n",
              "      <th></th>\n",
              "    </tr>\n",
              "  </thead>\n",
              "  <tbody>\n",
              "    <tr>\n",
              "      <th>1</th>\n",
              "      <td>24</td>\n",
              "      <td>M</td>\n",
              "      <td>technician</td>\n",
              "      <td>85711</td>\n",
              "    </tr>\n",
              "    <tr>\n",
              "      <th>2</th>\n",
              "      <td>53</td>\n",
              "      <td>F</td>\n",
              "      <td>other</td>\n",
              "      <td>94043</td>\n",
              "    </tr>\n",
              "    <tr>\n",
              "      <th>3</th>\n",
              "      <td>23</td>\n",
              "      <td>M</td>\n",
              "      <td>writer</td>\n",
              "      <td>32067</td>\n",
              "    </tr>\n",
              "    <tr>\n",
              "      <th>4</th>\n",
              "      <td>24</td>\n",
              "      <td>M</td>\n",
              "      <td>technician</td>\n",
              "      <td>43537</td>\n",
              "    </tr>\n",
              "    <tr>\n",
              "      <th>5</th>\n",
              "      <td>33</td>\n",
              "      <td>F</td>\n",
              "      <td>other</td>\n",
              "      <td>15213</td>\n",
              "    </tr>\n",
              "  </tbody>\n",
              "</table>\n",
              "</div>\n",
              "      <button class=\"colab-df-convert\" onclick=\"convertToInteractive('df-68ac3463-23f8-4c7c-80d1-2eb8a8e60426')\"\n",
              "              title=\"Convert this dataframe to an interactive table.\"\n",
              "              style=\"display:none;\">\n",
              "        \n",
              "  <svg xmlns=\"http://www.w3.org/2000/svg\" height=\"24px\"viewBox=\"0 0 24 24\"\n",
              "       width=\"24px\">\n",
              "    <path d=\"M0 0h24v24H0V0z\" fill=\"none\"/>\n",
              "    <path d=\"M18.56 5.44l.94 2.06.94-2.06 2.06-.94-2.06-.94-.94-2.06-.94 2.06-2.06.94zm-11 1L8.5 8.5l.94-2.06 2.06-.94-2.06-.94L8.5 2.5l-.94 2.06-2.06.94zm10 10l.94 2.06.94-2.06 2.06-.94-2.06-.94-.94-2.06-.94 2.06-2.06.94z\"/><path d=\"M17.41 7.96l-1.37-1.37c-.4-.4-.92-.59-1.43-.59-.52 0-1.04.2-1.43.59L10.3 9.45l-7.72 7.72c-.78.78-.78 2.05 0 2.83L4 21.41c.39.39.9.59 1.41.59.51 0 1.02-.2 1.41-.59l7.78-7.78 2.81-2.81c.8-.78.8-2.07 0-2.86zM5.41 20L4 18.59l7.72-7.72 1.47 1.35L5.41 20z\"/>\n",
              "  </svg>\n",
              "      </button>\n",
              "      \n",
              "  <style>\n",
              "    .colab-df-container {\n",
              "      display:flex;\n",
              "      flex-wrap:wrap;\n",
              "      gap: 12px;\n",
              "    }\n",
              "\n",
              "    .colab-df-convert {\n",
              "      background-color: #E8F0FE;\n",
              "      border: none;\n",
              "      border-radius: 50%;\n",
              "      cursor: pointer;\n",
              "      display: none;\n",
              "      fill: #1967D2;\n",
              "      height: 32px;\n",
              "      padding: 0 0 0 0;\n",
              "      width: 32px;\n",
              "    }\n",
              "\n",
              "    .colab-df-convert:hover {\n",
              "      background-color: #E2EBFA;\n",
              "      box-shadow: 0px 1px 2px rgba(60, 64, 67, 0.3), 0px 1px 3px 1px rgba(60, 64, 67, 0.15);\n",
              "      fill: #174EA6;\n",
              "    }\n",
              "\n",
              "    [theme=dark] .colab-df-convert {\n",
              "      background-color: #3B4455;\n",
              "      fill: #D2E3FC;\n",
              "    }\n",
              "\n",
              "    [theme=dark] .colab-df-convert:hover {\n",
              "      background-color: #434B5C;\n",
              "      box-shadow: 0px 1px 3px 1px rgba(0, 0, 0, 0.15);\n",
              "      filter: drop-shadow(0px 1px 2px rgba(0, 0, 0, 0.3));\n",
              "      fill: #FFFFFF;\n",
              "    }\n",
              "  </style>\n",
              "\n",
              "      <script>\n",
              "        const buttonEl =\n",
              "          document.querySelector('#df-68ac3463-23f8-4c7c-80d1-2eb8a8e60426 button.colab-df-convert');\n",
              "        buttonEl.style.display =\n",
              "          google.colab.kernel.accessAllowed ? 'block' : 'none';\n",
              "\n",
              "        async function convertToInteractive(key) {\n",
              "          const element = document.querySelector('#df-68ac3463-23f8-4c7c-80d1-2eb8a8e60426');\n",
              "          const dataTable =\n",
              "            await google.colab.kernel.invokeFunction('convertToInteractive',\n",
              "                                                     [key], {});\n",
              "          if (!dataTable) return;\n",
              "\n",
              "          const docLinkHtml = 'Like what you see? Visit the ' +\n",
              "            '<a target=\"_blank\" href=https://colab.research.google.com/notebooks/data_table.ipynb>data table notebook</a>'\n",
              "            + ' to learn more about interactive tables.';\n",
              "          element.innerHTML = '';\n",
              "          dataTable['output_type'] = 'display_data';\n",
              "          await google.colab.output.renderOutput(dataTable, element);\n",
              "          const docLink = document.createElement('div');\n",
              "          docLink.innerHTML = docLinkHtml;\n",
              "          element.appendChild(docLink);\n",
              "        }\n",
              "      </script>\n",
              "    </div>\n",
              "  </div>\n",
              "  "
            ],
            "text/plain": [
              "         age gender  occupation   post\n",
              "user id                               \n",
              "1         24      M  technician  85711\n",
              "2         53      F       other  94043\n",
              "3         23      M      writer  32067\n",
              "4         24      M  technician  43537\n",
              "5         33      F       other  15213"
            ]
          },
          "metadata": {},
          "execution_count": 23
        }
      ]
    },
    {
      "cell_type": "code",
      "metadata": {
        "id": "rM-7wJWiCwwj"
      },
      "source": [
        "def read_data(filename):\n",
        "  \"\"\"\n",
        "  평점 데이터 파일을 읽는다.\n",
        "  Parameters\n",
        "  ----------\n",
        "  filename: str\n",
        "    평점 파일명\n",
        "  Returns\n",
        "  -------\n",
        "    pd.Dataframe\n",
        "      평점 데이터프레임\n",
        "  \"\"\"\n",
        "  df = pd.read_csv(filename, delimiter='\\t', names=['user id', 'item id', 'rating', 'timestamp'])\n",
        "  df['timestamp'] = df['timestamp'].map(lambda x: datetime.fromtimestamp(x))\n",
        "  return df"
      ],
      "execution_count": 24,
      "outputs": []
    },
    {
      "cell_type": "code",
      "metadata": {
        "id": "v7kPrWbzHgk1"
      },
      "source": [
        "df_data = read_data('ml-100k/u.data')"
      ],
      "execution_count": 25,
      "outputs": []
    },
    {
      "cell_type": "code",
      "metadata": {
        "id": "CYIY0KopKtoE",
        "colab": {
          "base_uri": "https://localhost:8080/",
          "height": 206
        },
        "outputId": "155cfd01-b83c-42a6-d46c-b364284c925d"
      },
      "source": [
        "df_data.head(5)"
      ],
      "execution_count": 26,
      "outputs": [
        {
          "output_type": "execute_result",
          "data": {
            "text/html": [
              "\n",
              "  <div id=\"df-50b77d5e-d447-45b6-a217-f7274ebba59b\">\n",
              "    <div class=\"colab-df-container\">\n",
              "      <div>\n",
              "<style scoped>\n",
              "    .dataframe tbody tr th:only-of-type {\n",
              "        vertical-align: middle;\n",
              "    }\n",
              "\n",
              "    .dataframe tbody tr th {\n",
              "        vertical-align: top;\n",
              "    }\n",
              "\n",
              "    .dataframe thead th {\n",
              "        text-align: right;\n",
              "    }\n",
              "</style>\n",
              "<table border=\"1\" class=\"dataframe\">\n",
              "  <thead>\n",
              "    <tr style=\"text-align: right;\">\n",
              "      <th></th>\n",
              "      <th>user id</th>\n",
              "      <th>item id</th>\n",
              "      <th>rating</th>\n",
              "      <th>timestamp</th>\n",
              "    </tr>\n",
              "  </thead>\n",
              "  <tbody>\n",
              "    <tr>\n",
              "      <th>0</th>\n",
              "      <td>196</td>\n",
              "      <td>242</td>\n",
              "      <td>3</td>\n",
              "      <td>1997-12-04 15:55:49</td>\n",
              "    </tr>\n",
              "    <tr>\n",
              "      <th>1</th>\n",
              "      <td>186</td>\n",
              "      <td>302</td>\n",
              "      <td>3</td>\n",
              "      <td>1998-04-04 19:22:22</td>\n",
              "    </tr>\n",
              "    <tr>\n",
              "      <th>2</th>\n",
              "      <td>22</td>\n",
              "      <td>377</td>\n",
              "      <td>1</td>\n",
              "      <td>1997-11-07 07:18:36</td>\n",
              "    </tr>\n",
              "    <tr>\n",
              "      <th>3</th>\n",
              "      <td>244</td>\n",
              "      <td>51</td>\n",
              "      <td>2</td>\n",
              "      <td>1997-11-27 05:02:03</td>\n",
              "    </tr>\n",
              "    <tr>\n",
              "      <th>4</th>\n",
              "      <td>166</td>\n",
              "      <td>346</td>\n",
              "      <td>1</td>\n",
              "      <td>1998-02-02 05:33:16</td>\n",
              "    </tr>\n",
              "  </tbody>\n",
              "</table>\n",
              "</div>\n",
              "      <button class=\"colab-df-convert\" onclick=\"convertToInteractive('df-50b77d5e-d447-45b6-a217-f7274ebba59b')\"\n",
              "              title=\"Convert this dataframe to an interactive table.\"\n",
              "              style=\"display:none;\">\n",
              "        \n",
              "  <svg xmlns=\"http://www.w3.org/2000/svg\" height=\"24px\"viewBox=\"0 0 24 24\"\n",
              "       width=\"24px\">\n",
              "    <path d=\"M0 0h24v24H0V0z\" fill=\"none\"/>\n",
              "    <path d=\"M18.56 5.44l.94 2.06.94-2.06 2.06-.94-2.06-.94-.94-2.06-.94 2.06-2.06.94zm-11 1L8.5 8.5l.94-2.06 2.06-.94-2.06-.94L8.5 2.5l-.94 2.06-2.06.94zm10 10l.94 2.06.94-2.06 2.06-.94-2.06-.94-.94-2.06-.94 2.06-2.06.94z\"/><path d=\"M17.41 7.96l-1.37-1.37c-.4-.4-.92-.59-1.43-.59-.52 0-1.04.2-1.43.59L10.3 9.45l-7.72 7.72c-.78.78-.78 2.05 0 2.83L4 21.41c.39.39.9.59 1.41.59.51 0 1.02-.2 1.41-.59l7.78-7.78 2.81-2.81c.8-.78.8-2.07 0-2.86zM5.41 20L4 18.59l7.72-7.72 1.47 1.35L5.41 20z\"/>\n",
              "  </svg>\n",
              "      </button>\n",
              "      \n",
              "  <style>\n",
              "    .colab-df-container {\n",
              "      display:flex;\n",
              "      flex-wrap:wrap;\n",
              "      gap: 12px;\n",
              "    }\n",
              "\n",
              "    .colab-df-convert {\n",
              "      background-color: #E8F0FE;\n",
              "      border: none;\n",
              "      border-radius: 50%;\n",
              "      cursor: pointer;\n",
              "      display: none;\n",
              "      fill: #1967D2;\n",
              "      height: 32px;\n",
              "      padding: 0 0 0 0;\n",
              "      width: 32px;\n",
              "    }\n",
              "\n",
              "    .colab-df-convert:hover {\n",
              "      background-color: #E2EBFA;\n",
              "      box-shadow: 0px 1px 2px rgba(60, 64, 67, 0.3), 0px 1px 3px 1px rgba(60, 64, 67, 0.15);\n",
              "      fill: #174EA6;\n",
              "    }\n",
              "\n",
              "    [theme=dark] .colab-df-convert {\n",
              "      background-color: #3B4455;\n",
              "      fill: #D2E3FC;\n",
              "    }\n",
              "\n",
              "    [theme=dark] .colab-df-convert:hover {\n",
              "      background-color: #434B5C;\n",
              "      box-shadow: 0px 1px 3px 1px rgba(0, 0, 0, 0.15);\n",
              "      filter: drop-shadow(0px 1px 2px rgba(0, 0, 0, 0.3));\n",
              "      fill: #FFFFFF;\n",
              "    }\n",
              "  </style>\n",
              "\n",
              "      <script>\n",
              "        const buttonEl =\n",
              "          document.querySelector('#df-50b77d5e-d447-45b6-a217-f7274ebba59b button.colab-df-convert');\n",
              "        buttonEl.style.display =\n",
              "          google.colab.kernel.accessAllowed ? 'block' : 'none';\n",
              "\n",
              "        async function convertToInteractive(key) {\n",
              "          const element = document.querySelector('#df-50b77d5e-d447-45b6-a217-f7274ebba59b');\n",
              "          const dataTable =\n",
              "            await google.colab.kernel.invokeFunction('convertToInteractive',\n",
              "                                                     [key], {});\n",
              "          if (!dataTable) return;\n",
              "\n",
              "          const docLinkHtml = 'Like what you see? Visit the ' +\n",
              "            '<a target=\"_blank\" href=https://colab.research.google.com/notebooks/data_table.ipynb>data table notebook</a>'\n",
              "            + ' to learn more about interactive tables.';\n",
              "          element.innerHTML = '';\n",
              "          dataTable['output_type'] = 'display_data';\n",
              "          await google.colab.output.renderOutput(dataTable, element);\n",
              "          const docLink = document.createElement('div');\n",
              "          docLink.innerHTML = docLinkHtml;\n",
              "          element.appendChild(docLink);\n",
              "        }\n",
              "      </script>\n",
              "    </div>\n",
              "  </div>\n",
              "  "
            ],
            "text/plain": [
              "   user id  item id  rating           timestamp\n",
              "0      196      242       3 1997-12-04 15:55:49\n",
              "1      186      302       3 1998-04-04 19:22:22\n",
              "2       22      377       1 1997-11-07 07:18:36\n",
              "3      244       51       2 1997-11-27 05:02:03\n",
              "4      166      346       1 1998-02-02 05:33:16"
            ]
          },
          "metadata": {},
          "execution_count": 26
        }
      ]
    },
    {
      "cell_type": "code",
      "metadata": {
        "id": "KIv39RwXeUzh"
      },
      "source": [
        "#평점 데이터에  item과 user 정보를 Join을 시킨다.\n",
        "df_data = df_data.join(df_item, on='item id')\n",
        "df_data = df_data.join(df_user, on='user id')"
      ],
      "execution_count": 27,
      "outputs": []
    },
    {
      "cell_type": "code",
      "metadata": {
        "id": "JTqwYrvLfQEV",
        "colab": {
          "base_uri": "https://localhost:8080/",
          "height": 461
        },
        "outputId": "b8198943-cec7-4329-e039-e7ab3ecb594f"
      },
      "source": [
        "df_data.head(5)"
      ],
      "execution_count": 28,
      "outputs": [
        {
          "output_type": "execute_result",
          "data": {
            "text/html": [
              "\n",
              "  <div id=\"df-5633245d-a844-438f-833c-410df181f102\">\n",
              "    <div class=\"colab-df-container\">\n",
              "      <div>\n",
              "<style scoped>\n",
              "    .dataframe tbody tr th:only-of-type {\n",
              "        vertical-align: middle;\n",
              "    }\n",
              "\n",
              "    .dataframe tbody tr th {\n",
              "        vertical-align: top;\n",
              "    }\n",
              "\n",
              "    .dataframe thead th {\n",
              "        text-align: right;\n",
              "    }\n",
              "</style>\n",
              "<table border=\"1\" class=\"dataframe\">\n",
              "  <thead>\n",
              "    <tr style=\"text-align: right;\">\n",
              "      <th></th>\n",
              "      <th>user id</th>\n",
              "      <th>item id</th>\n",
              "      <th>rating</th>\n",
              "      <th>timestamp</th>\n",
              "      <th>title</th>\n",
              "      <th>release date</th>\n",
              "      <th>IMDb URL</th>\n",
              "      <th>unknown</th>\n",
              "      <th>Action</th>\n",
              "      <th>Adventure</th>\n",
              "      <th>Animation</th>\n",
              "      <th>Children's</th>\n",
              "      <th>Comedy</th>\n",
              "      <th>Crime</th>\n",
              "      <th>Documentary</th>\n",
              "      <th>Drama</th>\n",
              "      <th>Fantasy</th>\n",
              "      <th>Film-Noir</th>\n",
              "      <th>Horror</th>\n",
              "      <th>Musical</th>\n",
              "      <th>Mystery</th>\n",
              "      <th>Romance</th>\n",
              "      <th>Sci-Fi</th>\n",
              "      <th>Thriller</th>\n",
              "      <th>War</th>\n",
              "      <th>Western</th>\n",
              "      <th>age</th>\n",
              "      <th>gender</th>\n",
              "      <th>occupation</th>\n",
              "      <th>post</th>\n",
              "    </tr>\n",
              "  </thead>\n",
              "  <tbody>\n",
              "    <tr>\n",
              "      <th>0</th>\n",
              "      <td>196</td>\n",
              "      <td>242</td>\n",
              "      <td>3</td>\n",
              "      <td>1997-12-04 15:55:49</td>\n",
              "      <td>Kolya (1996)</td>\n",
              "      <td>1997-01-24</td>\n",
              "      <td>http://us.imdb.com/M/title-exact?Kolya%20(1996)</td>\n",
              "      <td>0</td>\n",
              "      <td>0</td>\n",
              "      <td>0</td>\n",
              "      <td>0</td>\n",
              "      <td>0</td>\n",
              "      <td>1</td>\n",
              "      <td>0</td>\n",
              "      <td>0</td>\n",
              "      <td>0</td>\n",
              "      <td>0</td>\n",
              "      <td>0</td>\n",
              "      <td>0</td>\n",
              "      <td>0</td>\n",
              "      <td>0</td>\n",
              "      <td>0</td>\n",
              "      <td>0</td>\n",
              "      <td>0</td>\n",
              "      <td>0</td>\n",
              "      <td>0</td>\n",
              "      <td>49</td>\n",
              "      <td>M</td>\n",
              "      <td>writer</td>\n",
              "      <td>55105</td>\n",
              "    </tr>\n",
              "    <tr>\n",
              "      <th>1</th>\n",
              "      <td>186</td>\n",
              "      <td>302</td>\n",
              "      <td>3</td>\n",
              "      <td>1998-04-04 19:22:22</td>\n",
              "      <td>L.A. Confidential (1997)</td>\n",
              "      <td>1997-01-01</td>\n",
              "      <td>http://us.imdb.com/M/title-exact?L%2EA%2E+Conf...</td>\n",
              "      <td>0</td>\n",
              "      <td>0</td>\n",
              "      <td>0</td>\n",
              "      <td>0</td>\n",
              "      <td>0</td>\n",
              "      <td>0</td>\n",
              "      <td>1</td>\n",
              "      <td>0</td>\n",
              "      <td>0</td>\n",
              "      <td>0</td>\n",
              "      <td>1</td>\n",
              "      <td>0</td>\n",
              "      <td>0</td>\n",
              "      <td>1</td>\n",
              "      <td>0</td>\n",
              "      <td>0</td>\n",
              "      <td>1</td>\n",
              "      <td>0</td>\n",
              "      <td>0</td>\n",
              "      <td>39</td>\n",
              "      <td>F</td>\n",
              "      <td>executive</td>\n",
              "      <td>00000</td>\n",
              "    </tr>\n",
              "    <tr>\n",
              "      <th>2</th>\n",
              "      <td>22</td>\n",
              "      <td>377</td>\n",
              "      <td>1</td>\n",
              "      <td>1997-11-07 07:18:36</td>\n",
              "      <td>Heavyweights (1994)</td>\n",
              "      <td>1994-01-01</td>\n",
              "      <td>http://us.imdb.com/M/title-exact?Heavyweights%...</td>\n",
              "      <td>0</td>\n",
              "      <td>0</td>\n",
              "      <td>0</td>\n",
              "      <td>0</td>\n",
              "      <td>1</td>\n",
              "      <td>1</td>\n",
              "      <td>0</td>\n",
              "      <td>0</td>\n",
              "      <td>0</td>\n",
              "      <td>0</td>\n",
              "      <td>0</td>\n",
              "      <td>0</td>\n",
              "      <td>0</td>\n",
              "      <td>0</td>\n",
              "      <td>0</td>\n",
              "      <td>0</td>\n",
              "      <td>0</td>\n",
              "      <td>0</td>\n",
              "      <td>0</td>\n",
              "      <td>25</td>\n",
              "      <td>M</td>\n",
              "      <td>writer</td>\n",
              "      <td>40206</td>\n",
              "    </tr>\n",
              "    <tr>\n",
              "      <th>3</th>\n",
              "      <td>244</td>\n",
              "      <td>51</td>\n",
              "      <td>2</td>\n",
              "      <td>1997-11-27 05:02:03</td>\n",
              "      <td>Legends of the Fall (1994)</td>\n",
              "      <td>1994-01-01</td>\n",
              "      <td>http://us.imdb.com/M/title-exact?Legends%20of%...</td>\n",
              "      <td>0</td>\n",
              "      <td>0</td>\n",
              "      <td>0</td>\n",
              "      <td>0</td>\n",
              "      <td>0</td>\n",
              "      <td>0</td>\n",
              "      <td>0</td>\n",
              "      <td>0</td>\n",
              "      <td>1</td>\n",
              "      <td>0</td>\n",
              "      <td>0</td>\n",
              "      <td>0</td>\n",
              "      <td>0</td>\n",
              "      <td>0</td>\n",
              "      <td>1</td>\n",
              "      <td>0</td>\n",
              "      <td>0</td>\n",
              "      <td>1</td>\n",
              "      <td>1</td>\n",
              "      <td>28</td>\n",
              "      <td>M</td>\n",
              "      <td>technician</td>\n",
              "      <td>80525</td>\n",
              "    </tr>\n",
              "    <tr>\n",
              "      <th>4</th>\n",
              "      <td>166</td>\n",
              "      <td>346</td>\n",
              "      <td>1</td>\n",
              "      <td>1998-02-02 05:33:16</td>\n",
              "      <td>Jackie Brown (1997)</td>\n",
              "      <td>1997-01-01</td>\n",
              "      <td>http://us.imdb.com/M/title-exact?imdb-title-11...</td>\n",
              "      <td>0</td>\n",
              "      <td>0</td>\n",
              "      <td>0</td>\n",
              "      <td>0</td>\n",
              "      <td>0</td>\n",
              "      <td>0</td>\n",
              "      <td>1</td>\n",
              "      <td>0</td>\n",
              "      <td>1</td>\n",
              "      <td>0</td>\n",
              "      <td>0</td>\n",
              "      <td>0</td>\n",
              "      <td>0</td>\n",
              "      <td>0</td>\n",
              "      <td>0</td>\n",
              "      <td>0</td>\n",
              "      <td>0</td>\n",
              "      <td>0</td>\n",
              "      <td>0</td>\n",
              "      <td>47</td>\n",
              "      <td>M</td>\n",
              "      <td>educator</td>\n",
              "      <td>55113</td>\n",
              "    </tr>\n",
              "  </tbody>\n",
              "</table>\n",
              "</div>\n",
              "      <button class=\"colab-df-convert\" onclick=\"convertToInteractive('df-5633245d-a844-438f-833c-410df181f102')\"\n",
              "              title=\"Convert this dataframe to an interactive table.\"\n",
              "              style=\"display:none;\">\n",
              "        \n",
              "  <svg xmlns=\"http://www.w3.org/2000/svg\" height=\"24px\"viewBox=\"0 0 24 24\"\n",
              "       width=\"24px\">\n",
              "    <path d=\"M0 0h24v24H0V0z\" fill=\"none\"/>\n",
              "    <path d=\"M18.56 5.44l.94 2.06.94-2.06 2.06-.94-2.06-.94-.94-2.06-.94 2.06-2.06.94zm-11 1L8.5 8.5l.94-2.06 2.06-.94-2.06-.94L8.5 2.5l-.94 2.06-2.06.94zm10 10l.94 2.06.94-2.06 2.06-.94-2.06-.94-.94-2.06-.94 2.06-2.06.94z\"/><path d=\"M17.41 7.96l-1.37-1.37c-.4-.4-.92-.59-1.43-.59-.52 0-1.04.2-1.43.59L10.3 9.45l-7.72 7.72c-.78.78-.78 2.05 0 2.83L4 21.41c.39.39.9.59 1.41.59.51 0 1.02-.2 1.41-.59l7.78-7.78 2.81-2.81c.8-.78.8-2.07 0-2.86zM5.41 20L4 18.59l7.72-7.72 1.47 1.35L5.41 20z\"/>\n",
              "  </svg>\n",
              "      </button>\n",
              "      \n",
              "  <style>\n",
              "    .colab-df-container {\n",
              "      display:flex;\n",
              "      flex-wrap:wrap;\n",
              "      gap: 12px;\n",
              "    }\n",
              "\n",
              "    .colab-df-convert {\n",
              "      background-color: #E8F0FE;\n",
              "      border: none;\n",
              "      border-radius: 50%;\n",
              "      cursor: pointer;\n",
              "      display: none;\n",
              "      fill: #1967D2;\n",
              "      height: 32px;\n",
              "      padding: 0 0 0 0;\n",
              "      width: 32px;\n",
              "    }\n",
              "\n",
              "    .colab-df-convert:hover {\n",
              "      background-color: #E2EBFA;\n",
              "      box-shadow: 0px 1px 2px rgba(60, 64, 67, 0.3), 0px 1px 3px 1px rgba(60, 64, 67, 0.15);\n",
              "      fill: #174EA6;\n",
              "    }\n",
              "\n",
              "    [theme=dark] .colab-df-convert {\n",
              "      background-color: #3B4455;\n",
              "      fill: #D2E3FC;\n",
              "    }\n",
              "\n",
              "    [theme=dark] .colab-df-convert:hover {\n",
              "      background-color: #434B5C;\n",
              "      box-shadow: 0px 1px 3px 1px rgba(0, 0, 0, 0.15);\n",
              "      filter: drop-shadow(0px 1px 2px rgba(0, 0, 0, 0.3));\n",
              "      fill: #FFFFFF;\n",
              "    }\n",
              "  </style>\n",
              "\n",
              "      <script>\n",
              "        const buttonEl =\n",
              "          document.querySelector('#df-5633245d-a844-438f-833c-410df181f102 button.colab-df-convert');\n",
              "        buttonEl.style.display =\n",
              "          google.colab.kernel.accessAllowed ? 'block' : 'none';\n",
              "\n",
              "        async function convertToInteractive(key) {\n",
              "          const element = document.querySelector('#df-5633245d-a844-438f-833c-410df181f102');\n",
              "          const dataTable =\n",
              "            await google.colab.kernel.invokeFunction('convertToInteractive',\n",
              "                                                     [key], {});\n",
              "          if (!dataTable) return;\n",
              "\n",
              "          const docLinkHtml = 'Like what you see? Visit the ' +\n",
              "            '<a target=\"_blank\" href=https://colab.research.google.com/notebooks/data_table.ipynb>data table notebook</a>'\n",
              "            + ' to learn more about interactive tables.';\n",
              "          element.innerHTML = '';\n",
              "          dataTable['output_type'] = 'display_data';\n",
              "          await google.colab.output.renderOutput(dataTable, element);\n",
              "          const docLink = document.createElement('div');\n",
              "          docLink.innerHTML = docLinkHtml;\n",
              "          element.appendChild(docLink);\n",
              "        }\n",
              "      </script>\n",
              "    </div>\n",
              "  </div>\n",
              "  "
            ],
            "text/plain": [
              "   user id  item id  rating           timestamp  ... age gender  occupation   post\n",
              "0      196      242       3 1997-12-04 15:55:49  ...  49      M      writer  55105\n",
              "1      186      302       3 1998-04-04 19:22:22  ...  39      F   executive  00000\n",
              "2       22      377       1 1997-11-07 07:18:36  ...  25      M      writer  40206\n",
              "3      244       51       2 1997-11-27 05:02:03  ...  28      M  technician  80525\n",
              "4      166      346       1 1998-02-02 05:33:16  ...  47      M    educator  55113\n",
              "\n",
              "[5 rows x 30 columns]"
            ]
          },
          "metadata": {},
          "execution_count": 28
        }
      ]
    },
    {
      "cell_type": "code",
      "metadata": {
        "id": "3fDJESuwfUVr"
      },
      "source": [
        "# 시청했을 때와 영화 출시로 부터 경과한 시점을 계산한다.\n",
        "df_data['date_diff'] = (df_data['timestamp'] - df_data['release date'])\n",
        "df_data['date_diff'] = df_data['date_diff'].map(lambda x: x.days)"
      ],
      "execution_count": 29,
      "outputs": []
    },
    {
      "cell_type": "markdown",
      "metadata": {
        "id": "ABis96vIcOvd"
      },
      "source": [
        "#3.Descriptive Analysis"
      ]
    },
    {
      "cell_type": "code",
      "metadata": {
        "id": "H_ZLkEuxK2DT",
        "colab": {
          "base_uri": "https://localhost:8080/"
        },
        "outputId": "434c72af-41a7-4c6e-8a34-a0fb7364db39"
      },
      "source": [
        "df_item.isnull().sum()"
      ],
      "execution_count": 30,
      "outputs": [
        {
          "output_type": "execute_result",
          "data": {
            "text/plain": [
              "title           0\n",
              "release date    1\n",
              "IMDb URL        3\n",
              "unknown         0\n",
              "Action          0\n",
              "Adventure       0\n",
              "Animation       0\n",
              "Children's      0\n",
              "Comedy          0\n",
              "Crime           0\n",
              "Documentary     0\n",
              "Drama           0\n",
              "Fantasy         0\n",
              "Film-Noir       0\n",
              "Horror          0\n",
              "Musical         0\n",
              "Mystery         0\n",
              "Romance         0\n",
              "Sci-Fi          0\n",
              "Thriller        0\n",
              "War             0\n",
              "Western         0\n",
              "dtype: int64"
            ]
          },
          "metadata": {},
          "execution_count": 30
        }
      ]
    },
    {
      "cell_type": "markdown",
      "metadata": {
        "id": "XhPhr16SdCXg"
      },
      "source": [
        "item id 267번을 제외하고 IMDb URL이 결측있는 것 2 건 \n",
        "iMDb 주소로는 현재 유효하지 않아 상관하지 않는 다."
      ]
    },
    {
      "cell_type": "code",
      "metadata": {
        "id": "HSL1GciWcNaE",
        "colab": {
          "base_uri": "https://localhost:8080/"
        },
        "outputId": "181b71a7-2ace-4077-90a8-0073f1544c21"
      },
      "source": [
        "df_user.isnull().sum()"
      ],
      "execution_count": 31,
      "outputs": [
        {
          "output_type": "execute_result",
          "data": {
            "text/plain": [
              "age           0\n",
              "gender        0\n",
              "occupation    0\n",
              "post          0\n",
              "dtype: int64"
            ]
          },
          "metadata": {},
          "execution_count": 31
        }
      ]
    },
    {
      "cell_type": "markdown",
      "metadata": {
        "id": "ric0FW1idg3i"
      },
      "source": [
        "사용자 정보에는 결측치가 없다."
      ]
    },
    {
      "cell_type": "code",
      "metadata": {
        "id": "H9X59zfsde2I",
        "colab": {
          "base_uri": "https://localhost:8080/"
        },
        "outputId": "f9447947-d5b4-47cc-95af-8f05e3a5fcb3"
      },
      "source": [
        "df_data.isnull().sum()"
      ],
      "execution_count": 32,
      "outputs": [
        {
          "output_type": "execute_result",
          "data": {
            "text/plain": [
              "user id          0\n",
              "item id          0\n",
              "rating           0\n",
              "timestamp        0\n",
              "title            0\n",
              "release date     9\n",
              "IMDb URL        13\n",
              "unknown          0\n",
              "Action           0\n",
              "Adventure        0\n",
              "Animation        0\n",
              "Children's       0\n",
              "Comedy           0\n",
              "Crime            0\n",
              "Documentary      0\n",
              "Drama            0\n",
              "Fantasy          0\n",
              "Film-Noir        0\n",
              "Horror           0\n",
              "Musical          0\n",
              "Mystery          0\n",
              "Romance          0\n",
              "Sci-Fi           0\n",
              "Thriller         0\n",
              "War              0\n",
              "Western          0\n",
              "age              0\n",
              "gender           0\n",
              "occupation       0\n",
              "post             0\n",
              "date_diff        9\n",
              "dtype: int64"
            ]
          },
          "metadata": {},
          "execution_count": 32
        }
      ]
    },
    {
      "cell_type": "markdown",
      "metadata": {
        "id": "rqWaLcdLdrnZ"
      },
      "source": [
        "평점 데이터에도 결측치가 없다. 하지만 item id가 267인 것 자체가 영화를 알 수 없다는 것이므로 item_id가 267인 걸 살펴보자."
      ]
    },
    {
      "cell_type": "code",
      "metadata": {
        "id": "dQEhoIFxdqBn",
        "colab": {
          "base_uri": "https://localhost:8080/"
        },
        "outputId": "99ec6824-b6c9-472d-b229-2dcb446166f6"
      },
      "source": [
        "df_data.loc[df_data['item id'] == 267], len(df_data.loc[df_data['item id'] == 267])"
      ],
      "execution_count": 33,
      "outputs": [
        {
          "output_type": "execute_result",
          "data": {
            "text/plain": [
              "(       user id  item id  rating  ...     occupation   post date_diff\n",
              " 2172       130      267       5  ...           none  60115       NaN\n",
              " 3781         5      267       4  ...          other  15213       NaN\n",
              " 7245       268      267       3  ...       engineer  19422       NaN\n",
              " 12475      297      267       3  ...       educator  98103       NaN\n",
              " 14756      319      267       4  ...     programmer  22030       NaN\n",
              " 15292        1      267       4  ...     technician  85711       NaN\n",
              " 49295      532      267       3  ...        student  92705       NaN\n",
              " 93523      833      267       1  ...         writer  90019       NaN\n",
              " 99723      422      267       4  ...  entertainment  94533       NaN\n",
              " \n",
              " [9 rows x 31 columns], 9)"
            ]
          },
          "metadata": {},
          "execution_count": 33
        }
      ]
    },
    {
      "cell_type": "markdown",
      "metadata": {
        "id": "HJl4pRWReJCd"
      },
      "source": [
        "9건이 unknown 영화이다."
      ]
    },
    {
      "cell_type": "code",
      "metadata": {
        "id": "rI4YpzJYAWRr",
        "colab": {
          "base_uri": "https://localhost:8080/"
        },
        "outputId": "455a81cc-0fad-4edf-bd39-83b882c7c54a"
      },
      "source": [
        "df_user['post'].unique()"
      ],
      "execution_count": 34,
      "outputs": [
        {
          "output_type": "execute_result",
          "data": {
            "text/plain": [
              "array(['85711', '94043', '32067', '43537', '15213', '98101', '91344',\n",
              "       '05201', '01002', '90703', '30329', '06405', '29206', '55106',\n",
              "       '97301', '10309', '06355', '37212', '02138', '95660', '30068',\n",
              "       '40206', '48197', '94533', '55107', '21044', '30030', '55369',\n",
              "       '55436', '10003', '78741', '27510', '42141', '42459', '93117',\n",
              "       '55105', '54467', '01040', '27514', '80525', '17870', '20854',\n",
              "       '46260', '50233', '46538', '07102', '12550', '76111', '52245',\n",
              "       '16509', '55414', '66315', '01331', '84010', '52246', '08403',\n",
              "       '06472', '30040', '97214', '75240', '43202', '48118', '80521',\n",
              "       '60402', '22904', '55337', '60067', '98034', '73034', '41850',\n",
              "       'T8H1N', '08816', '02215', '29379', '61801', '03755', '52241',\n",
              "       '21218', '22902', '44133', '20003', '46005', '89503', '11701',\n",
              "       '68106', '78155', '01913', '23112', '71457', '10707', '75206',\n",
              "       '98006', '90291', '63129', '90254', '05146', '30220', '55108',\n",
              "       '55125', '60466', '63130', '55423', '77840', '90630', '60613',\n",
              "       '95032', '75013', '17110', '97232', '16125', '90210', '67401',\n",
              "       '06260', '99603', '22206', '20008', '60615', '22202', '20015',\n",
              "       '73439', '20009', '07039', '60115', '15237', '94612', '78602',\n",
              "       '80236', '38401', '97365', '84408', '53211', '08904', '32250',\n",
              "       '36117', '08832', '20910', 'V3N4P', '83814', '02143', '97006',\n",
              "       '17325', '02139', '48103', '68767', '60641', '53703', '11217',\n",
              "       '08360', '70808', '27606', '55346', '66215', '55104', '15610',\n",
              "       '97212', '80123', '53715', '55113', 'L9G2B', '80127', '53705',\n",
              "       '30067', '78750', '22207', '22306', '52302', '21911', '07030',\n",
              "       '19104', '49512', '20755', '60202', '33884', '27708', '76013',\n",
              "       '97403', '00000', '16801', '29440', '95014', '95938', '95161',\n",
              "       '90840', '49931', '02154', '93555', '75094', '17604', '93402',\n",
              "       'E2A4H', '60201', '32301', '10960', '06371', '53115', '92037',\n",
              "       '01720', '85710', '03060', '32605', '61401', '55345', '11231',\n",
              "       '63033', '11727', '06513', '43212', '78205', '20685', '27502',\n",
              "       '47906', '43512', '58202', '92103', '60659', '22003', '22903',\n",
              "       '14476', '01080', '99709', '98682', '94702', '22973', '53214',\n",
              "       '63146', '44124', '95628', '20784', '20001', '31404', '55109',\n",
              "       '28734', '20770', '37235', '84103', '95110', '85032', '07733',\n",
              "       '42647', '07029', '39042', '77005', '77801', '48823', '89801',\n",
              "       '85202', '78264', '90064', '84601', '78756', '83716', '19422',\n",
              "       '43201', '63119', '22932', '53706', '10016', '92064', '95064',\n",
              "       '55406', '30033', '85251', '06059', '20057', '55305', '92629',\n",
              "       '53713', '15217', '31211', '23226', '94619', '93550', '44106',\n",
              "       '94703', '60804', '92110', '50325', '16803', '98103', '01581',\n",
              "       '63108', '55439', '77904', '14853', '71701', '94086', '73132',\n",
              "       '55454', '95076', '70802', '91711', '73071', '02110', '60035',\n",
              "       '08043', '18301', '77009', '13210', '06518', '22030', '24060',\n",
              "       '55413', '50613', '19149', '02176', '15235', '11101', '06779',\n",
              "       '40504', 'V0R2M', '30002', '33775', '42101', '10522', '59717',\n",
              "       '37901', '44405', '30093', '94117', '94143', '76059', '45660',\n",
              "       '61455', '49938', '28480', '60135', '92688', '98133', '10022',\n",
              "       '98027', '44074', '85233', '87501', '01810', '50670', '37411',\n",
              "       '92113', '91335', '08534', '99206', '66046', '55116', '78746',\n",
              "       '37777', '10010', '18015', '02859', '98117', '55117', '94608',\n",
              "       '01824', '75204', '45218', '43221', '37412', '36106', '83702',\n",
              "       '85016', '84604', '59801', '83686', '96819', '44092', '94551',\n",
              "       '60008', '92374', '78213', '84107', '95129', '06811', '10019',\n",
              "       '93109', '03261', '61755', '98225', '94025', '44691', '15222',\n",
              "       '78212', '38115', '92626', '21206', '43215', '02140', '91606',\n",
              "       '55422', '58644', '01602', '85258', '29205', '98199', '50311',\n",
              "       '11211', '49705', '60007', '17345', '43204', '20817', '48076',\n",
              "       '55013', '85282', '33308', '53202', '92653', '10021', '55021',\n",
              "       '11758', '48446', '28018', '06333', '97330', '83709', '31820',\n",
              "       '30011', 'Y1A6B', '29201', '60630', '98102', '02918', '75218',\n",
              "       '94583', '05001', '90804', '91201', '02341', '78628', '77459',\n",
              "       '87544', '94708', '93711', '75230', '60440', '02125', '55409',\n",
              "       '98257', '37771', '40256', '21208', '95821', '93101', '92121',\n",
              "       '21012', 'V5A2B', '53711', '94618', '60090', '49428', '03052',\n",
              "       '50112', '55408', '75006', '94305', '10025', '23092', '92115',\n",
              "       '20657', '03869', '28450', '19382', '10011', '98038', '21250',\n",
              "       '20090', '26241', '20707', '49508', '55320', '12603', '02146',\n",
              "       '55443', '04102', '02159', '19711', '97124', '12180', '44224',\n",
              "       '94040', '97408', '92705', '02324', '05464', '80302', '30078',\n",
              "       '21010', '80303', '84302', '60515', '95123', '29464', '08052',\n",
              "       '22911', '14534', '95468', '45680', '95453', '68147', '62901',\n",
              "       '23227', '30606', '63132', '60005', '20879', '32707', '94591',\n",
              "       '14627', '01915', '91903', '01945', '48911', '53188', '46032',\n",
              "       '98281', '77845', 'M7A1A', '17961', '94131', '93003', '29631',\n",
              "       '27511', '98501', '79508', '14216', '93063', '90034', '82435',\n",
              "       '92093', '97520', 'M4J2K', '31909', '77073', '84116', '43085',\n",
              "       'R3T5K', '02320', '99687', '34656', '47905', '11787', '33716',\n",
              "       '63044', '21227', '77008', '79070', '29678', '80227', '27705',\n",
              "       '11201', '44212', '44134', '81648', '14850', '60187', '20723',\n",
              "       '19807', '08034', '94306', '38866', '23237', '48043', '74101',\n",
              "       '01940', '12065', '60626', '95521', '55122', '63645', '51250',\n",
              "       '45810', '91351', '39762', '02903', '78739', '60657', '10314',\n",
              "       '78704', '54248', '77380', '98121', '19102', '19341', '94115',\n",
              "       '55412', '61820', '01970', '21114', '91919', '90095', '22906',\n",
              "       '28814', '32712', '99835', '61462', '54302', '90405', '97208',\n",
              "       '55128', '23509', '26506', '27713', '60476', '45439', '63304',\n",
              "       '60089', '18053', '85210', '06365', '94920', '77042', '06906',\n",
              "       '96754', '76309', '56321', '89104', '91105', '54494', '19146',\n",
              "       '96349', 'N4T1A', '92020', '15203', '54901', '07204', '55343',\n",
              "       '91206', '44265', '84105', '64118', 'V0R2H', '16506', '11238',\n",
              "       '17331', '94403', '40243', '80538', '56567', '32114', '70403',\n",
              "       '98405', '85719', '98072', '95403', '73162', '29210', '92660',\n",
              "       '47024', '19047', '93612', '94720', '80919', '32303', '21201',\n",
              "       '97007', '90247', '68503', '14211', '97302', '95050', '02113',\n",
              "       '62903', '33066', '12866', '06927', '15232', '27105', '80027',\n",
              "       '90036', '51157', '01960', 'K7L5J', '94560', '48825', '33205',\n",
              "       '77081', '91040', '23322', '01754', '98620', '05779', '55420',\n",
              "       '80913', '20064', '12205', '85281', '57197', '08610', '33755',\n",
              "       '62522', '64131', '19716', '92154', '34105', '90016', '30803',\n",
              "       '80526', '73013', '76234', '02136', '12345', '28806', '60152',\n",
              "       '40205', '37725', '53144', '50322', '15017', '05452', '77048',\n",
              "       '80228', '80209', '53066', '33765', '90019', '64153', '11577',\n",
              "       '10018', '01375', '90814', '47401', '93055', '95662', '97405',\n",
              "       '47130', '55417', '25652', '78390', '29646', '40515', '04988',\n",
              "       '97215', 'V1G4L', '09645', '06492', '48322', '14085', '13820',\n",
              "       '63021', '60302', '92507', '55303', '65203', '44648', '74078',\n",
              "       '33763', '37076', '35802', '20902', '77504', '43017', '40503',\n",
              "       '50266', '95316', '27249', '17036', '03062', '45243', '95823',\n",
              "       '74075', '91505', '33484', '18505', 'L1V3W', '97203', '20850',\n",
              "       '61073', '30350', '70124', '68504', '53171', '29301', '53210',\n",
              "       '06512', '76201', '08105', '60614', 'N2L5N', '20006', '70116',\n",
              "       '90008', '98801', 'E2E3R', '11753', '49036', '01701', '55428',\n",
              "       '07310', '33556', '06437', '48105', '66221', '32789', '55038',\n",
              "       '33319', '97229', '78209', '77841'], dtype=object)"
            ]
          },
          "metadata": {},
          "execution_count": 34
        }
      ]
    },
    {
      "cell_type": "code",
      "metadata": {
        "id": "i6YWhmf0AbR9"
      },
      "source": [
        "df_user['post1'] = df_user['post'].map(lambda x: x[0] if x[0] >= '0' and x[0] <= '9'  else 'etc')"
      ],
      "execution_count": 35,
      "outputs": []
    },
    {
      "cell_type": "code",
      "metadata": {
        "id": "zU4qu17GBi4v"
      },
      "source": [
        "post1_code = ['{}'.format(i) for i in range(10)] + ['etc']"
      ],
      "execution_count": 36,
      "outputs": []
    },
    {
      "cell_type": "code",
      "metadata": {
        "id": "cpFUOJ9aB4wL",
        "colab": {
          "base_uri": "https://localhost:8080/"
        },
        "outputId": "4840a61f-66f4-45ee-c29f-b07f48df5f05"
      },
      "source": [
        "df_user.groupby(['post1'])['post1'].count()"
      ],
      "execution_count": 37,
      "outputs": [
        {
          "output_type": "execute_result",
          "data": {
            "text/plain": [
              "post1\n",
              "0       96\n",
              "1       97\n",
              "2      101\n",
              "3       62\n",
              "4       77\n",
              "5      121\n",
              "6       78\n",
              "7       67\n",
              "8       56\n",
              "9      170\n",
              "etc     18\n",
              "Name: post1, dtype: int64"
            ]
          },
          "metadata": {},
          "execution_count": 37
        }
      ]
    },
    {
      "cell_type": "code",
      "metadata": {
        "id": "ClTNrCGcCh6h"
      },
      "source": [
        "df_data['post1'] = df_data['post'].map(lambda x: x[0] if x[0] >= '0' and x[0] <= '9'  else 'etc')"
      ],
      "execution_count": 38,
      "outputs": []
    },
    {
      "cell_type": "code",
      "metadata": {
        "id": "FaEvd_Eid-zv",
        "colab": {
          "base_uri": "https://localhost:8080/",
          "height": 354
        },
        "outputId": "f3e99d64-8890-4a68-e853-1ff89e26f6e4"
      },
      "source": [
        "# 평점수\n",
        "sns.countplot(df_data['rating'])"
      ],
      "execution_count": 39,
      "outputs": [
        {
          "output_type": "stream",
          "name": "stderr",
          "text": [
            "/usr/local/lib/python3.7/dist-packages/seaborn/_decorators.py:43: FutureWarning: Pass the following variable as a keyword arg: x. From version 0.12, the only valid positional argument will be `data`, and passing other arguments without an explicit keyword will result in an error or misinterpretation.\n",
            "  FutureWarning\n"
          ]
        },
        {
          "output_type": "execute_result",
          "data": {
            "text/plain": [
              "<matplotlib.axes._subplots.AxesSubplot at 0x7f0265aa1450>"
            ]
          },
          "metadata": {},
          "execution_count": 39
        },
        {
          "output_type": "display_data",
          "data": {
            "image/png": "[encoded data removed]",
            "text/plain": [
              "<Figure size 432x288 with 1 Axes>"
            ]
          },
          "metadata": {
            "needs_background": "light"
          }
        }
      ]
    },
    {
      "cell_type": "code",
      "metadata": {
        "id": "K7BkYVFae9Kk",
        "colab": {
          "base_uri": "https://localhost:8080/",
          "height": 322
        },
        "outputId": "a5757e2f-e7d9-4c32-df0a-f3d055762cfa"
      },
      "source": [
        "# 장르 별 시청 수\n",
        "fig, ax = plt.subplots(figsize=(20, 6))\n",
        "genre_sum = df_data[genre].sum()\n",
        "sns.barplot(x=genre_sum.index, y=genre_sum.values, ax=ax)\n",
        "plt.show()"
      ],
      "execution_count": 40,
      "outputs": [
        {
          "output_type": "display_data",
          "data": {
            "image/png": "[encoded data removed]",
            "text/plain": [
              "<Figure size 1440x432 with 1 Axes>"
            ]
          },
          "metadata": {
            "needs_background": "light"
          }
        }
      ]
    },
    {
      "cell_type": "code",
      "metadata": {
        "id": "t2rty8APYR82",
        "colab": {
          "base_uri": "https://localhost:8080/",
          "height": 334
        },
        "outputId": "7345c759-d622-4085-b77b-47aa5d446411"
      },
      "source": [
        "# 시청한 사람들의 직업 분포\n",
        "fig, ax = plt.subplots(figsize=(20, 6))\n",
        "occupation_sum = df_data.groupby('occupation')['user id'].count()\n",
        "sns.barplot(x=occupation_sum.index, y=occupation_sum.values, ax=ax)\n",
        "plt.show()"
      ],
      "execution_count": 41,
      "outputs": [
        {
          "output_type": "display_data",
          "data": {
            "image/png": "[encoded data removed]",
            "text/plain": [
              "<Figure size 1440x432 with 1 Axes>"
            ]
          },
          "metadata": {
            "needs_background": "light"
          }
        }
      ]
    },
    {
      "cell_type": "code",
      "metadata": {
        "id": "peWOiTnHjChC",
        "colab": {
          "base_uri": "https://localhost:8080/",
          "height": 325
        },
        "outputId": "7a3e99e0-a2d6-4617-c6a0-be93ab979db1"
      },
      "source": [
        "# 영화 목록에서의 장르수\n",
        "fig, ax = plt.subplots(figsize=(20, 6))\n",
        "genre_sum = df_item[genre].sum()\n",
        "sns.barplot(x=genre_sum.index, y=genre_sum.values, ax=ax)\n",
        "plt.show()"
      ],
      "execution_count": 42,
      "outputs": [
        {
          "output_type": "display_data",
          "data": {
            "image/png": "[encoded data removed]",
            "text/plain": [
              "<Figure size 1440x432 with 1 Axes>"
            ]
          },
          "metadata": {
            "needs_background": "light"
          }
        }
      ]
    },
    {
      "cell_type": "code",
      "metadata": {
        "id": "nep-HicNiuDD",
        "colab": {
          "base_uri": "https://localhost:8080/",
          "height": 386
        },
        "outputId": "079da283-ac0b-4e7e-84e4-2c60035b17cc"
      },
      "source": [
        "# 영화의 출시일 부터 시청시 경과 시점의 분포 확인\n",
        "fig, ax = plt.subplots(figsize=(20, 6))\n",
        "sns.distplot(df_data['date_diff'], ax=ax)\n",
        "plt.show()"
      ],
      "execution_count": 43,
      "outputs": [
        {
          "output_type": "stream",
          "name": "stderr",
          "text": [
            "/usr/local/lib/python3.7/dist-packages/seaborn/distributions.py:2619: FutureWarning: `distplot` is a deprecated function and will be removed in a future version. Please adapt your code to use either `displot` (a figure-level function with similar flexibility) or `histplot` (an axes-level function for histograms).\n",
            "  warnings.warn(msg, FutureWarning)\n"
          ]
        },
        {
          "output_type": "display_data",
          "data": {
            "image/png": "[encoded data removed]",
            "text/plain": [
              "<Figure size 1440x432 with 1 Axes>"
            ]
          },
          "metadata": {
            "needs_background": "light"
          }
        }
      ]
    },
    {
      "cell_type": "markdown",
      "metadata": {
        "id": "bxNgi95-5sFm"
      },
      "source": [
        "음수가 있는 걸로 보아 출시 이전에 데이터도 존재하고 있고, 출시후 2500 일이 경과 한 영화의 비율까지 많이 있다. 이 이후에 도 건수가 고루 존재함을 알수 잇다."
      ]
    },
    {
      "cell_type": "code",
      "metadata": {
        "id": "QRW7dEyyjgtt",
        "colab": {
          "base_uri": "https://localhost:8080/",
          "height": 387
        },
        "outputId": "8dd66cdf-1612-47d3-c0eb-142077e0fdc1"
      },
      "source": [
        "df_user_rating_cnt = df_data.groupby(['user id'], as_index=False)['item id'].count()\n",
        "df_user_rating_cnt.columns = ['user id', 'cnt']\n",
        "fig, ax = plt.subplots(figsize=(20, 6))\n",
        "sns.distplot(df_user_rating_cnt['cnt'], ax=ax)\n",
        "plt.show()"
      ],
      "execution_count": 44,
      "outputs": [
        {
          "output_type": "stream",
          "name": "stderr",
          "text": [
            "/usr/local/lib/python3.7/dist-packages/seaborn/distributions.py:2619: FutureWarning: `distplot` is a deprecated function and will be removed in a future version. Please adapt your code to use either `displot` (a figure-level function with similar flexibility) or `histplot` (an axes-level function for histograms).\n",
            "  warnings.warn(msg, FutureWarning)\n"
          ]
        },
        {
          "output_type": "display_data",
          "data": {
            "image/png": "[encoded data removed]",
            "text/plain": [
              "<Figure size 1440x432 with 1 Axes>"
            ]
          },
          "metadata": {
            "needs_background": "light"
          }
        }
      ]
    },
    {
      "cell_type": "markdown",
      "metadata": {
        "id": "x5eozi1Ko6Lr"
      },
      "source": [
        "설명대로 최소 20건 했다, 최대  800건까지  했고, 급격하게 줄어드는 추세를 보인다."
      ]
    },
    {
      "cell_type": "code",
      "metadata": {
        "id": "9JM2jVqZjlnP",
        "colab": {
          "base_uri": "https://localhost:8080/",
          "height": 387
        },
        "outputId": "7741cc8a-199e-4573-8c4f-3ba7e0b759b1"
      },
      "source": [
        "df_item_rating_cnt = df_data.groupby(['item id'], as_index=False)['user id'].count()\n",
        "df_item_rating_cnt.columns = ['item id', 'cnt']\n",
        "fig, ax = plt.subplots(figsize=(20, 6))\n",
        "sns.distplot(df_item_rating_cnt['cnt'], ax=ax)\n",
        "plt.show()"
      ],
      "execution_count": 45,
      "outputs": [
        {
          "output_type": "stream",
          "name": "stderr",
          "text": [
            "/usr/local/lib/python3.7/dist-packages/seaborn/distributions.py:2619: FutureWarning: `distplot` is a deprecated function and will be removed in a future version. Please adapt your code to use either `displot` (a figure-level function with similar flexibility) or `histplot` (an axes-level function for histograms).\n",
            "  warnings.warn(msg, FutureWarning)\n"
          ]
        },
        {
          "output_type": "display_data",
          "data": {
            "image/png": "[encoded data removed]",
            "text/plain": [
              "<Figure size 1440x432 with 1 Axes>"
            ]
          },
          "metadata": {
            "needs_background": "light"
          }
        }
      ]
    },
    {
      "cell_type": "markdown",
      "metadata": {
        "id": "bl5VFIgtpIKh"
      },
      "source": [
        "1건만 있는 사례로 존재하고 최대 평점이 600건 존재하는 것도 있지만 대부분 100건 아래이고 역시 건수가 갈수 록 줄어 든다."
      ]
    },
    {
      "cell_type": "code",
      "metadata": {
        "id": "sk3WA_4mnZRv"
      },
      "source": [
        "df_data['view date'] = df_data['timestamp'].map(lambda x: x.date())\n",
        "df_date_cnt = df_data.groupby('view date')['timestamp'].count()"
      ],
      "execution_count": 46,
      "outputs": []
    },
    {
      "cell_type": "code",
      "metadata": {
        "id": "zzHI44RJpzmS",
        "colab": {
          "base_uri": "https://localhost:8080/",
          "height": 332
        },
        "outputId": "1221da4b-d40a-4a85-ff33-e365239d1961"
      },
      "source": [
        "fig, ax = plt.subplots(figsize=(20, 6))\n",
        "sns.lineplot(x = df_date_cnt.index,  y = df_date_cnt.values, ax=ax)\n",
        "plt.show()"
      ],
      "execution_count": 47,
      "outputs": [
        {
          "output_type": "display_data",
          "data": {
            "image/png": "[encoded data removed]",
            "text/plain": [
              "<Figure size 1440x432 with 1 Axes>"
            ]
          },
          "metadata": {
            "needs_background": "light"
          }
        }
      ]
    },
    {
      "cell_type": "markdown",
      "metadata": {
        "id": "6iJ7TObuq1oA"
      },
      "source": [
        "1997년 9월 ~ 1998년  5월, 6개월간 데이터"
      ]
    },
    {
      "cell_type": "markdown",
      "metadata": {
        "id": "2GV3URVPsBZA"
      },
      "source": [
        "#4.Exploratory Data Analysis"
      ]
    },
    {
      "cell_type": "code",
      "metadata": {
        "id": "5NBjlhqpPkiT",
        "colab": {
          "base_uri": "https://localhost:8080/"
        },
        "outputId": "4841f34b-8557-4ad1-dd5f-583aeb5e0fb3"
      },
      "source": [
        "df_data['rating'].std(), df_data.groupby('item id')['rating'].std().mean(), df_data.groupby('user id')['rating'].std().mean()"
      ],
      "execution_count": 48,
      "outputs": [
        {
          "output_type": "execute_result",
          "data": {
            "text/plain": [
              "(1.125673599144129, 1.0567144528273058, 1.0198826977076085)"
            ]
          },
          "metadata": {},
          "execution_count": 48
        }
      ]
    },
    {
      "cell_type": "code",
      "metadata": {
        "id": "pgrzcx2Af87b",
        "colab": {
          "base_uri": "https://localhost:8080/",
          "height": 326
        },
        "outputId": "e450f98c-e4f4-4dfe-e36c-226817743f8b"
      },
      "source": [
        "# 장르별 평균 평점\n",
        "fig, ax = plt.subplots(figsize=(20, 6))\n",
        "genre_avg_rating = []\n",
        "genre_sum = df_data[genre].sum()\n",
        "for i in genre:\n",
        "  genre_avg_rating.append(np.sum(df_data[i] * df_data['rating']) / genre_sum[i])\n",
        "sns.barplot(x=genre, y=genre_avg_rating, ax=ax)\n",
        "plt.show()"
      ],
      "execution_count": 49,
      "outputs": [
        {
          "output_type": "display_data",
          "data": {
            "image/png": "[encoded data removed]",
            "text/plain": [
              "<Figure size 1440x432 with 1 Axes>"
            ]
          },
          "metadata": {
            "needs_background": "light"
          }
        }
      ]
    },
    {
      "cell_type": "code",
      "metadata": {
        "id": "pa8uO0kMDwS_",
        "colab": {
          "base_uri": "https://localhost:8080/"
        },
        "outputId": "a87a6f8d-0620-4762-e72b-13e5f5c03bda"
      },
      "source": [
        "np.std(genre_avg_rating)"
      ],
      "execution_count": 50,
      "outputs": [
        {
          "output_type": "execute_result",
          "data": {
            "text/plain": [
              "0.18332764937940538"
            ]
          },
          "metadata": {},
          "execution_count": 50
        }
      ]
    },
    {
      "cell_type": "code",
      "metadata": {
        "id": "7sjvinCDEOgQ",
        "colab": {
          "base_uri": "https://localhost:8080/"
        },
        "outputId": "a2b226f5-f9bb-4919-99e7-8b7c3f64b067"
      },
      "source": [
        "df_data_genre = pd.melt(df_data, id_vars=['user id', 'rating'], value_vars=genre)\n",
        "df_data_genre = df_data_genre.loc[df_data_genre['value'] > 0]\n",
        "# 사용자 별 장르별 편차의 평균 구해 보자\n",
        "df_data_genre.groupby(['user id', 'variable'], as_index=False)['rating'].mean().groupby('user id').std().mean()"
      ],
      "execution_count": 51,
      "outputs": [
        {
          "output_type": "execute_result",
          "data": {
            "text/plain": [
              "rating    0.555182\n",
              "dtype: float64"
            ]
          },
          "metadata": {},
          "execution_count": 51
        }
      ]
    },
    {
      "cell_type": "markdown",
      "metadata": {
        "id": "NMC9gPEGKH51"
      },
      "source": [
        "사용자별 장르별 편차의 평균이 0.55이다. 전체적으로 편차가 0.183인데 개인별 편차가 0.55를 보인다는 것은 개인별로 장르에 대한 선호도가 명확이 드러남을  알 수 있다."
      ]
    },
    {
      "cell_type": "code",
      "metadata": {
        "id": "eMCunUm4Uu5i"
      },
      "source": [
        "df_data_genre = pd.melt(df_data, id_vars=['occupation', 'rating'], value_vars=genre)\n",
        "df_data_genre = df_data_genre.loc[df_data_genre['value'] > 0]\n",
        "df_data_genre = df_data_genre.loc[df_data_genre['variable'] != 'unknown']\n",
        "df_occupation = df_data_genre.groupby(['occupation', 'variable'], as_index=False)['rating'].mean()\n",
        "df_occupation.columns =['occupation', 'genre', 'rating']"
      ],
      "execution_count": 52,
      "outputs": []
    },
    {
      "cell_type": "code",
      "metadata": {
        "id": "ELHJYKzNVNlw",
        "colab": {
          "base_uri": "https://localhost:8080/",
          "height": 1000
        },
        "outputId": "5f2cd7c4-caf4-46ad-957f-394965d8f055"
      },
      "source": [
        "sns.catplot(x='genre', y='rating', col=\"occupation\", kind='bar', col_wrap=1, data=df_occupation, aspect=5, height=3)"
      ],
      "execution_count": 53,
      "outputs": [
        {
          "output_type": "execute_result",
          "data": {
            "text/plain": [
              "<seaborn.axisgrid.FacetGrid at 0x7f0265eea250>"
            ]
          },
          "metadata": {},
          "execution_count": 53
        },
        {
          "output_type": "display_data",
          "data": {
            "image/png": "[encoded data removed]",
            "text/plain": [
              "<Figure size 1080x4536 with 21 Axes>"
            ]
          },
          "metadata": {
            "needs_background": "light"
          }
        }
      ]
    },
    {
      "cell_type": "markdown",
      "metadata": {
        "id": "XaVCCy-XX35A"
      },
      "source": [
        "직업에 따른 장르에 대한 편차가 약간씩 보인다. 직업별로 장르에 대한 선호와 연관있음을 알 수 있다."
      ]
    },
    {
      "cell_type": "code",
      "metadata": {
        "id": "Yi6HuuRGY_81"
      },
      "source": [
        "df_data['aged'] = np.digitize(df_data['age'], [10, 20, 30, 40, 50, 60, 70])\n",
        "df_data_genre = pd.melt(df_data, id_vars=['aged', 'rating'], value_vars=genre)\n",
        "df_data_genre = df_data_genre.loc[df_data_genre['value'] > 0]\n",
        "df_data_genre = df_data_genre.loc[df_data_genre['variable'] != 'unknown']\n",
        "df_aged = df_data_genre.groupby(['aged', 'variable'], as_index=False)['rating'].mean()\n",
        "df_aged.columns =['aged', 'genre', 'rating']"
      ],
      "execution_count": 54,
      "outputs": []
    },
    {
      "cell_type": "code",
      "metadata": {
        "id": "qac4wP42ZVk3",
        "colab": {
          "base_uri": "https://localhost:8080/",
          "height": 1000
        },
        "outputId": "e52f3b1f-8fdf-4af7-fb95-db1c72c65a94"
      },
      "source": [
        "sns.catplot(x='genre', y='rating', col=\"aged\", kind='bar', col_wrap=1, data=df_aged, aspect=5, height=3)"
      ],
      "execution_count": 55,
      "outputs": [
        {
          "output_type": "execute_result",
          "data": {
            "text/plain": [
              "<seaborn.axisgrid.FacetGrid at 0x7f0266273d90>"
            ]
          },
          "metadata": {},
          "execution_count": 55
        },
        {
          "output_type": "display_data",
          "data": {
            "image/png": "[encoded data removed]",
            "text/plain": [
              "<Figure size 1080x1728 with 8 Axes>"
            ]
          },
          "metadata": {
            "needs_background": "light"
          }
        }
      ]
    },
    {
      "cell_type": "markdown",
      "metadata": {
        "id": "LF4L3AVjaaEk"
      },
      "source": [
        "연령에 따라서도 장르에 대한 선호도가 미세하게 나마 차이나는 것을 알 수 있다."
      ]
    },
    {
      "cell_type": "code",
      "metadata": {
        "id": "YEMM93JTBQ0L"
      },
      "source": [
        "df_data_genre = pd.melt(df_data, id_vars=['post1', 'rating'], value_vars=genre)\n",
        "df_data_genre = df_data_genre.loc[df_data_genre['value'] > 0]\n",
        "df_data_genre = df_data_genre.loc[df_data_genre['variable'] != 'unknown']\n",
        "df_post1 = df_data_genre.groupby(['post1', 'variable'], as_index=False)['rating'].mean()\n",
        "df_post1.columns =['post1', 'genre', 'rating']"
      ],
      "execution_count": 56,
      "outputs": []
    },
    {
      "cell_type": "code",
      "metadata": {
        "id": "ZS2pAm7DCywa",
        "colab": {
          "base_uri": "https://localhost:8080/",
          "height": 1000
        },
        "outputId": "e03a3831-bc6f-4b80-90e2-66d48e5883cc"
      },
      "source": [
        "sns.catplot(x='genre', y='rating', col=\"post1\", kind='bar', col_wrap=1, data=df_post1, aspect=5, height=3)\n",
        "plt.show()"
      ],
      "execution_count": 57,
      "outputs": [
        {
          "output_type": "display_data",
          "data": {
            "image/png": "[encoded data removed]",
            "text/plain": [
              "<Figure size 1080x2376 with 11 Axes>"
            ]
          },
          "metadata": {
            "needs_background": "light"
          }
        }
      ]
    },
    {
      "cell_type": "code",
      "metadata": {
        "id": "FlLWnqQsp1DK",
        "colab": {
          "base_uri": "https://localhost:8080/",
          "height": 754
        },
        "outputId": "9726c9c8-a262-4622-cf15-7c63a6658500"
      },
      "source": [
        "df_data['date_diffd'] = np.digitize(df_data['date_diff'], [365, 720, 1200, 2400, 6000])\n",
        "sns.catplot('rating', col=\"date_diffd\", col_wrap=3, kind='count', data=df_data.loc[~np.isnan(df_data['date_diff'])])"
      ],
      "execution_count": 58,
      "outputs": [
        {
          "output_type": "stream",
          "name": "stderr",
          "text": [
            "/usr/local/lib/python3.7/dist-packages/seaborn/_decorators.py:43: FutureWarning: Pass the following variable as a keyword arg: x. From version 0.12, the only valid positional argument will be `data`, and passing other arguments without an explicit keyword will result in an error or misinterpretation.\n",
            "  FutureWarning\n"
          ]
        },
        {
          "output_type": "execute_result",
          "data": {
            "text/plain": [
              "<seaborn.axisgrid.FacetGrid at 0x7f025991b750>"
            ]
          },
          "metadata": {},
          "execution_count": 58
        },
        {
          "output_type": "display_data",
          "data": {
            "image/png": "[encoded data removed]",
            "text/plain": [
              "<Figure size 1080x720 with 6 Axes>"
            ]
          },
          "metadata": {
            "needs_background": "light"
          }
        }
      ]
    },
    {
      "cell_type": "markdown",
      "metadata": {
        "id": "Z3oVdWuw8Vbc"
      },
      "source": [
        "오래된 콘텐츠 일수록 높은 평점의 분포가 높아지고 있다. 하지만 그 경향이 뚜렷하지는 않다."
      ]
    },
    {
      "cell_type": "markdown",
      "metadata": {
        "id": "mDG9nnsyRWBz"
      },
      "source": [
        "#5.Feature Processing"
      ]
    },
    {
      "cell_type": "markdown",
      "metadata": {
        "id": "ZDKT0g2eQvNh"
      },
      "source": [
        "Item, User의 점수에 대한 평균"
      ]
    },
    {
      "cell_type": "code",
      "metadata": {
        "id": "RTz0JteEQh9O"
      },
      "source": [
        "df_user_avg = df_data.groupby(['user id'])['rating'].agg(['sum', 'count'])\n",
        "df_user_avg.columns = ['user_rating_mean', 'user_rating_count']\n",
        "df_item_avg = df_data.groupby(['item id'])['rating'].agg(['sum', 'count'])\n",
        "df_item_avg.columns = ['item_rating_mean', 'item_rating_count']"
      ],
      "execution_count": 59,
      "outputs": []
    },
    {
      "cell_type": "code",
      "metadata": {
        "id": "txpbti2EdYyy"
      },
      "source": [
        "df_data = df_data.join(df_user_avg, on='user id')\n",
        "df_data = df_data.join(df_item_avg, on='item id')\n",
        "df_data['user_rating_mean'] = (df_data['user_rating_mean'] - df_data['rating']) / (df_data['user_rating_count'] - 1 + 1e-8)\n",
        "df_data['item_rating_mean'] = (df_data['item_rating_mean'] - df_data['rating']) / (df_data['item_rating_count'] - 1 + 1e-8)"
      ],
      "execution_count": 60,
      "outputs": []
    },
    {
      "cell_type": "code",
      "metadata": {
        "id": "0kkrW--eQ90p"
      },
      "source": [
        "df_data['aged'] = np.digitize(df_data['age'], [10, 20, 30, 40, 50, 60, 70])\n",
        "df_data['date_diffd'] = np.digitize(df_data['date_diff'], [365, 720, 1200, 2400, 6000])"
      ],
      "execution_count": 61,
      "outputs": []
    },
    {
      "cell_type": "code",
      "metadata": {
        "id": "Jfypjo2jeZeP"
      },
      "source": [
        "occ_cols = []\n",
        "for i in df_data['occupation'].unique():\n",
        "  df_data['is_occupation_{}'.format(i)] = df_data['occupation'] == i\n",
        "  occ_cols.append('is_occupation_{}'.format(i))\n",
        "\n",
        "aged_cols = []\n",
        "for i in df_data['aged'].unique():\n",
        "  df_data['is_aged_{}'.format(i)] = df_data['aged'] == i\n",
        "  aged_cols.append('is_aged_{}'.format(i))\n",
        "\n",
        "date_diffd_cols = []\n",
        "for i in df_data['date_diffd'].unique():\n",
        "  df_data['is_date_diffd_{}'.format(i)] = df_data['date_diffd'] == i\n",
        "  date_diffd_cols.append('is_date_diffd_{}'.format(i))\n",
        "\n",
        "for i in post1_code:\n",
        "  df_data['is_post1_{}'.format(i)] = df_data['post1'] == i\n",
        "  date_diffd_cols.append('is_post1_{}'.format(i))"
      ],
      "execution_count": 62,
      "outputs": []
    },
    {
      "cell_type": "code",
      "metadata": {
        "id": "5HPEK2i4gC29"
      },
      "source": [
        "df_corr = df_data[['rating', 'user_rating_mean', 'item_rating_mean'] + genre + occ_cols + aged_cols + date_diffd_cols].corr()"
      ],
      "execution_count": 63,
      "outputs": []
    },
    {
      "cell_type": "code",
      "metadata": {
        "id": "eCnJZPXDgofA",
        "colab": {
          "base_uri": "https://localhost:8080/",
          "height": 739
        },
        "outputId": "9bb0856c-9dc8-4f43-fafd-86ade60196c2"
      },
      "source": [
        "# 0.0에 가까울 수록 관계가 없다.\n",
        "fig, ax = plt.subplots(figsize=(15,10))\n",
        "sns.heatmap(df_corr, ax = ax)"
      ],
      "execution_count": 64,
      "outputs": [
        {
          "output_type": "execute_result",
          "data": {
            "text/plain": [
              "<matplotlib.axes._subplots.AxesSubplot at 0x7f0259bb5790>"
            ]
          },
          "metadata": {},
          "execution_count": 64
        },
        {
          "output_type": "display_data",
          "data": {
            "image/png": "[encoded data removed]",
            "text/plain": [
              "<Figure size 1080x720 with 2 Axes>"
            ]
          },
          "metadata": {
            "needs_background": "light"
          }
        }
      ]
    },
    {
      "cell_type": "markdown",
      "metadata": {
        "id": "K7MkncN83izQ"
      },
      "source": [
        "Item별 평균, User 평균이 가장 높은 연관성을 보였고, \n",
        "\n",
        "나머지 속성은  미묘하게 연관성을 보인다."
      ]
    },
    {
      "cell_type": "markdown",
      "metadata": {
        "id": "_3tYivqG0I9S"
      },
      "source": [
        "#6.Common Data Processing"
      ]
    },
    {
      "cell_type": "markdown",
      "metadata": {
        "id": "hD077CEQ0QfH"
      },
      "source": [
        "이전 분석 과정에서 나온 사항을 반영한\n",
        "\n",
        "이 후 Chapter에서 사용할 데이터 처리 및 함수 정의"
      ]
    },
    {
      "cell_type": "code",
      "metadata": {
        "id": "IaBd3MtokI7S"
      },
      "source": [
        "# 장르 리스트를 로드\n",
        "df_genre = pd.read_csv('ml-100k/u.genre', delimiter='|', encoding='latin-', names=['genre', 'no'])\n",
        "# 직업 리스트를 로드\n",
        "df_occ = pd.read_csv('ml-100k/u.occupation', delimiter='|', encoding='latin-', names=['occupation'])\n",
        "genre = list(df_genre['genre'])\n",
        "occupation = list(df_occ['occupation'])\n",
        "del df_genre, df_occ\n",
        "# 컬럼명, 'IMDb URL' 이후의 컬럼은 장르를 나타낸다\n",
        "i_cols = ['item id', 'title' ,'release date','video release date', 'IMDb URL'] + genre\n",
        "# 장르는 0 또는 1 이므로 타입은 int8로 하여 용량을 줄인다.\n",
        "dtype = {i : np.int8 for i in genre}\n",
        "# delimiter를 |fh encoding을 latin-1로 한다.\n",
        "df_item = pd.read_csv('ml-100k/u.item', delimiter='|', encoding='latin-1', names=i_cols, index_col='item id', dtype=dtype)\n",
        "#video release date이 있는 값은 없어 삭제한다.\n",
        "df_item.drop(['video release date'], axis=1, inplace=True)\n",
        "# release date의 타입을 str에서 datetime으로 변경\n",
        "df_item.loc[~df_item['release date'].isnull(), 'release date'] = df_item[~df_item['release date'].isnull()]['release date'].map(lambda x:  datetime.strptime(x, '%d-%b-%Y'))\n",
        "df_item['release date'] = df_item['release date'].astype(np.datetime64)\n",
        "# 컬럼명\n",
        "i_cols = ['user id', 'age' ,'gender','occupation', 'post']\n",
        "# delimiter를 |fh encoding을 latin-1로 한다.\n",
        "df_user = pd.read_csv('ml-100k/u.user', delimiter='|', encoding='latin-1', names=i_cols, index_col='user id')\n",
        "df_user['aged'] = np.digitize(df_user['age'], [10, 20, 30, 40, 50, 60, 70])\n",
        "# Linear Regression, Neural Network, Matrix Factorization을 위한 categorical feature, binning feature(item_rating_countd, user_rating_countd)에 대한 one-hot value column\n",
        "occ_cols = ['is_occupation_{}'.format(i) for i in occupation]\n",
        "aged_cols = ['is_aged_{}'.format(i) for i in range(8)]\n",
        "for i in range(8):\n",
        "  df_user['is_aged_{}'.format(i)] = (df_user['aged'] == i).astype(np.int8)\n",
        "for i in occupation:\n",
        "  df_user['is_occupation_{}'.format(i)] = (df_user['occupation'] == i).astype(np.int8)\n",
        "post1_code = ['{}'.format(i) for i in range(10)] + ['etc']\n",
        "df_user['post1'] = df_user['post'].map(lambda x: x[0] if x[0] >= '0' and x[0] <= '9'  else 'etc')\n",
        "for i in post1_code:\n",
        "  df_user['is_post1_{}'.format(i)] = (df_user['post1'] == i).astype(np.int8)\n",
        "date_diffd_cols = ['is_date_diffd_{}'.format(i) for i in range(6)]\n",
        "item_rating_countd_cols = ['item_rating_countd_{}'.format(i) for i in range(6)]\n",
        "user_rating_countd_cols = ['user_rating_countd_{}'.format(i) for i in range(6)]\n",
        "post1_cols = ['is_post1_{}'.format(i) for i in post1_code]"
      ],
      "execution_count": 65,
      "outputs": []
    },
    {
      "cell_type": "code",
      "metadata": {
        "id": "RJw2fBk1kDCJ"
      },
      "source": [
        "def read_raw_data(filename):\n",
        "  \"\"\"\n",
        "  원본 평점데이터를 읽어들이고, \n",
        "  평점데이터에서만 처리할 수 있는 전처리 작업 수행\n",
        "  Parameters\n",
        "  ----------\n",
        "  filename - str\n",
        "    파일명\n",
        "  Returns\n",
        "  -------\n",
        "    pd.Dataframe\n",
        "      데이터프레임\n",
        "  \"\"\"\n",
        "  df = pd.read_csv(filename, delimiter='\\t', names=['user id', 'item id', 'rating', 'timestamp'])\n",
        "  df['timestamp'] = df['timestamp'].map(lambda x: datetime.fromtimestamp(x))\n",
        "  # 시청했을 때와 영화 출시로 부터 경과한 시점을 계산해\n",
        "  df = df.join(df_item, on='item id')\n",
        "  df = df.join(df_user, on='user id')\n",
        "  df['date_diff'] = df['timestamp'] - df['release date']\n",
        "  df['date_diff'] = df['date_diff'].map(lambda x: x.days)\n",
        "  df['date_diffd'] = np.digitize(df['date_diff'], [365, 720, 1200, 2400, 6000])\n",
        "  for i in range(6):\n",
        "    df['is_date_diffd_{}'.format(i)] = (df['date_diffd'] == i).astype(np.int8)\n",
        "  return df"
      ],
      "execution_count": 66,
      "outputs": []
    },
    {
      "cell_type": "code",
      "metadata": {
        "id": "m7ROC3BHnVI4"
      },
      "source": [
        "def read_dataset(set_no):\n",
        "  \"\"\"\n",
        "  원본 데이터를 읽어들이고, \n",
        "  item데이터와 user데이터를 join 하고 \n",
        "  이에 대한 후처리 작업 수행\n",
        "  Parameters\n",
        "  ----------\n",
        "    set_no: int\n",
        "      dataset 번호\n",
        "  Returns\n",
        "  -------\n",
        "    pd.Dataframe\n",
        "      데이터프레임\n",
        "  \"\"\"\n",
        "  df_base = read_raw_data('ml-100k/u{}.base'.format(set_no))\n",
        "  # 사용자의 평점 평균을 구하기 위한 합, 카운트 구한다\n",
        "  df_user_avg = df_base.groupby(['user id'])['rating'].agg(['sum', 'count'])\n",
        "  df_user_avg.columns = ['user_rating_mean', 'user_rating_count']\n",
        "  # 아이템의 평점 평균을 구하기 위한 합, 카운트 구한다\n",
        "  df_item_avg = df_base.groupby(['item id'])['rating'].agg(['sum', 'count'])\n",
        "  df_item_avg.columns = ['item_rating_mean', 'item_rating_count']\n",
        "  # 평점데이터에 통계 정보 join\n",
        "  df_base = df_base.join(df_user_avg, on='user id')\n",
        "  df_base = df_base.join(df_item_avg, on='item id')\n",
        "  # 평점 항목의 사항을 제외: 통계 정보에 학습시 예측하고자하는 사항에 예측 내용이 반영 되는 것을 피하여, 통계의 정합성을 높힌다.\n",
        "  df_base['user_rating_count'] = df_base['user_rating_count'] - 1\n",
        "  df_base['item_rating_count'] = df_base['item_rating_count'] - 1\n",
        "  df_base['user_rating_mean'] = (df_base['user_rating_mean'] - df_base['rating']) / (df_base['user_rating_count'] + 1e-8)\n",
        "  df_base['item_rating_mean'] = (df_base['item_rating_mean'] - df_base['rating']) / (df_base['item_rating_count'] + 1e-8)\n",
        "  # 카운트를 구간화 한다.\n",
        "  df_base['user_rating_countd'] = np.digitize(df_base['user_rating_count'] - 1, [30, 50, 100, 200, 500])\n",
        "  df_base['item_rating_countd'] = np.digitize(df_base['item_rating_count'] - 1, [1, 10, 50, 100, 300])\n",
        "\n",
        "  df_test = read_raw_data('ml-100k/u{}.test'.format(set_no))\n",
        "  df_test = df_test.join(df_user_avg, on='user id')\n",
        "  df_test = df_test.join(df_item_avg, on='item id')\n",
        "  # 테스트 항목에서는 통계의 테스트 데이터가 반영이 된 상태는 아니므로 항목의 평점을 제외할 필요는 없고, 통계가 없는 항목에 대해 0을 넣어준다.\n",
        "  df_test['user_rating_mean'] = df_test['user_rating_mean'].fillna(0) / (df_test['user_rating_count'].fillna(0) + 1e-8)\n",
        "  df_test['item_rating_mean'] = df_test['item_rating_mean'].fillna(0) / (df_test['item_rating_count'].fillna(0) + 1e-8)\n",
        "  df_test['user_rating_countd'] = np.digitize(df_test['user_rating_count'], [30, 50, 100, 200, 500])\n",
        "  df_test['item_rating_countd'] = np.digitize(df_test['item_rating_count'], [1, 10, 50, 100, 300])\n",
        "  # 구간화한 카운트 정보에 대하여 one-hot value로 나타낸다. (Linear Regression, Neural Network, Matrix factorization 등의 모델에서 사용)\n",
        "  for i in range(6):\n",
        "    df_base['user_rating_countd_{}'.format(i)] = (df_base['user_rating_countd'] == i).astype(np.int8)\n",
        "    df_base['item_rating_countd_{}'.format(i)] = (df_base['item_rating_countd'] == i).astype(np.int8)\n",
        "    df_test['user_rating_countd_{}'.format(i)] = (df_test['user_rating_countd'] == i).astype(np.int8)\n",
        "    df_test['item_rating_countd_{}'.format(i)] = (df_test['item_rating_countd'] == i).astype(np.int8)\n",
        "  return df_base, df_test"
      ],
      "execution_count": 67,
      "outputs": []
    },
    {
      "cell_type": "markdown",
      "metadata": {
        "id": "ToEq31MmkEJo"
      },
      "source": [
        "#7.Matrix Factorization 소개"
      ]
    },
    {
      "cell_type": "markdown",
      "metadata": {
        "id": "zbpPNIwJaFft"
      },
      "source": [
        "Matrix Factorization에 대한 소개이고, \n",
        "\n",
        "다양한 예측 모델을 사용한 예측 작업은 8장에서 다룬다."
      ]
    },
    {
      "cell_type": "markdown",
      "metadata": {
        "id": "V9oQRRKAIp5f"
      },
      "source": [
        "##1.통계기반 예측"
      ]
    },
    {
      "cell_type": "markdown",
      "metadata": {
        "id": "ou-2z3jMNnvS"
      },
      "source": [
        "Item,user의 평균 값으로만 예측을 해보자."
      ]
    },
    {
      "cell_type": "code",
      "metadata": {
        "id": "doGvKAJcKZ1u"
      },
      "source": [
        "df_base, df_test = read_dataset(1)"
      ],
      "execution_count": 68,
      "outputs": []
    },
    {
      "cell_type": "code",
      "metadata": {
        "id": "C-lh5oFnL65B",
        "colab": {
          "base_uri": "https://localhost:8080/"
        },
        "outputId": "6c54f5ad-98c1-4b53-94bb-8cce7944f993"
      },
      "source": [
        "# 테스트 Item의 평균으로 예측 했을 때 MSE, user의 평균으로 예측했을때 MSE\n",
        "np.mean(np.square(df_base['item_rating_mean'] - df_base['rating'])), np.mean(np.square(df_base['user_rating_mean'] - df_base['rating']))\n",
        "# 사용자별 평균으로만으로 예측했을 때, 검증셋에 대한 MSE가 1.076 정도는 나온다"
      ],
      "execution_count": 69,
      "outputs": [
        {
          "output_type": "execute_result",
          "data": {
            "text/plain": [
              "(1.0522663057403405, 1.0764250024743085)"
            ]
          },
          "metadata": {},
          "execution_count": 69
        }
      ]
    },
    {
      "cell_type": "code",
      "metadata": {
        "id": "lxgvUusmIokg",
        "colab": {
          "base_uri": "https://localhost:8080/"
        },
        "outputId": "0bc2157d-1374-4f59-9ac1-a2fd42295def"
      },
      "source": [
        "# 테스트 데이터를 Item의 평균으로 예측 했을 때 MSE, user의 평균으로 예측했을때 MSE\n",
        "np.mean(np.square(df_test['item_rating_mean'] - df_test['rating'])), np.mean(np.square(df_test['user_rating_mean'] - df_test['rating']))\n",
        "# 아이템별 평균으로만으로 예측했을 때, MSE가 1.129 정도는 나온다"
      ],
      "execution_count": 70,
      "outputs": [
        {
          "output_type": "execute_result",
          "data": {
            "text/plain": [
              "(1.0734243764895939, 1.1299586414166156)"
            ]
          },
          "metadata": {},
          "execution_count": 70
        }
      ]
    },
    {
      "cell_type": "code",
      "metadata": {
        "id": "tZfnnmTWRSFz",
        "colab": {
          "base_uri": "https://localhost:8080/"
        },
        "outputId": "ec853c1b-febd-44f2-c471-504e7a588881"
      },
      "source": [
        "tf.random.set_seed(1)\n",
        "# item의 평균과, user의 평균으로 Linear regression(선형회귀분석)을 할 떄\n",
        "input = tf.keras.layers.Input(shape = (2), name='inp')\n",
        "# Hidden Unit이 없고 Dense Layer Unit이 1 이면 곧 Linear Regression이 된다.\n",
        "prd = tf.keras.layers.Dense(1)(input)\n",
        "model = tf.keras.models.Model(inputs=input, outputs=prd)\n",
        "model.compile('Adam', tf.keras.losses.mean_squared_error)\n",
        "# df_base로 모델을 학습시키고, df_test로 검증한다.\n",
        "hist_stat = model.fit(x=df_base[['item_rating_mean', 'user_rating_mean']], y=df_base['rating'], \n",
        "          validation_data=(df_test[['item_rating_mean', 'user_rating_mean']], df_test['rating']), epochs=25)"
      ],
      "execution_count": 71,
      "outputs": [
        {
          "output_type": "stream",
          "name": "stdout",
          "text": [
            "Epoch 1/25\n",
            "2500/2500 [==============================] - 9s 3ms/step - loss: 1.8810 - val_loss: 1.3745\n",
            "Epoch 2/25\n",
            "2500/2500 [==============================] - 7s 3ms/step - loss: 1.1835 - val_loss: 1.1306\n",
            "Epoch 3/25\n",
            "2500/2500 [==============================] - 6s 3ms/step - loss: 1.0150 - val_loss: 1.0177\n",
            "Epoch 4/25\n",
            "2500/2500 [==============================] - 7s 3ms/step - loss: 0.9577 - val_loss: 0.9826\n",
            "Epoch 5/25\n",
            "2500/2500 [==============================] - 6s 3ms/step - loss: 0.9412 - val_loss: 0.9701\n",
            "Epoch 6/25\n",
            "2500/2500 [==============================] - 6s 2ms/step - loss: 0.9347 - val_loss: 0.9635\n",
            "Epoch 7/25\n",
            "2500/2500 [==============================] - 6s 2ms/step - loss: 0.9303 - val_loss: 0.9591\n",
            "Epoch 8/25\n",
            "2500/2500 [==============================] - 6s 2ms/step - loss: 0.9275 - val_loss: 0.9572\n",
            "Epoch 9/25\n",
            "2500/2500 [==============================] - 6s 3ms/step - loss: 0.9253 - val_loss: 0.9549\n",
            "Epoch 10/25\n",
            "2500/2500 [==============================] - 6s 2ms/step - loss: 0.9236 - val_loss: 0.9537\n",
            "Epoch 11/25\n",
            "2500/2500 [==============================] - 7s 3ms/step - loss: 0.9224 - val_loss: 0.9510\n",
            "Epoch 12/25\n",
            "2500/2500 [==============================] - 7s 3ms/step - loss: 0.9215 - val_loss: 0.9538\n",
            "Epoch 13/25\n",
            "2500/2500 [==============================] - 7s 3ms/step - loss: 0.9205 - val_loss: 0.9496\n",
            "Epoch 14/25\n",
            "2500/2500 [==============================] - 7s 3ms/step - loss: 0.9200 - val_loss: 0.9487\n",
            "Epoch 15/25\n",
            "2500/2500 [==============================] - 6s 2ms/step - loss: 0.9195 - val_loss: 0.9496\n",
            "Epoch 16/25\n",
            "2500/2500 [==============================] - 7s 3ms/step - loss: 0.9193 - val_loss: 0.9482\n",
            "Epoch 17/25\n",
            "2500/2500 [==============================] - 6s 3ms/step - loss: 0.9192 - val_loss: 0.9481\n",
            "Epoch 18/25\n",
            "2500/2500 [==============================] - 7s 3ms/step - loss: 0.9189 - val_loss: 0.9477\n",
            "Epoch 19/25\n",
            "2500/2500 [==============================] - 6s 2ms/step - loss: 0.9188 - val_loss: 0.9475\n",
            "Epoch 20/25\n",
            "2500/2500 [==============================] - 7s 3ms/step - loss: 0.9186 - val_loss: 0.9481\n",
            "Epoch 21/25\n",
            "2500/2500 [==============================] - 7s 3ms/step - loss: 0.9185 - val_loss: 0.9504\n",
            "Epoch 22/25\n",
            "2500/2500 [==============================] - 6s 3ms/step - loss: 0.9184 - val_loss: 0.9481\n",
            "Epoch 23/25\n",
            "2500/2500 [==============================] - 6s 2ms/step - loss: 0.9183 - val_loss: 0.9483\n",
            "Epoch 24/25\n",
            "2500/2500 [==============================] - 7s 3ms/step - loss: 0.9184 - val_loss: 0.9477\n",
            "Epoch 25/25\n",
            "2500/2500 [==============================] - 6s 2ms/step - loss: 0.9183 - val_loss: 0.9477\n"
          ]
        }
      ]
    },
    {
      "cell_type": "code",
      "metadata": {
        "id": "0dQ3vZvuXSI4",
        "colab": {
          "base_uri": "https://localhost:8080/",
          "height": 374
        },
        "outputId": "2386fa7e-d18c-470b-d379-69832012d321"
      },
      "source": [
        "#사용자 별 평균과 아이템별 평균으로 돌렸을 때 MSE가 0.947 정도 나온다\n",
        "#학습결과 출력\n",
        "fig, ax = plt.subplots(figsize=(15, 6))\n",
        "sns.lineplot(x=np.arange(4, 26), y=hist_stat.history['loss'][3:])\n",
        "sns.lineplot(x=np.arange(4, 26), y=hist_stat.history['val_loss'][3:])\n",
        "plt.show()"
      ],
      "execution_count": 72,
      "outputs": [
        {
          "output_type": "display_data",
          "data": {
            "image/png": "[encoded data removed]",
            "text/plain": [
              "<Figure size 1080x432 with 1 Axes>"
            ]
          },
          "metadata": {
            "needs_background": "light"
          }
        }
      ]
    },
    {
      "cell_type": "code",
      "metadata": {
        "id": "m4NkFcqOWjPw",
        "colab": {
          "base_uri": "https://localhost:8080/"
        },
        "outputId": "9195e2a4-82e8-4653-ac55-99375441e90f"
      },
      "source": [
        "# 최소 오차\n",
        "min(hist_stat.history['val_loss'])"
      ],
      "execution_count": 73,
      "outputs": [
        {
          "output_type": "execute_result",
          "data": {
            "text/plain": [
              "0.9474961757659912"
            ]
          },
          "metadata": {},
          "execution_count": 73
        }
      ]
    },
    {
      "cell_type": "markdown",
      "metadata": {
        "id": "IKLrRutO-yQd"
      },
      "source": [
        "##2.Matrix Factorization"
      ]
    },
    {
      "cell_type": "markdown",
      "metadata": {
        "id": "JBTHDD2uOmlK"
      },
      "source": [
        "Tensorflow로 Matrix Factorization 구현\n",
        "가장 기본적인 Matrix Factorization 모델을 사용하여 평점 예측"
      ]
    },
    {
      "cell_type": "code",
      "metadata": {
        "id": "nzrE0B5Bt47z",
        "colab": {
          "base_uri": "https://localhost:8080/"
        },
        "outputId": "b80b9453-8b55-4965-fe6b-4b580d53f9e1"
      },
      "source": [
        "tf.random.set_seed(1)\n",
        "input = tf.keras.layers.Input(shape = (2), name='inp')\n",
        "# Latent Factor 8로 해서 item embedding과 user embedding을 생성\n",
        "emb_item_l = tf.keras.layers.Embedding(len(df_item) + 1, 8)\n",
        "emb_user_l = tf.keras.layers.Embedding(len(df_user) + 1, 8)\n",
        "emb_item = emb_item_l(input[:, 0])\n",
        "emb_user = emb_user_l(input[:, 1])\n",
        "# 두개의 embedding의 Dot Product 즉 Factorization 을 수행한다.\n",
        "prd = tf.keras.layers.Dot(axes=1)([emb_item , emb_user])\n",
        "model = tf.keras.models.Model(inputs=input, outputs=prd)\n",
        "model.compile('Adam', tf.keras.losses.mean_squared_error)\n",
        "# df_base로 모델을 학습시키고, df_test로 검증한다.\n",
        "hist_mf_simple = model.fit(x=df_base[['item id', 'user id']], y=df_base['rating'], \n",
        "                 validation_data=(df_test[['item id', 'user id']], df_test['rating']), epochs=25)"
      ],
      "execution_count": 74,
      "outputs": [
        {
          "output_type": "stream",
          "name": "stdout",
          "text": [
            "Epoch 1/25\n",
            "2500/2500 [==============================] - 10s 4ms/step - loss: 10.5449 - val_loss: 5.0006\n",
            "Epoch 2/25\n",
            "2500/2500 [==============================] - 10s 4ms/step - loss: 2.2780 - val_loss: 1.7052\n",
            "Epoch 3/25\n",
            "2500/2500 [==============================] - 10s 4ms/step - loss: 1.2125 - val_loss: 1.1945\n",
            "Epoch 4/25\n",
            "2500/2500 [==============================] - 10s 4ms/step - loss: 0.9991 - val_loss: 1.0384\n",
            "Epoch 5/25\n",
            "2500/2500 [==============================] - 10s 4ms/step - loss: 0.9315 - val_loss: 0.9873\n",
            "Epoch 6/25\n",
            "2500/2500 [==============================] - 10s 4ms/step - loss: 0.9027 - val_loss: 0.9614\n",
            "Epoch 7/25\n",
            "2500/2500 [==============================] - 10s 4ms/step - loss: 0.8893 - val_loss: 0.9492\n",
            "Epoch 8/25\n",
            "2500/2500 [==============================] - 10s 4ms/step - loss: 0.8806 - val_loss: 0.9464\n",
            "Epoch 9/25\n",
            "2500/2500 [==============================] - 10s 4ms/step - loss: 0.8742 - val_loss: 0.9388\n",
            "Epoch 10/25\n",
            "2500/2500 [==============================] - 10s 4ms/step - loss: 0.8687 - val_loss: 0.9349\n",
            "Epoch 11/25\n",
            "2500/2500 [==============================] - 9s 4ms/step - loss: 0.8638 - val_loss: 0.9349\n",
            "Epoch 12/25\n",
            "2500/2500 [==============================] - 9s 4ms/step - loss: 0.8581 - val_loss: 0.9306\n",
            "Epoch 13/25\n",
            "2500/2500 [==============================] - 10s 4ms/step - loss: 0.8522 - val_loss: 0.9247\n",
            "Epoch 14/25\n",
            "2500/2500 [==============================] - 10s 4ms/step - loss: 0.8439 - val_loss: 0.9190\n",
            "Epoch 15/25\n",
            "2500/2500 [==============================] - 10s 4ms/step - loss: 0.8349 - val_loss: 0.9139\n",
            "Epoch 16/25\n",
            "2500/2500 [==============================] - 10s 4ms/step - loss: 0.8245 - val_loss: 0.9080\n",
            "Epoch 17/25\n",
            "2500/2500 [==============================] - 10s 4ms/step - loss: 0.8128 - val_loss: 0.9041\n",
            "Epoch 18/25\n",
            "2500/2500 [==============================] - 10s 4ms/step - loss: 0.8006 - val_loss: 0.8990\n",
            "Epoch 19/25\n",
            "2500/2500 [==============================] - 10s 4ms/step - loss: 0.7899 - val_loss: 0.8956\n",
            "Epoch 20/25\n",
            "2500/2500 [==============================] - 10s 4ms/step - loss: 0.7778 - val_loss: 0.8903\n",
            "Epoch 21/25\n",
            "2500/2500 [==============================] - 10s 4ms/step - loss: 0.7665 - val_loss: 0.8864\n",
            "Epoch 22/25\n",
            "2500/2500 [==============================] - 10s 4ms/step - loss: 0.7548 - val_loss: 0.8854\n",
            "Epoch 23/25\n",
            "2500/2500 [==============================] - 10s 4ms/step - loss: 0.7428 - val_loss: 0.8852\n",
            "Epoch 24/25\n",
            "2500/2500 [==============================] - 10s 4ms/step - loss: 0.7310 - val_loss: 0.8844\n",
            "Epoch 25/25\n",
            "2500/2500 [==============================] - 10s 4ms/step - loss: 0.7191 - val_loss: 0.8854\n"
          ]
        }
      ]
    },
    {
      "cell_type": "code",
      "metadata": {
        "id": "uv99b5m9F4ff",
        "colab": {
          "base_uri": "https://localhost:8080/",
          "height": 374
        },
        "outputId": "16a46aa7-ccab-45fb-e868-969524d10062"
      },
      "source": [
        "#학습결과 출력\n",
        "fig, ax = plt.subplots(figsize=(15, 6))\n",
        "sns.lineplot(x=np.arange(4, 26), y=np.sqrt(hist_mf_simple.history['loss'][3:]))\n",
        "sns.lineplot(x=np.arange(4, 26), y=np.sqrt(hist_mf_simple.history['val_loss'][3:]))\n",
        "plt.show()"
      ],
      "execution_count": 75,
      "outputs": [
        {
          "output_type": "display_data",
          "data": {
            "image/png": "[encoded data removed]",
            "text/plain": [
              "<Figure size 1080x432 with 1 Axes>"
            ]
          },
          "metadata": {
            "needs_background": "light"
          }
        }
      ]
    },
    {
      "cell_type": "markdown",
      "metadata": {
        "id": "A8eZRt391KzH"
      },
      "source": [
        "Train에서 loss는 급격히 줄여 가지만, valid set에 대해서는 성능은 점진적으로 수렴해간다.\n",
        "\n",
        "이후 더 학습을 한다고 해도 valid set에 대한 성능 향상 보다는 overfit이 발생할 것으로 보인다."
      ]
    },
    {
      "cell_type": "code",
      "metadata": {
        "id": "fOP1GliDYwon",
        "colab": {
          "base_uri": "https://localhost:8080/"
        },
        "outputId": "3c7fcf22-2d27-4572-b5aa-27049212c9d4"
      },
      "source": [
        "# 최소 오차\n",
        "min(hist_mf_simple.history['val_loss'])"
      ],
      "execution_count": 76,
      "outputs": [
        {
          "output_type": "execute_result",
          "data": {
            "text/plain": [
              "0.8844428658485413"
            ]
          },
          "metadata": {},
          "execution_count": 76
        }
      ]
    },
    {
      "cell_type": "code",
      "metadata": {
        "id": "cPexvU1Ua12N",
        "colab": {
          "base_uri": "https://localhost:8080/"
        },
        "outputId": "b8689c7e-4874-47b4-a454-d682dc5e5e80"
      },
      "source": [
        " print('통계적 예측 대비 성능향상 {}%'.format((1 - np.sqrt(min(hist_mf_simple.history['val_loss'])) / np.sqrt(min(hist_stat.history['val_loss']))) * 100))"
      ],
      "execution_count": 77,
      "outputs": [
        {
          "output_type": "stream",
          "name": "stdout",
          "text": [
            "통계적 예측 대비 성능향상 3.3846439498474434%\n"
          ]
        }
      ]
    },
    {
      "cell_type": "markdown",
      "metadata": {
        "id": "FPK8_r4ozzb7"
      },
      "source": [
        "#8.Recommenders Model"
      ]
    },
    {
      "cell_type": "markdown",
      "metadata": {
        "id": "vFukSAV9z7pG"
      },
      "source": [
        "##1.Gradient Boosted Tree"
      ]
    },
    {
      "cell_type": "markdown",
      "metadata": {
        "id": "qD4BIvJh12de"
      },
      "source": [
        "Gradient Boosted Tree를 구현한 모듈은 XGBoost, LightGBM... 등있지만,\n",
        "\n",
        "XGBoost가 뛰어난 성능을 보인다고 Kaggle의 여러 사례에서 보여 줬지만, \n",
        "\n",
        "이 모듈은  굉장히 무거워서, 여기에서는 비교적 연산부하가 적은 LightGBM을 쓰겠다 "
      ]
    },
    {
      "cell_type": "code",
      "metadata": {
        "id": "I8aKJkOibCGc"
      },
      "source": [
        "def try_lgb(X, y, eval_set,  verbose=0, **args):\n",
        "  \"\"\"\n",
        "  light gbm 모델을 학습시킨다. \n",
        "  또한, eval_set을 통하여 학습 중간에 검증셋에 대한 MSE의 변화를 측정한다.\n",
        "\n",
        "  Parameters\n",
        "  ----------\n",
        "  X: dataframe\n",
        "    - input data\n",
        "  y: series\n",
        "    - target\n",
        "  eval_set: tuple\n",
        "    (eval input,eval y) - 검증데이터\n",
        "  verbose: int\n",
        "    Training Metric 출력\n",
        "  \n",
        "  Returns\n",
        "  -------\n",
        "    object, float\n",
        "      - regressor, Mean Squared error \n",
        "  \"\"\"\n",
        "  # Light GBM Regressor 생성\n",
        "  lgbm_c = lgb.LGBMRegressor(**args)\n",
        "  # Light GBM 학습\n",
        "  lgbm_c.fit(X, y, eval_set=[(X, y), eval_set], verbose=verbose)\n",
        "  # 예측\n",
        "  y = lgbm_c.predict(eval_set[0])\n",
        "  # mse 계산\n",
        "  mse = np.mean(np.square(y - eval_set[1]))\n",
        "  return lgbm_c, mse"
      ],
      "execution_count": 78,
      "outputs": []
    },
    {
      "cell_type": "code",
      "metadata": {
        "id": "rbvKtaEl25Pt"
      },
      "source": [
        "cols = ['item id', 'user id', 'date_diff', 'age', \n",
        "        'user_rating_mean', 'item_rating_mean', 'user_rating_count', 'item_rating_count'] + genre + occ_cols + post1_cols"
      ],
      "execution_count": 79,
      "outputs": []
    },
    {
      "cell_type": "code",
      "metadata": {
        "id": "5e4rAdtZ2mxH",
        "colab": {
          "base_uri": "https://localhost:8080/"
        },
        "outputId": "ec7fa0be-f993-48e9-9cf9-c8329838f1fc"
      },
      "source": [
        "df_base,  df_test = read_dataset(1)\n",
        "lgbm_c, mse = try_lgb(df_base[cols], df_base['rating'], (df_test[cols], df_test['rating']), verbose=5,\n",
        "        n_estimators=100, learning_rate=0.05, num_leaves=31, colsample_bytree=0.75)"
      ],
      "execution_count": 80,
      "outputs": [
        {
          "output_type": "stream",
          "name": "stdout",
          "text": [
            "[5]\ttraining's l2: 1.12825\tvalid_1's l2: 1.20054\n",
            "[10]\ttraining's l2: 1.04047\tvalid_1's l2: 1.1088\n",
            "[15]\ttraining's l2: 0.984906\tvalid_1's l2: 1.05231\n",
            "[20]\ttraining's l2: 0.946407\tvalid_1's l2: 1.01434\n",
            "[25]\ttraining's l2: 0.915825\tvalid_1's l2: 0.990288\n",
            "[30]\ttraining's l2: 0.891444\tvalid_1's l2: 0.970986\n",
            "[35]\ttraining's l2: 0.874827\tvalid_1's l2: 0.961438\n",
            "[40]\ttraining's l2: 0.858692\tvalid_1's l2: 0.952985\n",
            "[45]\ttraining's l2: 0.844187\tvalid_1's l2: 0.947831\n",
            "[50]\ttraining's l2: 0.833065\tvalid_1's l2: 0.944453\n",
            "[55]\ttraining's l2: 0.821304\tvalid_1's l2: 0.941871\n",
            "[60]\ttraining's l2: 0.811614\tvalid_1's l2: 0.939005\n",
            "[65]\ttraining's l2: 0.801792\tvalid_1's l2: 0.937864\n",
            "[70]\ttraining's l2: 0.7924\tvalid_1's l2: 0.936805\n",
            "[75]\ttraining's l2: 0.7834\tvalid_1's l2: 0.93582\n",
            "[80]\ttraining's l2: 0.774911\tvalid_1's l2: 0.936117\n",
            "[85]\ttraining's l2: 0.767372\tvalid_1's l2: 0.93585\n",
            "[90]\ttraining's l2: 0.760065\tvalid_1's l2: 0.9352\n",
            "[95]\ttraining's l2: 0.752913\tvalid_1's l2: 0.934965\n",
            "[100]\ttraining's l2: 0.745547\tvalid_1's l2: 0.935115\n"
          ]
        }
      ]
    },
    {
      "cell_type": "code",
      "metadata": {
        "id": "SNp2R2U34kCP",
        "colab": {
          "base_uri": "https://localhost:8080/",
          "height": 513
        },
        "outputId": "7599c263-f1a6-4cd4-99e5-5f8f3504090b"
      },
      "source": [
        "# Feature의 중요성을 출력해 본다\n",
        "feature_imp = pd.DataFrame(sorted(zip(lgbm_c.feature_importances_, cols))[-50:], columns=['Value','Feature'])\n",
        "plt.figure(figsize=(12, 7))\n",
        "sns.barplot(x=\"Value\", y=\"Feature\", data=feature_imp.sort_values(by=\"Value\", ascending=False))\n",
        "plt.title('LightGBM Features')\n",
        "plt.tight_layout()\n",
        "plt.show()"
      ],
      "execution_count": 81,
      "outputs": [
        {
          "output_type": "display_data",
          "data": {
            "image/png": "[encoded data removed]",
            "text/plain": [
              "<Figure size 864x504 with 1 Axes>"
            ]
          },
          "metadata": {
            "needs_background": "light"
          }
        }
      ]
    },
    {
      "cell_type": "markdown",
      "metadata": {
        "id": "0g4khO56iJYc"
      },
      "source": [
        "검증셋에 대한 MSE는 0.934 이다.\n",
        "Sparse하고 다수의 Category (user id, item id) 에 대한 Gradient Boosted Tree의 효과는 크지 않음을 확인할 수 있다. \n",
        "즉 Tree 기반의 모델은 적합하지 않다."
      ]
    },
    {
      "cell_type": "markdown",
      "metadata": {
        "id": "GIDliIRKD57u"
      },
      "source": [
        "##2.Linear Regression"
      ]
    },
    {
      "cell_type": "markdown",
      "metadata": {
        "id": "2ofy_ka2tVlN"
      },
      "source": [
        "이전 챕터에서 평균값들로 회귀분석한 것을 item id, user id와 다른 feature를 포함하여 모델을 구성했다"
      ]
    },
    {
      "cell_type": "code",
      "metadata": {
        "id": "GA3GCCjeQkx6"
      },
      "source": [
        "# Liner Regression은 categorical feature을 직접 취할 수 없다. one_hot, variable로 치환하고\n",
        "# 비균등한 feature(item_rating_count, view_rating_count, date_diff) 등은 binning해서 사용한다.\n",
        "cols = ['item id', 'user id', 'user_rating_mean', 'item_rating_mean']\n",
        "cols += genre + occ_cols + aged_cols + date_diffd_cols + item_rating_countd_cols + user_rating_countd_cols + post1_cols"
      ],
      "execution_count": 82,
      "outputs": []
    },
    {
      "cell_type": "code",
      "metadata": {
        "id": "YA96610eDSjd"
      },
      "source": [
        "def try_lr(X, y, eval_set, \n",
        "           learning_rate=0.001, epochs=20, lf_dim_i=8, lf_dim_u=4, l2_i = 0.0, l2_u = 0.0, verbose=1):\n",
        "  \"\"\"\n",
        "  Linear Regression 모델을 학습시키고, 검증한다.\n",
        "  또한, eval_set을 통하여 학습 중간에 검증셋에 대한 MSE의 변화를 측정한다.\n",
        "  \n",
        "  Parameters\n",
        "  ----------\n",
        "  X: dataframe\n",
        "    - input data, 첫번째 항목은 item id 두번째 항목은 user id여야 한다.\n",
        "  y: series\n",
        "    - target\n",
        "  eval_set: tuple\n",
        "    (eval input,eval y) - 검증데이터\n",
        "  learning_rate: float\n",
        "    학습율\n",
        "  epochs: integer\n",
        "    학습 Loop 수\n",
        "  lf_dim_i: integer\n",
        "    item의 embedding 수\n",
        "  lf_dim_u: integer\n",
        "    user의 embedding 수\n",
        "  l2_i: float\n",
        "    item embedding의 l2 regularization 계수\n",
        "  l2_u: float\n",
        "    user embedding의 l2 regularization 계수\n",
        "  verbose: int\n",
        "    Training Metric 출력\n",
        "  \n",
        "  Returns\n",
        "  -------\n",
        "    object, list, float\n",
        "      - regressor, 학습 history, Mean Squared error \n",
        "  \"\"\"\n",
        "  # input layer 생성\n",
        "  input = tf.keras.layers.Input(shape = (X.shape[1]), name='inp')\n",
        "  # item id에 대한 Embediing 레이어 생성\n",
        "  emb_item_l = tf.keras.layers.Embedding(len(df_item) + 1, lf_dim_i, \n",
        "                                         embeddings_initializer='zero', embeddings_regularizer = tf.keras.regularizers.L2(l2=l2_i))\n",
        "  # user id에 대한 Embediing 레이어 생성\n",
        "  emb_user_l = tf.keras.layers.Embedding(len(df_user) + 1, lf_dim_u, \n",
        "                                         embeddings_initializer='zero', embeddings_regularizer = tf.keras.regularizers.L2(l2=l2_u))\n",
        "  # item embedding에 첫번째 입력 열을 떼어 넣는다, 즉 item id는  입력에 첫번재 열에 있어야 한다.\n",
        "  emb_item = emb_item_l(input[:, 0])\n",
        "  # user embedding에 두번째 입력 열을 떼어 넣는다, 즉 user id는  입력에 두번재 열에 있어야 한다.\n",
        "  emb_user = emb_user_l(input[:, 1])\n",
        "  # item / user embedding과 나머지 입력을 결합한다.\n",
        "  c = tf.keras.layers.Concatenate()([emb_item, emb_user, input[:, 2:]])\n",
        "  # Hidden Unit이 없고 Dense Layer Unit이 1 이면 곧 Linear Regression이 된다.\n",
        "  prd = tf.keras.layers.Dense(1)(c)\n",
        "  model = tf.keras.models.Model(inputs=input, outputs=prd)\n",
        "  model.compile(tf.keras.optimizers.Adam(learning_rate=learning_rate), tf.keras.losses.mean_squared_error)\n",
        "  # df_base로 모델을 학습시키고, df_test로 검증한다.\n",
        "  hist = model.fit(x=X, y=y, validation_data=eval_set, epochs=epochs, verbose=verbose)\n",
        "  mse = np.mean(np.square(np.hstack(model.predict(eval_set[0])) - eval_set[1]))\n",
        "  return model, hist, mse"
      ],
      "execution_count": 83,
      "outputs": []
    },
    {
      "cell_type": "code",
      "metadata": {
        "id": "N9lG0K40n9Wv"
      },
      "source": [
        "df_base, df_test = read_dataset(1)"
      ],
      "execution_count": 84,
      "outputs": []
    },
    {
      "cell_type": "code",
      "metadata": {
        "id": "Qn1IrNfOQVX-",
        "colab": {
          "base_uri": "https://localhost:8080/"
        },
        "outputId": "0b13a452-38d2-43c4-fd72-a54749fad48d"
      },
      "source": [
        "tf.random.set_seed(1)\n",
        "# Parameter 최적화 방법을 따로 쓰지는 않고, 실험을 거듭하면서 가장 좋은 결과를 냈던 learning rate, lf_dim_i, lf_dim_u, l2_i, l2u를 사용\n",
        "model, hist_lr, mse_lr = try_lr(df_base[cols], df_base['rating'], (df_test[cols], df_test['rating']), 0.001, 20, 8, 4, 0.0, 0.0)"
      ],
      "execution_count": 85,
      "outputs": [
        {
          "output_type": "stream",
          "name": "stdout",
          "text": [
            "Epoch 1/20\n",
            "2500/2500 [==============================] - 8s 3ms/step - loss: 1.1503 - val_loss: 0.9217\n",
            "Epoch 2/20\n",
            "2500/2500 [==============================] - 7s 3ms/step - loss: 0.8827 - val_loss: 0.9176\n",
            "Epoch 3/20\n",
            "2500/2500 [==============================] - 7s 3ms/step - loss: 0.8747 - val_loss: 0.9142\n",
            "Epoch 4/20\n",
            "2500/2500 [==============================] - 7s 3ms/step - loss: 0.8701 - val_loss: 0.9110\n",
            "Epoch 5/20\n",
            "2500/2500 [==============================] - 7s 3ms/step - loss: 0.8668 - val_loss: 0.9116\n",
            "Epoch 6/20\n",
            "2500/2500 [==============================] - 7s 3ms/step - loss: 0.8643 - val_loss: 0.9111\n",
            "Epoch 7/20\n",
            "2500/2500 [==============================] - 8s 3ms/step - loss: 0.8625 - val_loss: 0.9109\n",
            "Epoch 8/20\n",
            "2500/2500 [==============================] - 8s 3ms/step - loss: 0.8609 - val_loss: 0.9111\n",
            "Epoch 9/20\n",
            "2500/2500 [==============================] - 8s 3ms/step - loss: 0.8590 - val_loss: 0.9128\n",
            "Epoch 10/20\n",
            "2500/2500 [==============================] - 8s 3ms/step - loss: 0.8570 - val_loss: 0.9119\n",
            "Epoch 11/20\n",
            "2500/2500 [==============================] - 7s 3ms/step - loss: 0.8559 - val_loss: 0.9121\n",
            "Epoch 12/20\n",
            "2500/2500 [==============================] - 7s 3ms/step - loss: 0.8544 - val_loss: 0.9165\n",
            "Epoch 13/20\n",
            "2500/2500 [==============================] - 7s 3ms/step - loss: 0.8530 - val_loss: 0.9113\n",
            "Epoch 14/20\n",
            "2500/2500 [==============================] - 7s 3ms/step - loss: 0.8515 - val_loss: 0.9111\n",
            "Epoch 15/20\n",
            "2500/2500 [==============================] - 7s 3ms/step - loss: 0.8504 - val_loss: 0.9158\n",
            "Epoch 16/20\n",
            "2500/2500 [==============================] - 7s 3ms/step - loss: 0.8493 - val_loss: 0.9139\n",
            "Epoch 17/20\n",
            "2500/2500 [==============================] - 7s 3ms/step - loss: 0.8481 - val_loss: 0.9124\n",
            "Epoch 18/20\n",
            "2500/2500 [==============================] - 8s 3ms/step - loss: 0.8466 - val_loss: 0.9149\n",
            "Epoch 19/20\n",
            "2500/2500 [==============================] - 7s 3ms/step - loss: 0.8459 - val_loss: 0.9136\n",
            "Epoch 20/20\n",
            "2500/2500 [==============================] - 7s 3ms/step - loss: 0.8443 - val_loss: 0.9151\n"
          ]
        }
      ]
    },
    {
      "cell_type": "markdown",
      "metadata": {
        "id": "T43f6bQsEBLF"
      },
      "source": [
        "##3.Multi-layer Neural Networks"
      ]
    },
    {
      "cell_type": "markdown",
      "metadata": {
        "id": "mljP7eYztjRB"
      },
      "source": [
        "Linear Regression에 Hidden Unit을 붙여 Multi-layer Neural Networks를 붙였다."
      ]
    },
    {
      "cell_type": "code",
      "metadata": {
        "id": "dves99WZjbTK"
      },
      "source": [
        "# Liner Regression과 마찬가지로 categorical feature을 직접 취할 수 없다. one_hot, variable로 치환하고\n",
        "# 비균등한 feature(item_rating_count, view_rating_count, date_diff) 등은 binning해서 사용한다.\n",
        "cols = ['item id', 'user id', 'user_rating_mean', 'item_rating_mean']\n",
        "cols += genre + occ_cols + aged_cols + date_diffd_cols + item_rating_countd_cols + user_rating_countd_cols + post1_cols"
      ],
      "execution_count": 86,
      "outputs": []
    },
    {
      "cell_type": "code",
      "metadata": {
        "id": "rQBb_rW_EAfQ"
      },
      "source": [
        "def try_nn(X, y, eval_set, \n",
        "           units=[(16, 0.5)], learning_rate=0.001, learning_rate_scheduler=None, \n",
        "           epochs=20, lf_dim_i=8, lf_dim_u=4, l2_i = 0.0, l2_u =0.0, verbose=1):\n",
        "  \"\"\"\n",
        "  Neural Network 모델을 학습시키고, 검증한다.\n",
        "  또한, eval_set을 통하여 학습 중간에 검증셋에 대한 MSE의 변화를 측정한다.\n",
        "  \n",
        "  Parameters\n",
        "  ----------\n",
        "  X: dataframe\n",
        "    - input data, 첫번째 항목은 item id 두번째 항목은 user id여야 한다.\n",
        "  y: series\n",
        "    - target\n",
        "  eval_set: tuple\n",
        "    (eval input,eval y) - 검증데이터\n",
        "  units: list\n",
        "    Neural Network의 hidden layer에 대한 (unit의 수 , dropout rate) \n",
        "  learning_rate: float\n",
        "    학습율\n",
        "  epochs: integer\n",
        "    학습 Loop 수\n",
        "  lf_dim_i: integer\n",
        "    item의 embedding 수\n",
        "  lf_dim_u: integer\n",
        "    user의 embedding 수\n",
        "  l2_i: float\n",
        "    item embedding의 l2 regularization 계수\n",
        "  l2_u: float\n",
        "    user embedding의 l2 regularization 계수\n",
        "  verbose: int\n",
        "    Training Metric 출력\n",
        "  \n",
        "  Returns\n",
        "  -------\n",
        "    object, list, float\n",
        "      - regressor, 학습 history, Mean Squared error \n",
        "  \"\"\"\n",
        "  # input layer 생성\n",
        "  input = tf.keras.layers.Input(shape = (X.shape[1]), name='inp')\n",
        "  # item id에 대한 Embediing 레이어 생성\n",
        "  emb_item_l = tf.keras.layers.Embedding(len(df_item) + 1, lf_dim_i, \n",
        "                                         embeddings_initializer='zero', embeddings_regularizer = tf.keras.regularizers.L2(l2=l2_i))\n",
        "  # user id에 대한 Embediing 레이어 생성\n",
        "  emb_user_l = tf.keras.layers.Embedding(len(df_user) + 1, lf_dim_u, \n",
        "                                         embeddings_initializer='zero', embeddings_regularizer = tf.keras.regularizers.L2(l2=l2_u))\n",
        "  # item embedding에 첫번째 입력 열을 떼어 넣는다, 즉 item id는  입력에 첫번재 열에 있어야 한다.\n",
        "  emb_item = emb_item_l(input[:, 0])\n",
        "  # user embedding에 두번째 입력 열을 떼어 넣는다, 즉 user id는  입력에 두번재 열에 있어야 한다.\n",
        "  emb_user = emb_user_l(input[:, 1])\n",
        "  # item / user embedding과 나머지 입력을 결합한다.\n",
        "  c = tf.keras.layers.Concatenate()([emb_item, emb_user, input[:, 2:]])\n",
        "  # Hidden Layer 구성\n",
        "  for i, unit in enumerate(units):\n",
        "    # Hidden Unit이 없고 Dense Layer Unit이 1 이면 곧 Linear Regression이 된다.\n",
        "    c = tf.keras.layers.Dense(unit[0])(c)\n",
        "    c = tf.keras.layers.BatchNormalization()(c)\n",
        "    if unit[1] > 0:\n",
        "      c = tf.keras.layers.Dropout(unit[1])(c)\n",
        "    c = tf.keras.layers.ReLU()(c)\n",
        "  # Logit Layer\n",
        "  prd = tf.keras.layers.Dense(1)(c)\n",
        "  model = tf.keras.models.Model(inputs=input, outputs=prd)\n",
        "  model.compile(tf.keras.optimizers.Adam(learning_rate=learning_rate), tf.keras.losses.mean_squared_error)\n",
        "  # Learning rate를 callback을 통해서 epoch가 진행될 때마다 변경할 수 있게 한다.\n",
        "  if learning_rate_scheduler != None:\n",
        "    callbacks = [tf.keras.callbacks.LearningRateScheduler(learning_rate_scheduler)]\n",
        "  else:\n",
        "    callbacks = None\n",
        "  # df_base로 모델을 학습시키고, df_test로 검증한다.\n",
        "  hist = model.fit(x=X, y=y, validation_data=eval_set, epochs=epochs, verbose=verbose, callbacks=callbacks)\n",
        "  mse = np.mean(np.square(np.hstack(model.predict(eval_set[0])) - eval_set[1]))\n",
        "  return model, hist, mse"
      ],
      "execution_count": 87,
      "outputs": []
    },
    {
      "cell_type": "code",
      "metadata": {
        "id": "hoZ1tlPlqAlM"
      },
      "source": [
        "df_base, df_test = read_dataset(1)"
      ],
      "execution_count": 88,
      "outputs": []
    },
    {
      "cell_type": "code",
      "metadata": {
        "id": "8E6rV3bmjqgx",
        "colab": {
          "base_uri": "https://localhost:8080/"
        },
        "outputId": "9c9679c7-2ec4-4a48-db7d-0aae552cd64e"
      },
      "source": [
        "tf.random.set_seed(1)\n",
        "\n",
        "## Overfit되는 현상을 막기 위해, Learning Rate를 epoch에 따라 낮춰 준다\n",
        "def decay_nn(epoch):\n",
        "  if epoch < 10:\n",
        "    return 1e-3\n",
        "  elif epoch >= 10 and epoch < 15:\n",
        "    return 5e-4\n",
        "  else:\n",
        "    return 2e-4\n",
        "\n",
        "# Parameter 최적화 방법을 따로 쓰지는 않고, 실험을 거듭하면서 가장 좋은 결과를 냈던 units, learning rate, lf_dim_i, lf_dim_u, l2_i, l2u를 사용\n",
        "model, hist_nn, mse_nn = try_nn(df_base[cols], df_base['rating'], (df_test[cols], df_test['rating']),\n",
        "                    [(64, 0.3), (32, 0.15), (16, 0.0)], 0.001, decay_nn, 20, 8, 4, 0.0, 0.0)"
      ],
      "execution_count": 89,
      "outputs": [
        {
          "output_type": "stream",
          "name": "stdout",
          "text": [
            "Epoch 1/20\n",
            "2500/2500 [==============================] - 14s 5ms/step - loss: 1.7721 - val_loss: 0.9530 - lr: 0.0010\n",
            "Epoch 2/20\n",
            "2500/2500 [==============================] - 12s 5ms/step - loss: 0.9816 - val_loss: 0.9300 - lr: 0.0010\n",
            "Epoch 3/20\n",
            "2500/2500 [==============================] - 14s 5ms/step - loss: 0.9378 - val_loss: 0.9276 - lr: 0.0010\n",
            "Epoch 4/20\n",
            "2500/2500 [==============================] - 12s 5ms/step - loss: 0.9125 - val_loss: 0.9083 - lr: 0.0010\n",
            "Epoch 5/20\n",
            "2500/2500 [==============================] - 12s 5ms/step - loss: 0.8939 - val_loss: 0.8977 - lr: 0.0010\n",
            "Epoch 6/20\n",
            "2500/2500 [==============================] - 13s 5ms/step - loss: 0.8773 - val_loss: 0.8940 - lr: 0.0010\n",
            "Epoch 7/20\n",
            "2500/2500 [==============================] - 13s 5ms/step - loss: 0.8652 - val_loss: 0.8892 - lr: 0.0010\n",
            "Epoch 8/20\n",
            "2500/2500 [==============================] - 14s 5ms/step - loss: 0.8545 - val_loss: 0.8839 - lr: 0.0010\n",
            "Epoch 9/20\n",
            "2500/2500 [==============================] - 13s 5ms/step - loss: 0.8431 - val_loss: 0.8850 - lr: 0.0010\n",
            "Epoch 10/20\n",
            "2500/2500 [==============================] - 13s 5ms/step - loss: 0.8317 - val_loss: 0.8753 - lr: 0.0010\n",
            "Epoch 11/20\n",
            "2500/2500 [==============================] - 13s 5ms/step - loss: 0.8131 - val_loss: 0.8759 - lr: 5.0000e-04\n",
            "Epoch 12/20\n",
            "2500/2500 [==============================] - 12s 5ms/step - loss: 0.8036 - val_loss: 0.8718 - lr: 5.0000e-04\n",
            "Epoch 13/20\n",
            "2500/2500 [==============================] - 12s 5ms/step - loss: 0.7992 - val_loss: 0.8679 - lr: 5.0000e-04\n",
            "Epoch 14/20\n",
            "2500/2500 [==============================] - 12s 5ms/step - loss: 0.7901 - val_loss: 0.8669 - lr: 5.0000e-04\n",
            "Epoch 15/20\n",
            "2500/2500 [==============================] - 14s 5ms/step - loss: 0.7867 - val_loss: 0.8697 - lr: 5.0000e-04\n",
            "Epoch 16/20\n",
            "2500/2500 [==============================] - 12s 5ms/step - loss: 0.7764 - val_loss: 0.8671 - lr: 2.0000e-04\n",
            "Epoch 17/20\n",
            "2500/2500 [==============================] - 13s 5ms/step - loss: 0.7717 - val_loss: 0.8667 - lr: 2.0000e-04\n",
            "Epoch 18/20\n",
            "2500/2500 [==============================] - 12s 5ms/step - loss: 0.7689 - val_loss: 0.8696 - lr: 2.0000e-04\n",
            "Epoch 19/20\n",
            "2500/2500 [==============================] - 13s 5ms/step - loss: 0.7657 - val_loss: 0.8690 - lr: 2.0000e-04\n",
            "Epoch 20/20\n",
            "2500/2500 [==============================] - 12s 5ms/step - loss: 0.7640 - val_loss: 0.8699 - lr: 2.0000e-04\n"
          ]
        }
      ]
    },
    {
      "cell_type": "markdown",
      "metadata": {
        "id": "oCDyrISXER97"
      },
      "source": [
        "##4.Multi-layer Matrix Factorization"
      ]
    },
    {
      "cell_type": "markdown",
      "metadata": {
        "id": "HCp0k4Tts81K"
      },
      "source": [
        "이전 장의 Matrix Factorization에 다른 input을 붙이고, item과 user를 따로 Hidden Layer로 구성 Factorization을 하여 Multi-layer Matrix Factorization을 구성했다."
      ]
    },
    {
      "cell_type": "code",
      "metadata": {
        "id": "d0d6zKkRhAsd"
      },
      "source": [
        "def try_mf(Xi, Xu, y, eval_set, \n",
        "           units_i=[(4, 0.5)], units_u=[(4, 0.5)], learning_rate=0.001, learning_rate_scheduler=None, \n",
        "           epochs=20, lf_dim_i=8, lf_dim_u=4, l2_i=0.0, l2_u=0.0, verbose=1):\n",
        "  \"\"\"\n",
        "  Multi Layer Matrix Factorization 모델을 학습시키고, 검증한다.\n",
        "  또한, eval_set을 통하여 학습 중간에 검증셋에 대한 MSE의 변화를 측정한다.\n",
        "  Matrix Factorization의 입력은 item과 user 둘로 나뉜다.\n",
        "  Parameters\n",
        "  ----------\n",
        "  Xi: dataframe\n",
        "    - item input data, 첫번째 항목은 item id \n",
        "  Xu: dataframe\n",
        "    - user input data, 첫번째 항목은 user id여야 한다.\n",
        "  y: series\n",
        "    - target\n",
        "  eval_set: tuple\n",
        "    (eval item input, eval user input,eval y) - 검증데이터\n",
        "  units_i: list\n",
        "    item Neural Network의 hidden layer에 대한 (unit의 수 , dropout rate) \n",
        "  units_u: list\n",
        "    user Neural Network의 hidden layer에 대한 (unit의 수 , dropout rate) \n",
        "  learning_rate: float\n",
        "    학습율\n",
        "  epochs: integer\n",
        "    학습 Loop 수\n",
        "  lf_dim_i: integer\n",
        "    item의 embedding 수\n",
        "  lf_dim_u: integer\n",
        "    user의 embedding 수\n",
        "  l2_i: float\n",
        "    item embedding의 l2 regularization 계수\n",
        "  l2_u: float\n",
        "    user embedding의 l2 regularization 계수\n",
        "  verbose: int\n",
        "    Training Metric 출력\n",
        "  \n",
        "  Returns\n",
        "  -------\n",
        "    object, list, float\n",
        "      - regressor, 학습 history, Mean Squared error \n",
        "  \"\"\"\n",
        "  # item input layer 생성\n",
        "  input_i = tf.keras.layers.Input(shape = (Xi.shape[1]), name='inp_i')\n",
        "  # user input layer 생성\n",
        "  input_u = tf.keras.layers.Input(shape = (Xu.shape[1]), name='inp_u')\n",
        "  # item id에 대한 Embediing 레이어 생성\n",
        "  emb_item_l = tf.keras.layers.Embedding(len(df_item) + 1, lf_dim_i, \n",
        "                                         embeddings_initializer='zero', embeddings_regularizer = tf.keras.regularizers.L2(l2=l2_i))\n",
        "  # user id에 대한 Embediing 레이어 생성\n",
        "  emb_user_l = tf.keras.layers.Embedding(len(df_user) + 1, lf_dim_u, \n",
        "                                         embeddings_initializer='zero', embeddings_regularizer = tf.keras.regularizers.L2(l2=l2_u))\n",
        "  # item embedding에 첫번째 입력 열을 떼어 넣는다, 즉 item id는  입력에 첫번재 열에 있어야 한다.\n",
        "  emb_item = emb_item_l(input_i[:, 0])\n",
        "  # user embedding에 첫번째 입력 열을 떼어 넣는다, 즉 user id는  입력에 첫번재 열에 있어야 한다.\n",
        "  emb_user = emb_user_l(input_u[:, 0])\n",
        "\n",
        "  # item embedding을 item input의 나머지 feature와 결합\n",
        "  ci = tf.keras.layers.Concatenate()([emb_item, input_i[:, 1:]])\n",
        "  #  item의 hidden layer 구성\n",
        "  for i, unit in enumerate(units_i):\n",
        "    ci = tf.keras.layers.Dense(unit[0])(ci)\n",
        "    ci = tf.keras.layers.BatchNormalization()(ci)\n",
        "    if unit[1] > 0:\n",
        "      ci = tf.keras.layers.Dropout(unit[1])(ci)\n",
        "    ci = tf.keras.layers.ReLU()(ci)\n",
        "  \n",
        "  # user embedding을 item input의 나머지 feature와 결합\n",
        "  #  user의 hidden layer 구성\n",
        "  cu = tf.keras.layers.Concatenate()([emb_user, input_u[:, 1:]])\n",
        "  for i, unit in enumerate(units_u):\n",
        "    cu = tf.keras.layers.Dense(unit[0])(cu)\n",
        "    cu = tf.keras.layers.BatchNormalization()(cu)\n",
        "    if unit[1] > 0:\n",
        "      cu = tf.keras.layers.Dropout(unit[1])(cu)\n",
        "    cu = tf.keras.layers.ReLU()(cu)\n",
        "  # Factorization\n",
        "  prd = tf.keras.layers.Dot(axes=1)([ci , cu])\n",
        "  model = tf.keras.models.Model(inputs=[input_i, input_u], outputs=prd)\n",
        "  model.compile(tf.keras.optimizers.Adam(learning_rate=learning_rate), tf.keras.losses.mean_squared_error)\n",
        "  # Learning rate를 callback을 통해서 epoch가 진행될 때마다 변경할 수 있게 한다.\n",
        "  if learning_rate_scheduler != None:\n",
        "    callbacks = [tf.keras.callbacks.LearningRateScheduler(learning_rate_scheduler)]\n",
        "  else:\n",
        "    callbacks = None\n",
        "  # df_base로 모델을 학습시키고, df_test로 검증한다.\n",
        "  hist = model.fit(x=(Xi, Xu), y=y, validation_data=eval_set, epochs=epochs, verbose=verbose, callbacks=callbacks)\n",
        "  mse = np.mean(np.square(np.hstack(model.predict(eval_set[0])) - eval_set[1]))\n",
        "  return model, hist, mse"
      ],
      "execution_count": 90,
      "outputs": []
    },
    {
      "cell_type": "code",
      "metadata": {
        "id": "-CZuE9Lkl7gq"
      },
      "source": [
        "# Item input에서 사용할 컬럼\n",
        "cols_i = ['item id', 'item_rating_mean']\n",
        "# user input에서 사용할 컬럼\n",
        "cols_u = ['user id', 'user_rating_mean']\n",
        "cols_i += genre + item_rating_countd_cols\n",
        "cols_u += occ_cols + aged_cols + date_diffd_cols + post1_cols"
      ],
      "execution_count": 91,
      "outputs": []
    },
    {
      "cell_type": "code",
      "metadata": {
        "id": "88qog7jzrm-U"
      },
      "source": [
        "df_base, df_test = read_dataset(1)"
      ],
      "execution_count": 92,
      "outputs": []
    },
    {
      "cell_type": "code",
      "metadata": {
        "id": "WX7oAcBzrnnC",
        "colab": {
          "base_uri": "https://localhost:8080/"
        },
        "outputId": "4e294c5b-518e-4faa-812d-2ffda6e40a13"
      },
      "source": [
        "tf.random.set_seed(1)\n",
        "\n",
        "## Overfit되는 현상을 막기 위해, Learning Rate를 epoch에 따라 낮춰 준다\n",
        "def decay_mf(epoch):\n",
        "  if epoch < 5:\n",
        "    return 1e-3\n",
        "  elif epoch >= 5 and epoch < 10:\n",
        "    return 5e-4\n",
        "  else:\n",
        "    return 2e-4\n",
        "\n",
        "# Parameter 최적화 방법을 따로 쓰지는 않고, 실험을 거듭하면서 가장 좋은 결과를 냈던 units_i, units_u, learning rate, lf_dim_i, lf_dim_u, l2_i, l2_u를 사용\n",
        "model, hist_mf, mse_mf = try_mf(df_base[cols_i], df_base[cols_u], df_base['rating'], \n",
        "                    ((df_test[cols_i], df_test[cols_u]), df_test['rating']),[(64, 0.5), (32, 0.05)],[(32, 0.05)], 0.001, decay_mf, 20, 8, 4)"
      ],
      "execution_count": 93,
      "outputs": [
        {
          "output_type": "stream",
          "name": "stdout",
          "text": [
            "Epoch 1/20\n",
            "2500/2500 [==============================] - 16s 6ms/step - loss: 2.6929 - val_loss: 1.4383 - lr: 0.0010\n",
            "Epoch 2/20\n",
            "2500/2500 [==============================] - 13s 5ms/step - loss: 1.3467 - val_loss: 1.0037 - lr: 0.0010\n",
            "Epoch 3/20\n",
            "2500/2500 [==============================] - 13s 5ms/step - loss: 1.0892 - val_loss: 0.9249 - lr: 0.0010\n",
            "Epoch 4/20\n",
            "2500/2500 [==============================] - 13s 5ms/step - loss: 1.0112 - val_loss: 0.9074 - lr: 0.0010\n",
            "Epoch 5/20\n",
            "2500/2500 [==============================] - 13s 5ms/step - loss: 0.9690 - val_loss: 0.9035 - lr: 0.0010\n",
            "Epoch 6/20\n",
            "2500/2500 [==============================] - 13s 5ms/step - loss: 0.9374 - val_loss: 0.8845 - lr: 5.0000e-04\n",
            "Epoch 7/20\n",
            "2500/2500 [==============================] - 13s 5ms/step - loss: 0.9244 - val_loss: 0.8802 - lr: 5.0000e-04\n",
            "Epoch 8/20\n",
            "2500/2500 [==============================] - 14s 6ms/step - loss: 0.9168 - val_loss: 0.8750 - lr: 5.0000e-04\n",
            "Epoch 9/20\n",
            "2500/2500 [==============================] - 14s 6ms/step - loss: 0.9068 - val_loss: 0.8876 - lr: 5.0000e-04\n",
            "Epoch 10/20\n",
            "2500/2500 [==============================] - 14s 6ms/step - loss: 0.8933 - val_loss: 0.8700 - lr: 5.0000e-04\n",
            "Epoch 11/20\n",
            "2500/2500 [==============================] - 13s 5ms/step - loss: 0.8776 - val_loss: 0.8649 - lr: 2.0000e-04\n",
            "Epoch 12/20\n",
            "2500/2500 [==============================] - 15s 6ms/step - loss: 0.8705 - val_loss: 0.8631 - lr: 2.0000e-04\n",
            "Epoch 13/20\n",
            "2500/2500 [==============================] - 13s 5ms/step - loss: 0.8674 - val_loss: 0.8614 - lr: 2.0000e-04\n",
            "Epoch 14/20\n",
            "2500/2500 [==============================] - 14s 6ms/step - loss: 0.8615 - val_loss: 0.8615 - lr: 2.0000e-04\n",
            "Epoch 15/20\n",
            "2500/2500 [==============================] - 14s 6ms/step - loss: 0.8589 - val_loss: 0.8612 - lr: 2.0000e-04\n",
            "Epoch 16/20\n",
            "2500/2500 [==============================] - 14s 6ms/step - loss: 0.8547 - val_loss: 0.8587 - lr: 2.0000e-04\n",
            "Epoch 17/20\n",
            "2500/2500 [==============================] - 14s 6ms/step - loss: 0.8484 - val_loss: 0.8600 - lr: 2.0000e-04\n",
            "Epoch 18/20\n",
            "2500/2500 [==============================] - 13s 5ms/step - loss: 0.8485 - val_loss: 0.8580 - lr: 2.0000e-04\n",
            "Epoch 19/20\n",
            "2500/2500 [==============================] - 13s 5ms/step - loss: 0.8518 - val_loss: 0.8574 - lr: 2.0000e-04\n",
            "Epoch 20/20\n",
            "2500/2500 [==============================] - 13s 5ms/step - loss: 0.8426 - val_loss: 0.8588 - lr: 2.0000e-04\n"
          ]
        }
      ]
    },
    {
      "cell_type": "markdown",
      "metadata": {
        "id": "kj5MWMhrA_VJ"
      },
      "source": [
        "##5.Multi-layer Factorization Networks"
      ]
    },
    {
      "cell_type": "markdown",
      "metadata": {
        "id": "lr7Ntx8ROqJ7"
      },
      "source": [
        "Matrix Factorization과 Neural Network를 결합한 모델"
      ]
    },
    {
      "cell_type": "code",
      "metadata": {
        "id": "2e2Necnd9lTy"
      },
      "source": [
        "def try_fnn(Xi, Xu, y, eval_set, \n",
        "           units_i=[(4, 0.5)], units_u=[(4, 0.5)], units=[(1, 0.0)], learning_rate=0.001, learning_rate_scheduler=None, \n",
        "           epochs=20, lf_dim_i=8, lf_dim_u=4, l2_i=0.0, l2_u=0.0, verbose=1):\n",
        "  \"\"\"\n",
        "  Multi Layer Matrix Factorization 모델을 학습시키고, 검증한다.\n",
        "  또한, eval_set을 통하여 학습 중간에 검증셋에 대한 MSE의 변화를 측정한다.\n",
        "  Matrix Factorization의 입력은 item과 user 둘로 나뉜다.\n",
        "  Parameters\n",
        "  ----------\n",
        "  Xi: dataframe\n",
        "    - item input data, 첫번째 항목은 item id \n",
        "  Xu: dataframe\n",
        "    - user input data, 첫번째 항목은 user id여야 한다.\n",
        "  y: series\n",
        "    - target\n",
        "  eval_set: tuple\n",
        "    (eval item input, eval user input,eval y) - 검증데이터\n",
        "  units_i: list\n",
        "    item Neural Network의 hidden layer에 대한 (unit의 수 , dropout rate) \n",
        "  units_u: list\n",
        "    user Neural Network의 hidden layer에 대한 (unit의 수 , dropout rate) \n",
        "  learning_rate: float\n",
        "    학습율\n",
        "  epochs: integer\n",
        "    학습 Loop 수\n",
        "  lf_dim_i: integer\n",
        "    item의 embedding 수\n",
        "  lf_dim_u: integer\n",
        "    user의 embedding 수\n",
        "  l2_i: float\n",
        "    item embedding의 l2 regularization 계수\n",
        "  l2_u: float\n",
        "    user embedding의 l2 regularization 계수\n",
        "  verbose: int\n",
        "    Training Metric 출력\n",
        "  \n",
        "  Returns\n",
        "  -------\n",
        "    object, list, float\n",
        "      - regressor, 학습 history, Mean Squared error \n",
        "  \"\"\"\n",
        "  # item input layer 생성\n",
        "  input_i = tf.keras.layers.Input(shape = (Xi.shape[1]), name='inp_i')\n",
        "  # user input layer 생성\n",
        "  input_u = tf.keras.layers.Input(shape = (Xu.shape[1]), name='inp_u')\n",
        "  # item id에 대한 Embediing 레이어 생성\n",
        "  emb_item_l = tf.keras.layers.Embedding(len(df_item) + 1, lf_dim_i, \n",
        "                                         embeddings_initializer='zero', embeddings_regularizer = tf.keras.regularizers.L2(l2=l2_i))\n",
        "  # user id에 대한 Embediing 레이어 생성\n",
        "  emb_user_l = tf.keras.layers.Embedding(len(df_user) + 1, lf_dim_u, \n",
        "                                         embeddings_initializer='zero', embeddings_regularizer = tf.keras.regularizers.L2(l2=l2_u))\n",
        "  # item embedding에 첫번째 입력 열을 떼어 넣는다, 즉 item id는  입력에 첫번재 열에 있어야 한다.\n",
        "  emb_item = emb_item_l(input_i[:, 0])\n",
        "  # user embedding에 첫번째 입력 열을 떼어 넣는다, 즉 user id는  입력에 첫번재 열에 있어야 한다.\n",
        "  emb_user = emb_user_l(input_u[:, 0])\n",
        "\n",
        "  # item embedding을 item input의 나머지 feature와 결합\n",
        "  ci = tf.keras.layers.Concatenate()([emb_item, input_i[:, 1:]])\n",
        "  #  item의 hidden layer 구성\n",
        "  for i, unit in enumerate(units_i):\n",
        "    ci = tf.keras.layers.Dense(unit[0])(ci)\n",
        "    ci = tf.keras.layers.BatchNormalization()(ci)\n",
        "    if unit[1] > 0:\n",
        "      ci = tf.keras.layers.Dropout(unit[1])(ci)\n",
        "    ci = tf.keras.layers.ReLU()(ci)\n",
        "  \n",
        "  # user embedding을 item input의 나머지 feature와 결합\n",
        "  #  user의 hidden layer 구성\n",
        "  cu = tf.keras.layers.Concatenate()([emb_user, input_u[:, 1:]])\n",
        "  for i, unit in enumerate(units_u):\n",
        "    cu = tf.keras.layers.Dense(unit[0])(cu)\n",
        "    cu = tf.keras.layers.BatchNormalization()(cu)\n",
        "    if unit[1] > 0:\n",
        "      cu = tf.keras.layers.Dropout(unit[1])(cu)\n",
        "    cu = tf.keras.layers.ReLU()(cu)\n",
        "  # Factorization\n",
        "  c = tf.keras.layers.Multiply()([ci , cu])\n",
        "  for i, unit in enumerate(units):\n",
        "    c = tf.keras.layers.Dense(unit[0])(c)\n",
        "    c = tf.keras.layers.BatchNormalization()(c)\n",
        "    if unit[1] > 0:\n",
        "      c = tf.keras.layers.Dropout(unit[1])(c)\n",
        "    c = tf.keras.layers.ReLU()(c)\n",
        "  prd = tf.keras.layers.Dense(units=1)(c)\n",
        "  model = tf.keras.models.Model(inputs=[input_i, input_u], outputs=prd)\n",
        "  model.compile(tf.keras.optimizers.Adam(learning_rate=learning_rate), tf.keras.losses.mean_squared_error)\n",
        "  # Learning rate를 callback을 통해서 epoch가 진행될 때마다 변경할 수 있게 한다.\n",
        "  if learning_rate_scheduler != None:\n",
        "    callbacks = [tf.keras.callbacks.LearningRateScheduler(learning_rate_scheduler)]\n",
        "  else:\n",
        "    callbacks = None\n",
        "  # df_base로 모델을 학습시키고, df_test로 검증한다.\n",
        "  hist = model.fit(x=(Xi, Xu), y=y, validation_data=eval_set, epochs=epochs, verbose=verbose, callbacks=callbacks)\n",
        "  mse = np.mean(np.square(np.hstack(model.predict(eval_set[0])) - eval_set[1]))\n",
        "  return model, hist, mse"
      ],
      "execution_count": 94,
      "outputs": []
    },
    {
      "cell_type": "code",
      "metadata": {
        "id": "fr2uhfPSHJbS"
      },
      "source": [
        "# Item input에서 사용할 컬럼\n",
        "cols_i = ['item id', 'item_rating_mean']\n",
        "# user input에서 사용할 컬럼\n",
        "cols_u = ['user id', 'user_rating_mean']\n",
        "cols_i += genre + item_rating_countd_cols\n",
        "cols_u += occ_cols + aged_cols + date_diffd_cols + post1_cols"
      ],
      "execution_count": 95,
      "outputs": []
    },
    {
      "cell_type": "code",
      "metadata": {
        "id": "I9i9ELN8HFCC"
      },
      "source": [
        "df_base, df_test = read_dataset(1)"
      ],
      "execution_count": 96,
      "outputs": []
    },
    {
      "cell_type": "code",
      "metadata": {
        "id": "sXpqUTW_Bvkp",
        "colab": {
          "base_uri": "https://localhost:8080/"
        },
        "outputId": "f413b93f-da10-435f-fdbd-5514c4d5c4a0"
      },
      "source": [
        "tf.random.set_seed(1)\n",
        "\n",
        "\n",
        "# Parameter 최적화 방법을 따로 쓰지는 않고, 실험을 거듭하면서 가장 좋은 결과를 냈던 units_i, units_u, learning rate, lf_dim_i, lf_dim_u, l2_i, l2_u를 사용\n",
        "model, hist_fnn, mse_fnn = try_fnn(df_base[cols_i], df_base[cols_u], df_base['rating'], \n",
        "                    ((df_test[cols_i], df_test[cols_u]), df_test['rating']),[(64, 0.5), (32, 0.05)],[(32, 0.05)], [(16, 0.0)], 0.001, None, 20, 8, 4)"
      ],
      "execution_count": 97,
      "outputs": [
        {
          "output_type": "stream",
          "name": "stdout",
          "text": [
            "Epoch 1/20\n",
            "2500/2500 [==============================] - 16s 6ms/step - loss: 2.2107 - val_loss: 1.0152\n",
            "Epoch 2/20\n",
            "2500/2500 [==============================] - 15s 6ms/step - loss: 1.0228 - val_loss: 0.9650\n",
            "Epoch 3/20\n",
            "2500/2500 [==============================] - 16s 6ms/step - loss: 0.9594 - val_loss: 0.9399\n",
            "Epoch 4/20\n",
            "2500/2500 [==============================] - 15s 6ms/step - loss: 0.9276 - val_loss: 0.9205\n",
            "Epoch 5/20\n",
            "2500/2500 [==============================] - 16s 6ms/step - loss: 0.9056 - val_loss: 0.9095\n",
            "Epoch 6/20\n",
            "2500/2500 [==============================] - 14s 6ms/step - loss: 0.8878 - val_loss: 0.8968\n",
            "Epoch 7/20\n",
            "2500/2500 [==============================] - 16s 6ms/step - loss: 0.8738 - val_loss: 0.8919\n",
            "Epoch 8/20\n",
            "2500/2500 [==============================] - 16s 6ms/step - loss: 0.8645 - val_loss: 0.8847\n",
            "Epoch 9/20\n",
            "2500/2500 [==============================] - 14s 6ms/step - loss: 0.8549 - val_loss: 0.8841\n",
            "Epoch 10/20\n",
            "2500/2500 [==============================] - 16s 6ms/step - loss: 0.8436 - val_loss: 0.8779\n",
            "Epoch 11/20\n",
            "2500/2500 [==============================] - 15s 6ms/step - loss: 0.8353 - val_loss: 0.8735\n",
            "Epoch 12/20\n",
            "2500/2500 [==============================] - 15s 6ms/step - loss: 0.8257 - val_loss: 0.8698\n",
            "Epoch 13/20\n",
            "2500/2500 [==============================] - 14s 6ms/step - loss: 0.8204 - val_loss: 0.8625\n",
            "Epoch 14/20\n",
            "2500/2500 [==============================] - 15s 6ms/step - loss: 0.8085 - val_loss: 0.8604\n",
            "Epoch 15/20\n",
            "2500/2500 [==============================] - 16s 6ms/step - loss: 0.8055 - val_loss: 0.8602\n",
            "Epoch 16/20\n",
            "2500/2500 [==============================] - 14s 6ms/step - loss: 0.7972 - val_loss: 0.8535\n",
            "Epoch 17/20\n",
            "2500/2500 [==============================] - 16s 6ms/step - loss: 0.7919 - val_loss: 0.8538\n",
            "Epoch 18/20\n",
            "2500/2500 [==============================] - 14s 6ms/step - loss: 0.7870 - val_loss: 0.8551\n",
            "Epoch 19/20\n",
            "2500/2500 [==============================] - 15s 6ms/step - loss: 0.7823 - val_loss: 0.8537\n",
            "Epoch 20/20\n",
            "2500/2500 [==============================] - 15s 6ms/step - loss: 0.7772 - val_loss: 0.8499\n"
          ]
        }
      ]
    },
    {
      "cell_type": "markdown",
      "metadata": {
        "id": "vleUrRoQMAoq"
      },
      "source": [
        "##6.결과 분석"
      ]
    },
    {
      "cell_type": "code",
      "metadata": {
        "id": "FYobov7h9Z5U"
      },
      "source": [
        "df_loss = pd.DataFrame({'epoch': np.arange(2, 21), 'Linear Regression': np.sqrt(hist_lr.history['val_loss'][1:]),\n",
        "                        'Mult-Layer Neural Networks': np.sqrt(hist_nn.history['val_loss'][1:]),\n",
        "                        'Mult-Layer Matrix Factorization': np.sqrt(hist_mf.history['val_loss'][1:]),\n",
        "                        'Mult-Layer Factorization Network': np.sqrt(hist_fnn.history['val_loss'][1:])})"
      ],
      "execution_count": 98,
      "outputs": []
    },
    {
      "cell_type": "code",
      "metadata": {
        "id": "h3HyffPd-n4q"
      },
      "source": [
        "df_loss = pd.melt(df_loss, id_vars=['epoch'], \n",
        "                  value_vars=['Linear Regression', 'Mult-Layer Neural Networks', 'Mult-Layer Matrix Factorization', 'Mult-Layer Factorization Network'], value_name='RMSE')\n",
        "df_loss.columns=['epoch', 'Model', 'RMSE']"
      ],
      "execution_count": 99,
      "outputs": []
    },
    {
      "cell_type": "code",
      "metadata": {
        "id": "0jKr4RvfsNcU",
        "colab": {
          "base_uri": "https://localhost:8080/",
          "height": 332
        },
        "outputId": "076eb367-dcb7-44ac-8ed5-df89fa93a3c4"
      },
      "source": [
        "# 시청한 장르수\n",
        "fig, ax = plt.subplots(figsize=(20, 6))\n",
        "sns.lineplot(x='epoch', y='RMSE', hue='Model', data=df_loss, ax=ax)\n",
        "plt.show()"
      ],
      "execution_count": 100,
      "outputs": [
        {
          "output_type": "display_data",
          "data": {
            "image/png": "[encoded data removed]",
            "text/plain": [
              "<Figure size 1440x432 with 1 Axes>"
            ]
          },
          "metadata": {
            "needs_background": "light"
          }
        }
      ]
    },
    {
      "cell_type": "markdown",
      "metadata": {
        "id": "CYJ5pun1Nb_V"
      },
      "source": [
        "Linear Regression은 epoch epoch가 지남에 따라 유의미한 성능 개선을 보이지 못했다.\n",
        "\n",
        "Multi-layer Neural Networks와 Multi-layer Matrix Factorization 안정적인 Training을 위해서 Learning Rate Decay가 필요했다. \n",
        "\n",
        "반면 Multi-Layer Factorization Network는 따로 Learning Rate Decay가 필요 없었다.\n",
        "\n",
        "Mutli-Layer Neural Networks보다 Multi-Layer Matrix Factorization이 RMSE가 보다 낮았고\n",
        "\n",
        "미세하게 나마 Multi-Layer Matrix Factorization 보다 Multi-Layer Factorization Networks가 성능이 좋았다.\n"
      ]
    },
    {
      "cell_type": "markdown",
      "metadata": {
        "id": "HuSvjqDNi-Rq"
      },
      "source": [
        "가장 RMSE가 낮았던 epoch의 수치"
      ]
    },
    {
      "cell_type": "code",
      "metadata": {
        "id": "YTN2of51Mwb1",
        "colab": {
          "base_uri": "https://localhost:8080/",
          "height": 175
        },
        "outputId": "f9dd28dc-9f69-4dac-9390-9b9a9c2380a8"
      },
      "source": [
        "pd.DataFrame({'Model': ['Linear Regression', \n",
        "                        'Mult-Layer Neural Networks', \n",
        "                        'Mult-Layer Matrix Factorization', \n",
        "                        'Mult-Layer Factorization Network'], \n",
        "              'RMSE': [np.sqrt(np.min(hist_lr.history['val_loss'])), \n",
        "                       np.sqrt(np.min(hist_nn.history['val_loss'])), \n",
        "                       np.sqrt(np.min(hist_mf.history['val_loss'])), \n",
        "                       np.sqrt(np.min(hist_fnn.history['val_loss']))]})"
      ],
      "execution_count": 101,
      "outputs": [
        {
          "output_type": "execute_result",
          "data": {
            "text/html": [
              "\n",
              "  <div id=\"df-cdc4f068-fd0c-4185-9930-b233d4e4f56a\">\n",
              "    <div class=\"colab-df-container\">\n",
              "      <div>\n",
              "<style scoped>\n",
              "    .dataframe tbody tr th:only-of-type {\n",
              "        vertical-align: middle;\n",
              "    }\n",
              "\n",
              "    .dataframe tbody tr th {\n",
              "        vertical-align: top;\n",
              "    }\n",
              "\n",
              "    .dataframe thead th {\n",
              "        text-align: right;\n",
              "    }\n",
              "</style>\n",
              "<table border=\"1\" class=\"dataframe\">\n",
              "  <thead>\n",
              "    <tr style=\"text-align: right;\">\n",
              "      <th></th>\n",
              "      <th>Model</th>\n",
              "      <th>RMSE</th>\n",
              "    </tr>\n",
              "  </thead>\n",
              "  <tbody>\n",
              "    <tr>\n",
              "      <th>0</th>\n",
              "      <td>Linear Regression</td>\n",
              "      <td>0.954420</td>\n",
              "    </tr>\n",
              "    <tr>\n",
              "      <th>1</th>\n",
              "      <td>Mult-Layer Neural Networks</td>\n",
              "      <td>0.930985</td>\n",
              "    </tr>\n",
              "    <tr>\n",
              "      <th>2</th>\n",
              "      <td>Mult-Layer Matrix Factorization</td>\n",
              "      <td>0.925937</td>\n",
              "    </tr>\n",
              "    <tr>\n",
              "      <th>3</th>\n",
              "      <td>Mult-Layer Factorization Network</td>\n",
              "      <td>0.921920</td>\n",
              "    </tr>\n",
              "  </tbody>\n",
              "</table>\n",
              "</div>\n",
              "      <button class=\"colab-df-convert\" onclick=\"convertToInteractive('df-cdc4f068-fd0c-4185-9930-b233d4e4f56a')\"\n",
              "              title=\"Convert this dataframe to an interactive table.\"\n",
              "              style=\"display:none;\">\n",
              "        \n",
              "  <svg xmlns=\"http://www.w3.org/2000/svg\" height=\"24px\"viewBox=\"0 0 24 24\"\n",
              "       width=\"24px\">\n",
              "    <path d=\"M0 0h24v24H0V0z\" fill=\"none\"/>\n",
              "    <path d=\"M18.56 5.44l.94 2.06.94-2.06 2.06-.94-2.06-.94-.94-2.06-.94 2.06-2.06.94zm-11 1L8.5 8.5l.94-2.06 2.06-.94-2.06-.94L8.5 2.5l-.94 2.06-2.06.94zm10 10l.94 2.06.94-2.06 2.06-.94-2.06-.94-.94-2.06-.94 2.06-2.06.94z\"/><path d=\"M17.41 7.96l-1.37-1.37c-.4-.4-.92-.59-1.43-.59-.52 0-1.04.2-1.43.59L10.3 9.45l-7.72 7.72c-.78.78-.78 2.05 0 2.83L4 21.41c.39.39.9.59 1.41.59.51 0 1.02-.2 1.41-.59l7.78-7.78 2.81-2.81c.8-.78.8-2.07 0-2.86zM5.41 20L4 18.59l7.72-7.72 1.47 1.35L5.41 20z\"/>\n",
              "  </svg>\n",
              "      </button>\n",
              "      \n",
              "  <style>\n",
              "    .colab-df-container {\n",
              "      display:flex;\n",
              "      flex-wrap:wrap;\n",
              "      gap: 12px;\n",
              "    }\n",
              "\n",
              "    .colab-df-convert {\n",
              "      background-color: #E8F0FE;\n",
              "      border: none;\n",
              "      border-radius: 50%;\n",
              "      cursor: pointer;\n",
              "      display: none;\n",
              "      fill: #1967D2;\n",
              "      height: 32px;\n",
              "      padding: 0 0 0 0;\n",
              "      width: 32px;\n",
              "    }\n",
              "\n",
              "    .colab-df-convert:hover {\n",
              "      background-color: #E2EBFA;\n",
              "      box-shadow: 0px 1px 2px rgba(60, 64, 67, 0.3), 0px 1px 3px 1px rgba(60, 64, 67, 0.15);\n",
              "      fill: #174EA6;\n",
              "    }\n",
              "\n",
              "    [theme=dark] .colab-df-convert {\n",
              "      background-color: #3B4455;\n",
              "      fill: #D2E3FC;\n",
              "    }\n",
              "\n",
              "    [theme=dark] .colab-df-convert:hover {\n",
              "      background-color: #434B5C;\n",
              "      box-shadow: 0px 1px 3px 1px rgba(0, 0, 0, 0.15);\n",
              "      filter: drop-shadow(0px 1px 2px rgba(0, 0, 0, 0.3));\n",
              "      fill: #FFFFFF;\n",
              "    }\n",
              "  </style>\n",
              "\n",
              "      <script>\n",
              "        const buttonEl =\n",
              "          document.querySelector('#df-cdc4f068-fd0c-4185-9930-b233d4e4f56a button.colab-df-convert');\n",
              "        buttonEl.style.display =\n",
              "          google.colab.kernel.accessAllowed ? 'block' : 'none';\n",
              "\n",
              "        async function convertToInteractive(key) {\n",
              "          const element = document.querySelector('#df-cdc4f068-fd0c-4185-9930-b233d4e4f56a');\n",
              "          const dataTable =\n",
              "            await google.colab.kernel.invokeFunction('convertToInteractive',\n",
              "                                                     [key], {});\n",
              "          if (!dataTable) return;\n",
              "\n",
              "          const docLinkHtml = 'Like what you see? Visit the ' +\n",
              "            '<a target=\"_blank\" href=https://colab.research.google.com/notebooks/data_table.ipynb>data table notebook</a>'\n",
              "            + ' to learn more about interactive tables.';\n",
              "          element.innerHTML = '';\n",
              "          dataTable['output_type'] = 'display_data';\n",
              "          await google.colab.output.renderOutput(dataTable, element);\n",
              "          const docLink = document.createElement('div');\n",
              "          docLink.innerHTML = docLinkHtml;\n",
              "          element.appendChild(docLink);\n",
              "        }\n",
              "      </script>\n",
              "    </div>\n",
              "  </div>\n",
              "  "
            ],
            "text/plain": [
              "                              Model      RMSE\n",
              "0                 Linear Regression  0.954420\n",
              "1        Mult-Layer Neural Networks  0.930985\n",
              "2   Mult-Layer Matrix Factorization  0.925937\n",
              "3  Mult-Layer Factorization Network  0.921920"
            ]
          },
          "metadata": {},
          "execution_count": 101
        }
      ]
    },
    {
      "cell_type": "markdown",
      "metadata": {
        "id": "-FCKGsKgmUag"
      },
      "source": [
        "##7.5-Fold CrossValidation에 대한 결과"
      ]
    },
    {
      "cell_type": "code",
      "metadata": {
        "id": "joazTmlgecmM",
        "colab": {
          "base_uri": "https://localhost:8080/"
        },
        "outputId": "544d7dbe-f419-4623-cab8-a532959096d8"
      },
      "source": [
        "cross_valid_result ={'Linear Regression': [], \n",
        "                     'Mult-Layer Neural Networks': [], \n",
        "                     'Mult-Layer Matrix Factorization': [],\n",
        "                     'Mult-Layer Factorization Network': []}\n",
        "for i in range(1, 6):\n",
        "  print('Dataset no: {}'.format(i))\n",
        "  df_base,  df_test = read_dataset(i)\n",
        "  tf.random.set_seed(1)\n",
        "  # Parameter 최적화 방법을 따로 쓰지는 않고, 실험을 거듭하면서 가장 좋은 결과를 냈던 learning rate, lf_dim_i, lf_dim_u, l2_i, l2u를 사용\n",
        "  model, hist_lr, mse_lr = try_lr(df_base[cols], df_base['rating'], (df_test[cols], df_test['rating']), 0.001, 20, 8, 4, 0.0, 0.0, verbose=0)\n",
        "  cross_valid_result['Linear Regression'].append(np.sqrt(np.min(hist_lr.history['val_loss'])))\n",
        "  tf.random.set_seed(1)\n",
        "  model, hist_nn, mse_nn = try_nn(df_base[cols], df_base['rating'], (df_test[cols], df_test['rating']),\n",
        "                    [(64, 0.3), (32, 0.15), (16, 0.0)], 0.001, decay_nn, 20, 8, 4, 0.0, 0.0, verbose=0)\n",
        "  cross_valid_result['Mult-Layer Neural Networks'].append(np.sqrt(np.min(hist_nn.history['val_loss'])))\n",
        "  tf.random.set_seed(1)\n",
        "  model, hist_mf, mse_mf = try_mf(df_base[cols_i], df_base[cols_u], df_base['rating'], \n",
        "                    ((df_test[cols_i], df_test[cols_u]), df_test['rating']),[(64, 0.5), (32, 0.05)],[(32, 0.05)], 0.001, decay_mf, 20, 8, 4, verbose=0)\n",
        "  cross_valid_result['Mult-Layer Matrix Factorization'].append(np.sqrt(np.min(hist_mf.history['val_loss'])))\n",
        "  tf.random.set_seed(1)\n",
        "  model, hist_fnn, mse_fnn = try_fnn(df_base[cols_i], df_base[cols_u], df_base['rating'], \n",
        "                    ((df_test[cols_i], df_test[cols_u]), df_test['rating']),[(64, 0.5), (32, 0.05)],[(32, 0.05)], [(16, 0.0)], 0.001, None, 20, 8, 4, verbose=0)\n",
        "  cross_valid_result['Mult-Layer Factorization Network'].append(np.sqrt(np.min(hist_fnn.history['val_loss'])))"
      ],
      "execution_count": 102,
      "outputs": [
        {
          "output_type": "stream",
          "name": "stdout",
          "text": [
            "Dataset no: 1\n",
            "Dataset no: 2\n",
            "Dataset no: 3\n",
            "Dataset no: 4\n",
            "Dataset no: 5\n"
          ]
        }
      ]
    },
    {
      "cell_type": "code",
      "metadata": {
        "id": "f077eFggf8IL"
      },
      "source": [
        "df_cross_valid = pd.DataFrame(cross_valid_result)"
      ],
      "execution_count": 103,
      "outputs": []
    },
    {
      "cell_type": "code",
      "metadata": {
        "id": "lN0p9zT3lnCo",
        "colab": {
          "base_uri": "https://localhost:8080/",
          "height": 206
        },
        "outputId": "e859147e-7a40-4ca5-e17b-18de91044688"
      },
      "source": [
        "#5-fold cross-validation에 대한 RMSE 비교\n",
        "df_cross_valid"
      ],
      "execution_count": 104,
      "outputs": [
        {
          "output_type": "execute_result",
          "data": {
            "text/html": [
              "\n",
              "  <div id=\"df-44d3bb18-a26e-4b21-9b04-9a359345b9b2\">\n",
              "    <div class=\"colab-df-container\">\n",
              "      <div>\n",
              "<style scoped>\n",
              "    .dataframe tbody tr th:only-of-type {\n",
              "        vertical-align: middle;\n",
              "    }\n",
              "\n",
              "    .dataframe tbody tr th {\n",
              "        vertical-align: top;\n",
              "    }\n",
              "\n",
              "    .dataframe thead th {\n",
              "        text-align: right;\n",
              "    }\n",
              "</style>\n",
              "<table border=\"1\" class=\"dataframe\">\n",
              "  <thead>\n",
              "    <tr style=\"text-align: right;\">\n",
              "      <th></th>\n",
              "      <th>Linear Regression</th>\n",
              "      <th>Mult-Layer Neural Networks</th>\n",
              "      <th>Mult-Layer Matrix Factorization</th>\n",
              "      <th>Mult-Layer Factorization Network</th>\n",
              "    </tr>\n",
              "  </thead>\n",
              "  <tbody>\n",
              "    <tr>\n",
              "      <th>0</th>\n",
              "      <td>0.954420</td>\n",
              "      <td>0.931075</td>\n",
              "      <td>0.925890</td>\n",
              "      <td>0.923674</td>\n",
              "    </tr>\n",
              "    <tr>\n",
              "      <th>1</th>\n",
              "      <td>0.943692</td>\n",
              "      <td>0.923151</td>\n",
              "      <td>0.916699</td>\n",
              "      <td>0.916352</td>\n",
              "    </tr>\n",
              "    <tr>\n",
              "      <th>2</th>\n",
              "      <td>0.939252</td>\n",
              "      <td>0.915580</td>\n",
              "      <td>0.914651</td>\n",
              "      <td>0.912594</td>\n",
              "    </tr>\n",
              "    <tr>\n",
              "      <th>3</th>\n",
              "      <td>0.938583</td>\n",
              "      <td>0.918353</td>\n",
              "      <td>0.914604</td>\n",
              "      <td>0.913059</td>\n",
              "    </tr>\n",
              "    <tr>\n",
              "      <th>4</th>\n",
              "      <td>0.937976</td>\n",
              "      <td>0.916035</td>\n",
              "      <td>0.910815</td>\n",
              "      <td>0.913927</td>\n",
              "    </tr>\n",
              "  </tbody>\n",
              "</table>\n",
              "</div>\n",
              "      <button class=\"colab-df-convert\" onclick=\"convertToInteractive('df-44d3bb18-a26e-4b21-9b04-9a359345b9b2')\"\n",
              "              title=\"Convert this dataframe to an interactive table.\"\n",
              "              style=\"display:none;\">\n",
              "        \n",
              "  <svg xmlns=\"http://www.w3.org/2000/svg\" height=\"24px\"viewBox=\"0 0 24 24\"\n",
              "       width=\"24px\">\n",
              "    <path d=\"M0 0h24v24H0V0z\" fill=\"none\"/>\n",
              "    <path d=\"M18.56 5.44l.94 2.06.94-2.06 2.06-.94-2.06-.94-.94-2.06-.94 2.06-2.06.94zm-11 1L8.5 8.5l.94-2.06 2.06-.94-2.06-.94L8.5 2.5l-.94 2.06-2.06.94zm10 10l.94 2.06.94-2.06 2.06-.94-2.06-.94-.94-2.06-.94 2.06-2.06.94z\"/><path d=\"M17.41 7.96l-1.37-1.37c-.4-.4-.92-.59-1.43-.59-.52 0-1.04.2-1.43.59L10.3 9.45l-7.72 7.72c-.78.78-.78 2.05 0 2.83L4 21.41c.39.39.9.59 1.41.59.51 0 1.02-.2 1.41-.59l7.78-7.78 2.81-2.81c.8-.78.8-2.07 0-2.86zM5.41 20L4 18.59l7.72-7.72 1.47 1.35L5.41 20z\"/>\n",
              "  </svg>\n",
              "      </button>\n",
              "      \n",
              "  <style>\n",
              "    .colab-df-container {\n",
              "      display:flex;\n",
              "      flex-wrap:wrap;\n",
              "      gap: 12px;\n",
              "    }\n",
              "\n",
              "    .colab-df-convert {\n",
              "      background-color: #E8F0FE;\n",
              "      border: none;\n",
              "      border-radius: 50%;\n",
              "      cursor: pointer;\n",
              "      display: none;\n",
              "      fill: #1967D2;\n",
              "      height: 32px;\n",
              "      padding: 0 0 0 0;\n",
              "      width: 32px;\n",
              "    }\n",
              "\n",
              "    .colab-df-convert:hover {\n",
              "      background-color: #E2EBFA;\n",
              "      box-shadow: 0px 1px 2px rgba(60, 64, 67, 0.3), 0px 1px 3px 1px rgba(60, 64, 67, 0.15);\n",
              "      fill: #174EA6;\n",
              "    }\n",
              "\n",
              "    [theme=dark] .colab-df-convert {\n",
              "      background-color: #3B4455;\n",
              "      fill: #D2E3FC;\n",
              "    }\n",
              "\n",
              "    [theme=dark] .colab-df-convert:hover {\n",
              "      background-color: #434B5C;\n",
              "      box-shadow: 0px 1px 3px 1px rgba(0, 0, 0, 0.15);\n",
              "      filter: drop-shadow(0px 1px 2px rgba(0, 0, 0, 0.3));\n",
              "      fill: #FFFFFF;\n",
              "    }\n",
              "  </style>\n",
              "\n",
              "      <script>\n",
              "        const buttonEl =\n",
              "          document.querySelector('#df-44d3bb18-a26e-4b21-9b04-9a359345b9b2 button.colab-df-convert');\n",
              "        buttonEl.style.display =\n",
              "          google.colab.kernel.accessAllowed ? 'block' : 'none';\n",
              "\n",
              "        async function convertToInteractive(key) {\n",
              "          const element = document.querySelector('#df-44d3bb18-a26e-4b21-9b04-9a359345b9b2');\n",
              "          const dataTable =\n",
              "            await google.colab.kernel.invokeFunction('convertToInteractive',\n",
              "                                                     [key], {});\n",
              "          if (!dataTable) return;\n",
              "\n",
              "          const docLinkHtml = 'Like what you see? Visit the ' +\n",
              "            '<a target=\"_blank\" href=https://colab.research.google.com/notebooks/data_table.ipynb>data table notebook</a>'\n",
              "            + ' to learn more about interactive tables.';\n",
              "          element.innerHTML = '';\n",
              "          dataTable['output_type'] = 'display_data';\n",
              "          await google.colab.output.renderOutput(dataTable, element);\n",
              "          const docLink = document.createElement('div');\n",
              "          docLink.innerHTML = docLinkHtml;\n",
              "          element.appendChild(docLink);\n",
              "        }\n",
              "      </script>\n",
              "    </div>\n",
              "  </div>\n",
              "  "
            ],
            "text/plain": [
              "   Linear Regression  ...  Mult-Layer Factorization Network\n",
              "0           0.954420  ...                          0.923674\n",
              "1           0.943692  ...                          0.916352\n",
              "2           0.939252  ...                          0.912594\n",
              "3           0.938583  ...                          0.913059\n",
              "4           0.937976  ...                          0.913927\n",
              "\n",
              "[5 rows x 4 columns]"
            ]
          },
          "metadata": {},
          "execution_count": 104
        }
      ]
    },
    {
      "cell_type": "code",
      "metadata": {
        "id": "0vTES3jzl19m",
        "colab": {
          "base_uri": "https://localhost:8080/"
        },
        "outputId": "4a8e71e7-bf5c-4d6f-cd58-56cbc160d719"
      },
      "source": [
        "df_cross_valid.mean()"
      ],
      "execution_count": 105,
      "outputs": [
        {
          "output_type": "execute_result",
          "data": {
            "text/plain": [
              "Linear Regression                   0.942785\n",
              "Mult-Layer Neural Networks          0.920839\n",
              "Mult-Layer Matrix Factorization     0.916532\n",
              "Mult-Layer Factorization Network    0.915921\n",
              "dtype: float64"
            ]
          },
          "metadata": {},
          "execution_count": 105
        }
      ]
    }
  ]
}